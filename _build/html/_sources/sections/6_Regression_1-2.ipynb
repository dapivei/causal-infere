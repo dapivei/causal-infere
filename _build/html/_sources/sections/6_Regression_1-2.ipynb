{
 "cells": [
  {
   "cell_type": "markdown",
   "metadata": {},
   "source": [
    "\n",
    "<div align=\"center\">\n",
    "\n",
    "[![Open in Colab](https://colab.research.google.com/assets/colab-badge.svg)](https://colab.research.google.com/github/dapivei/causal-infere/blob/main/sections/6_Regression_1-2.ipynb)\n",
    "\n",
    "</div>\n"
   ]
  },
  {
   "cell_type": "markdown",
   "metadata": {},
   "source": [
    "$$\n",
    "\\begin{array}{c}\n",
    "\\textbf{INTRODUCTION TO CAUSAL INFERENCE}\\\\\\\\\\\\\\\\\n",
    "\\textbf{Daniela Pinto Veizaga, Xiang Pan, and Xiang Gao} \\\\\n",
    "\\textit{Center for Data Science, New York University} \\\\\\\\\\\\\n",
    "\\end{array}\n",
    "$$\n",
    "---"
   ]
  },
  {
   "cell_type": "markdown",
   "metadata": {},
   "source": [
    "$$\n",
    "\\begin{array}{c}\n",
    "\\textbf{Week 6: Regression}\n",
    "\\end{array}\n",
    "$$"
   ]
  },
  {
   "cell_type": "markdown",
   "metadata": {},
   "source": [
    "**Table of contents**<a id='toc0_'></a>    \n",
    "- [Descriptive Regression](#toc1_)    \n",
    "- [Vectorized implementation for linear regression](#toc2_)    \n",
    "- [Kernel Regression](#toc3_)    \n",
    "- [Causal Regression](#toc4_)    \n",
    "  - [Identification](#toc4_1_)    \n",
    "- [Experiments](#toc5_)    \n",
    "  - [Regression Standard Errors](#toc5_1_)    \n",
    "\n",
    "<!-- vscode-jupyter-toc-config\n",
    "\tnumbering=false\n",
    "\tanchor=true\n",
    "\tflat=false\n",
    "\tminLevel=1\n",
    "\tmaxLevel=6\n",
    "\t/vscode-jupyter-toc-config -->\n",
    "<!-- THIS CELL WILL BE REPLACED ON TOC UPDATE. DO NOT WRITE YOUR TEXT IN THIS CELL -->"
   ]
  },
  {
   "cell_type": "markdown",
   "metadata": {},
   "source": [
    "# <a id='toc1_'></a>[Descriptive Regression](#toc0_)"
   ]
  },
  {
   "cell_type": "markdown",
   "metadata": {},
   "source": [
    "\\begin{align}\n",
    "Y=\\beta_0+\\beta_1 X+\\varepsilon\n",
    "\\end{align}"
   ]
  },
  {
   "cell_type": "markdown",
   "metadata": {},
   "source": [
    "\\begin{align}\n",
    "\\min _{b_0, b_1} E\\left[\\left(Y-\\left(b_0+b_1 X\\right)\\right)^2\\right]\n",
    "\\end{align}"
   ]
  },
  {
   "cell_type": "markdown",
   "metadata": {},
   "source": [
    "Residual:\n",
    "\\begin{align}\n",
    "\\varepsilon \\equiv Y-\\left(\\beta_0+\\beta_1 X\\right)\n",
    "\\end{align}"
   ]
  },
  {
   "cell_type": "markdown",
   "metadata": {},
   "source": [
    "\\begin{align}\n",
    "\\begin{aligned}\n",
    "& Y=X^2 \\\\\n",
    "& \\beta_0+\\beta_1 X=1\n",
    "\\end{aligned}\n",
    "\\end{align}"
   ]
  },
  {
   "cell_type": "code",
   "execution_count": 22,
   "metadata": {},
   "outputs": [
    {
     "data": {
      "application/vnd.jupyter.widget-view+json": {
       "model_id": "3b9393b1ecd64a48b1698a5ba6033b54",
       "version_major": 2,
       "version_minor": 0
      },
      "text/plain": [
       "interactive(children=(FloatSlider(value=-10.0, description='Left Boundary', max=0.0, min=-20.0, step=1.0), Flo…"
      ]
     },
     "metadata": {},
     "output_type": "display_data"
    },
    {
     "data": {
      "text/plain": [
       "<function __main__.update_plot(left_boundary, right_boundary, gap)>"
      ]
     },
     "execution_count": 22,
     "metadata": {},
     "output_type": "execute_result"
    }
   ],
   "source": [
    "# Target function\n",
    "def g(x):\n",
    "    return x**2\n",
    "\n",
    "# Modeling function\n",
    "def f(x, beta_0, beta_1):\n",
    "    return beta_0 + beta_1 * x\n",
    "\n",
    "# Loss function\n",
    "def loss(y, y_pred):\n",
    "    return (y - y_pred)**2\n",
    "\n",
    "# Closed-form solution\n",
    "def closed_form_solution(x, y):\n",
    "    beta_1 = (y.dot(x) - y.mean() * x.mean()) / ((x - x.mean())**2).sum()\n",
    "    beta_0 = y.mean() - beta_1 * x.mean()\n",
    "    return beta_0, beta_1\n",
    "\n",
    "# Importing necessary libraries\n",
    "import matplotlib.pyplot as plt\n",
    "import numpy as np\n",
    "from ipywidgets import interact, FloatSlider\n",
    "\n",
    "# Function to update plot with boundaries\n",
    "def update_plot(left_boundary, right_boundary, gap):\n",
    "    # Generate data points within the specified boundary\n",
    "    # x = np.linspace(left_boundary, right_boundary, gap)\n",
    "    x = np.arange(left_boundary, right_boundary, gap)\n",
    "    y = g(x)\n",
    "\n",
    "    # Get closed-form solution for beta_0 and beta_1\n",
    "    beta_0, beta_1 = closed_form_solution(x, y)\n",
    "\n",
    "    # Calculate the predicted values\n",
    "    y_pred = f(x, beta_0, beta_1)\n",
    "\n",
    "    # Plot the target and modeling functions\n",
    "    plt.figure(figsize=(8, 6))\n",
    "    plt.plot(x, y, label='Target Function (g(x))')\n",
    "    plt.plot(x, y_pred, label=f'Modeling Function (f(x, beta_0={beta_0:.2f}, beta_1={beta_1:.2f}))')\n",
    "    plt.legend()\n",
    "    plt.xlabel('x')\n",
    "    plt.ylabel('y')\n",
    "    plt.text(10, 10, f'f(x) = {beta_0:.2f} + {beta_1:.2f}x', fontsize=12, color='red')\n",
    "    plt.text(0, 0, f'f(x) = x^2', fontsize=12, color='blue')\n",
    "    plt.title('Target vs. Modeling Function')\n",
    "    plt.grid(True)\n",
    "    plt.show()\n",
    "\n",
    "# Interactive sliders for setting boundaries\n",
    "interact(update_plot,\n",
    "         left_boundary=FloatSlider(min=-20, max=0, step=1, value=-10, description='Left Boundary'),\n",
    "         right_boundary=FloatSlider(min=0, max=30, step=1, value=20, description='Right Boundary'),\n",
    "         gap=FloatSlider(min=0.1, max=20, step=0.1, value=1, description='Gap'))\n",
    "\n"
   ]
  },
  {
   "cell_type": "markdown",
   "metadata": {},
   "source": [
    "# <a id='toc2_'></a>[Vectorized implementation for linear regression](#toc0_)"
   ]
  },
  {
   "cell_type": "markdown",
   "metadata": {},
   "source": [
    "## Convert a LR with bias to a LR without bias\n",
    "\n",
    "\\begin{align}\n",
    "Y = \\beta_0 + \\beta_1 X + \\varepsilon\n",
    "\\end{align}\n",
    "\n",
    "\\begin{align}\n",
    "\\boldsymbol{\\beta}=\\left[\\begin{array}{c}\n",
    "\\beta_0 \\\\\n",
    "\\beta_1 \\\\\n",
    "\\vdots \\\\\n",
    "\\beta_d\n",
    "\\end{array}\\right] \\quad \\boldsymbol{x}^{\\boldsymbol{\\top}}=\\left[\\begin{array}{llll}\n",
    "1 & x_1 & \\ldots & x_d\n",
    "\\end{array}\\right]\n",
    "\\end{align}\n",
    "\n",
    "\\begin{align}\n",
    "Y = \\mathbb{x}^{\\top} \\mathbb{\\beta} + \\varepsilon\n",
    "\\end{align}\n",
    "\n"
   ]
  },
  {
   "cell_type": "code",
   "execution_count": 17,
   "metadata": {},
   "outputs": [
    {
     "data": {
      "image/png": "[encoded data removed]",
      "text/plain": [
       "<Figure size 800x600 with 1 Axes>"
      ]
     },
     "metadata": {},
     "output_type": "display_data"
    }
   ],
   "source": [
    "# concat the beta_0 and beta_1 as a vector\n",
    "# beta = np.array([beta_0, beta_1])\n",
    "\n",
    "# vectorized implementation for linear regression\n",
    "def vectorized_linear_regression(x, y):\n",
    "    X = np.vstack([np.ones(len(x)), x]).T\n",
    "    beta = np.linalg.inv(X.T.dot(X)).dot(X.T).dot(y)\n",
    "    return beta\n",
    "\n",
    "\n",
    "# redo the plot with vectorized implementation\n",
    "x = np.linspace(0, 30, 100)\n",
    "y = g(x)\n",
    "beta = vectorized_linear_regression(x, y)\n",
    "y_pred = f(x, beta[0], beta[1])\n",
    "\n",
    "plt.figure(figsize=(8, 6))\n",
    "plt.plot(x, y, label='Target Function (g(x))')\n",
    "plt.plot(x, y_pred, label=f'Modeling Function (f(x, beta_0={beta[0]:.2f}, beta_1={beta[1]:.2f}))')\n",
    "plt.legend()\n",
    "plt.xlabel('x')\n",
    "plt.ylabel('y')\n",
    "plt.text(10, 10, f'f(x) = {beta[0]:.2f} + {beta[1]:.2f}x', fontsize=12, color='red')\n",
    "plt.text(0, 0, f'f(x) = x^2', fontsize=12, color='blue')\n",
    "plt.title('Target vs. Modeling Function')\n",
    "plt.grid(True)\n",
    "\n"
   ]
  },
  {
   "cell_type": "markdown",
   "metadata": {},
   "source": [
    "# <a id='toc3_'></a>[Kernel Regression](#toc0_)"
   ]
  },
  {
   "cell_type": "markdown",
   "metadata": {},
   "source": [
    "If we know there is a non-linear relationship between X and Y, can we first map X to higher dimension 'components' and then apply linear regression?\n"
   ]
  },
  {
   "cell_type": "code",
   "execution_count": 33,
   "metadata": {},
   "outputs": [
    {
     "data": {
      "application/vnd.jupyter.widget-view+json": {
       "model_id": "45c1c4590ad941bbadd0e7228bd58d2a",
       "version_major": 2,
       "version_minor": 0
      },
      "text/plain": [
       "interactive(children=(FloatSlider(value=0.1, description='Alpha', max=1.0), IntSlider(value=3, description='De…"
      ]
     },
     "metadata": {},
     "output_type": "display_data"
    },
    {
     "data": {
      "text/plain": [
       "<function __main__.update_plot_kernel_ridge_regression(alpha, degree)>"
      ]
     },
     "execution_count": 33,
     "metadata": {},
     "output_type": "execute_result"
    }
   ],
   "source": [
    "from ipywidgets import FloatSlider, IntSlider\n",
    "\n",
    "# If we know\n",
    "# Polynomial kernel\n",
    "def polynomial_kernel(x, degree):\n",
    "    return np.array([x**i for i in range(1, degree+1)]).T\n",
    "\n",
    "\n",
    "# Kernel Ridge Regression\n",
    "def kernel_ridge_regression(x, y, alpha, degree):\n",
    "    X = polynomial_kernel(x, degree)\n",
    "    print(X.shape)\n",
    "    beta = np.linalg.inv(X.T.dot(X) + alpha * np.eye(X.shape[1])).dot(X.T).dot(y)\n",
    "    return beta\n",
    "\n",
    "def kernel_f(x, beta):\n",
    "    return np.dot(polynomial_kernel(x, len(beta)), beta)\n",
    "\n",
    "def update_plot_kernel_ridge_regression(alpha, degree):\n",
    "    x = np.linspace(0, 30, 100)\n",
    "    y = g(x)\n",
    "    beta = kernel_ridge_regression(x, y, alpha, degree)\n",
    "    print(beta)\n",
    "    y_pred = kernel_f(x, beta)\n",
    "    mse = ((y - y_pred)**2).mean()\n",
    "    print(mse)\n",
    "\n",
    "    plt.figure(figsize=(8, 6))\n",
    "    plt.plot(x, y, label='Target Function (g(x))')\n",
    "    plt.plot(x, y_pred, label=f'Modeling Function (f(x, beta={beta}))', linestyle='--')\n",
    "    plt.legend()\n",
    "    plt.xlabel('x')\n",
    "    plt.ylabel('y')\n",
    "    # plt.text(10, 10, f'f(x) = {beta[0]:.2f} + {beta[1]:.2f}x', fontsize=12, color='red')\n",
    "    plt.text(0, 0, f'f(x) = x^2', fontsize=12, color='blue')\n",
    "    plt.title('Target vs. Modeling Function')\n",
    "    plt.grid(True)\n",
    "    plt.show()\n",
    "interact(update_plot_kernel_ridge_regression,\n",
    "         alpha=FloatSlider(min=0, max=1, step=0.1, value=0.1, description='Alpha'),\n",
    "         degree=IntSlider(min=1, max=10, step=1, value=3, description='Degree'))\n"
   ]
  },
  {
   "cell_type": "markdown",
   "metadata": {},
   "source": [
    "Side Note:\n",
    "\n",
    "What neural network did? Map the input $X$ to a higher dimension representation $\\phi(X)$, and then apply linear classifier/regressor."
   ]
  },
  {
   "cell_type": "markdown",
   "metadata": {},
   "source": [
    "# <a id='toc4_'></a>[Causal Regression](#toc0_)"
   ]
  },
  {
   "cell_type": "markdown",
   "metadata": {},
   "source": [
    "If we assume the linear all-cause model,\n",
    "\\begin{align}\n",
    "    Y (S, U) = \\alpha_0 + \\alpha_1 S +U\n",
    "\\end{align}\n",
    "\n",
    "The causal residual is U. For causal interpretation, $\\mathbb{E}[U] = 0$.\n",
    "\n",
    "If,\n",
    "\n",
    "\\begin{align}\n",
    "    E (U) \\neq 0\n",
    "\\end{align}\n",
    "\n",
    "\n",
    "we redefine the \n",
    "\n",
    "\\begin{align}\n",
    "    & Y (S, U) \\\\\n",
    "    &= \\alpha_0 + \\alpha_1 S +U \\\\\n",
    "    &= (\\tilde{\\alpha}_0 - \\mathbb{E}[U]) + \\alpha_1 S + \\tilde{U} + \\mathbb{E}[U] \\\\\n",
    "    &= \\tilde{\\alpha}_0 + \\alpha_1 S + \\tilde{U}\n",
    "\\end{align}\n",
    "\n",
    "Then we have the $\\mathbb{E}[\\tilde{U}] = 0$.\n",
    "\n"
   ]
  },
  {
   "cell_type": "markdown",
   "metadata": {},
   "source": [
    "Note:\n",
    "\n",
    "If we assume \n",
    "\\begin{align}\n",
    "S \\perp U\n",
    "\\end{align}\n",
    "\n",
    "we can say $\\mathbb{E}[SU] = 0$.\n",
    "\n",
    "\n",
    "\n",
    "\n"
   ]
  },
  {
   "cell_type": "markdown",
   "metadata": {},
   "source": [
    "## <a id='toc4_1_'></a>[Identification](#toc0_)\n",
    "\n",
    "For descriptive regression, we can always identify.\n",
    "\n",
    "For causal regression, we need to make assumptions ($S \\perp U$).\n"
   ]
  },
  {
   "cell_type": "markdown",
   "metadata": {},
   "source": [
    "By transformation, we can have\n",
    "\n",
    "\\begin{align}\n",
    "    \\mathbb{E}[U] = 0 \\\\\n",
    "    \\implies \\mathbb{E}[Y - \\beta_0 - \\beta_1 X] = 0 \\\\\n",
    "    \\implies \\mathbb{E}[Y] = \\beta_0 + \\beta_1 X \\\\\n",
    "    \\implies \\beta_0 = \\mathbb{E}[Y] - \\beta_1 X\n",
    "\\end{align}\n",
    "\n",
    "\n",
    "\n",
    "\n",
    "\n",
    "\n",
    "\n",
    "\n",
    "\n",
    "\n",
    "\n",
    "\n",
    "\n",
    "\n",
    "\n",
    "\n",
    "\n",
    "\n",
    "\n",
    "\n"
   ]
  },
  {
   "cell_type": "markdown",
   "metadata": {},
   "source": [
    "\\begin{align}\n",
    "E[X U] &=0 \\\\\n",
    "\\Rightarrow E\\left[X\\left(Y-\\beta_0+\\beta_1 X\\right)\\right] &=0 \\\\\n",
    "E\\left[X\\left(Y-\\left(E[Y]-\\beta_1 E[X]\\right)+\\beta_1 X\\right)\\right] &=0 & (\\beta_0 = E[Y] - \\beta_1 E[X]) \\\\\n",
    "E\\left[X\\left(Y-E[Y]+\\beta_1(X-E[X])\\right)\\right] & =0 \\\\\n",
    "E\\left[X(Y-E[Y])+\\beta_1 X(X-E[X])\\right] & =0 \\\\\n",
    "E[X(Y-E[Y])]+\\beta_1 E[X(X-E[X])] & =0\n",
    "\\end{align}\n",
    "\n",
    "\\begin{align}\n",
    "\\operatorname{Cov}(X, Y)+\\beta_1 \\operatorname{Var}(X)=0\n",
    "\\end{align}\n",
    "\n",
    "\\begin{align}\n",
    "\\beta_1 = \\frac{\\operatorname{Cov}(X, Y)}{\\operatorname{Var}(X)}\n",
    "\\end{align}\n",
    "\n",
    "\n",
    "\n",
    "\n",
    "\n",
    "\n"
   ]
  },
  {
   "cell_type": "markdown",
   "metadata": {},
   "source": [
    "# <a id='toc5_'></a>[Experiments](#toc0_)"
   ]
  },
  {
   "cell_type": "markdown",
   "metadata": {},
   "source": [
    "S: the state.\n",
    "\n",
    "\\begin{align}\n",
    "Y(S, U)=\\beta_0+\\beta_1 S+U\n",
    "\\end{align}\n",
    "\n",
    "Causal Interpretation, If $S \\perp U$, then\n",
    "\n",
    "\\begin{align}\n",
    "\\beta_1=\\frac{\\operatorname{Cov}(S, Y)}{\\operatorname{Var}(S)}\n",
    "\\end{align}\n",
    "\n",
    "Mapping those things to the experiments context, we have\n",
    "\n",
    "\\begin{align}\n",
    "\\operatorname{Cov}(S, Y)\n",
    "&=E[S Y]-E[S] E[Y]\n",
    "\\end{align}\n",
    "\n",
    "\\begin{align}\n",
    "E[S Y] & =E[E[S Y \\mid S]] \\\\\n",
    "& =E[S Y \\mid S=1] P(S=1)+E[S Y \\mid S=0] P(S=0) \\\\\n",
    "& =E[Y \\mid S=1] P(S=1) \\\\\n",
    "& =E[Y \\mid S=1] p\n",
    "\\end{align}\n",
    "\n",
    "\n",
    "\\begin{align}\n",
    "\\begin{aligned}\n",
    "E[S] E[Y] & =P(S=1)(E[E[Y \\mid S]]) \\\\\n",
    "& =p([E[Y \\mid S=1] p+E[Y \\mid S=0](1-p)) \\\\\n",
    "& =E[Y \\mid S=1] p^2+E[Y \\mid S=0] p(1-p)\n",
    "\\end{aligned}\n",
    "\\end{align}\n"
   ]
  },
  {
   "cell_type": "markdown",
   "metadata": {},
   "source": [
    "\\begin{align}\n",
    "\\begin{aligned}\n",
    "\\operatorname{Var}(X) & =E\\left[S^2\\right]-E[S]^2 \\\\\n",
    "E\\left[S^2\\right] & =E\\left[S^2 \\mid S=1\\right] p+E\\left[S^2 \\mid S=1\\right](1-p) \\\\\n",
    "& =p \\\\\n",
    "E[S]^2 & =p^2 \\\\\n",
    "\\operatorname{Var}(X) & =p-p^2 \\\\\n",
    "& =p(1-p)\n",
    "\\end{aligned}\n",
    "\\end{align}"
   ]
  },
  {
   "cell_type": "markdown",
   "metadata": {},
   "source": [
    "\\begin{align}\n",
    "\\begin{aligned}\n",
    "\\beta_1 & =\\frac{\\operatorname{Cov}(S, Y)}{\\operatorname{Var}(S)} \\\\\n",
    "& =\\frac{p(1-p)(E[Y \\mid S=1]-E[Y \\mid S=0])}{p(1-p)} \\\\\n",
    "& =E[Y \\mid S=1]-E[Y \\mid S=0]\n",
    "\\end{aligned}\n",
    "\\end{align}"
   ]
  },
  {
   "cell_type": "markdown",
   "metadata": {},
   "source": [
    "## <a id='toc5_1_'></a>[Regression Standard Errors](#toc0_)"
   ]
  },
  {
   "cell_type": "markdown",
   "metadata": {},
   "source": [
    "Reference: [Heteroskedasticity-consistent standard errors](https://en.wikipedia.org/wiki/Heteroskedasticity-consistent_standard_errors)"
   ]
  },
  {
   "cell_type": "markdown",
   "metadata": {},
   "source": [
    "For a given estimator,\n",
    "\n",
    "\\begin{align}\n",
    "\\hat{\\beta} = \\frac{\\operatorname{Cov}(S, Y)}{\\operatorname{Var}(S)}\n",
    "\\end{align}\n",
    "\n",
    "Using the matrix form,\n",
    "\n",
    "\\begin{align}\n",
    "\\widehat{\\boldsymbol{\\beta}}_{\\mathrm{OLS}}=\\left(\\mathbf{X}^{\\top} \\mathbf{X}\\right)^{-1} \\mathbf{X}^{\\top} \\mathbf{y}\n",
    "\\end{align}\n",
    "\n",
    "\n",
    "\n",
    "\n",
    "\n"
   ]
  },
  {
   "cell_type": "markdown",
   "metadata": {},
   "source": [
    "\\begin{align}\n",
    "\\mathbb{V}\\left[\\widehat{\\boldsymbol{\\beta}}_{\\text {OLS }}\\right]=\\mathbb{V}\\left[\\left(\\mathbf{X}^{\\top} \\mathbf{X}\\right)^{-1} \\mathbf{X}^{\\top} \\mathbf{y}\\right]=\\left(\\mathbf{X}^{\\top} \\mathbf{X}\\right)^{-1} \\mathbf{X}^{\\top} \\boldsymbol{\\Sigma} \\mathbf{X}\\left(\\mathbf{X}^{\\top} \\mathbf{X}\\right)^{-1}\n",
    "\\end{align}"
   ]
  },
  {
   "cell_type": "markdown",
   "metadata": {},
   "source": [
    "If we have the constant variance for all the residuals, we have\n",
    "\n",
    "\\begin{align}\n",
    "\\mathbb{E}\\left[\\mathbf{u} \\mathbf{u}^{\\top}\\right]=\\sigma^2 \\mathbf{I}_n\n",
    "\\end{align}\n",
    "\n",
    "we can simplify the variance to be\n",
    "\n",
    "\\begin{align}\n",
    "\\mathbb{V}\\left[\\widehat{\\boldsymbol{\\beta}}_{\\text {OLS }}\\right]=\\sigma^2\\left(\\mathbf{X}^{\\top} \\mathbf{X}\\right)^{-1}\n",
    "\\end{align}\n",
    "\n",
    "\n",
    "\n",
    "\n"
   ]
  },
  {
   "cell_type": "markdown",
   "metadata": {},
   "source": [
    "### Clustered Standard Errors (Liang-Zeger standard errors)\n",
    "\n",
    "If the assumption broken and it is hard for us to calculate the Covariance Matrix over all the residuals, we can cluster the data by the cluster variable $C$.\n",
    "\n",
    "Change the $\\Sigma$ to be block diagonal.\n",
    "\n",
    "\\begin{align}\n",
    "\\mathbf{X}^{\\top} \\mathbf{\\Sigma} \\mathbf{X} = \\sum_{c \\in C} \\mathbf{X}_{c}^{\\top} \\Omega_{c}  \\mathbf{X}_{c}\n",
    "\\end{align}\n",
    "\n",
    "\n",
    "(with an example)"
   ]
  },
  {
   "cell_type": "code",
   "execution_count": null,
   "metadata": {},
   "outputs": [],
   "source": [
    "import numpy as np\n",
    "import pandas as pd\n",
    "import statsmodels.api as sm\n",
    "import statsmodels.formula.api as smf\n",
    "\n",
    "# Set random seed for reproducibility\n",
    "np.random.seed(42)\n",
    "\n",
    "# Simulate data\n",
    "n_clusters = 10  # Number of clusters\n",
    "n_per_cluster = 50  # Number of observations per cluster\n",
    "\n",
    "cluster_ids = np.repeat(np.arange(n_clusters), n_per_cluster)\n",
    "X = np.random.randn(n_clusters * n_per_cluster)  # Random independent variable\n",
    "beta = 2.0\n",
    "\n",
    "# Cluster-level random effects\n",
    "cluster_effects = np.random.randn(n_clusters)\n",
    "\n",
    "# Generate outcome variable with cluster-level effects\n",
    "y = beta * X + cluster_effects[cluster_ids] + np.random.randn(n_clusters * n_per_cluster) * 0.5\n",
    "\n",
    "# Put data into a DataFrame\n",
    "data = pd.DataFrame({\n",
    "    'y': y,\n",
    "    'X': X,\n",
    "    'cluster': cluster_ids\n",
    "})\n",
    "\n",
    "# Fit OLS model\n",
    "ols_model = smf.ols('y ~ X', data=data).fit()\n",
    "\n",
    "# Print results without clustered standard errors\n",
    "print(\"OLS Results without Clustered Standard Errors:\\n\")\n",
    "print(ols_model.summary())"
   ]
  },
  {
   "cell_type": "code",
   "execution_count": 2,
   "metadata": {},
   "outputs": [
    {
     "name": "stdout",
     "output_type": "stream",
     "text": [
      "OLS Results with Clustered Standard Errors:\n",
      "\n",
      "                            OLS Regression Results                            \n",
      "==============================================================================\n",
      "Dep. Variable:                      y   R-squared:                       0.780\n",
      "Model:                            OLS   Adj. R-squared:                  0.780\n",
      "Method:                 Least Squares   F-statistic:                     3321.\n",
      "Date:                Fri, 11 Oct 2024   Prob (F-statistic):           7.18e-13\n",
      "Time:                        03:18:17   Log-Likelihood:                -727.48\n",
      "No. Observations:                 500   AIC:                             1459.\n",
      "Df Residuals:                     498   BIC:                             1467.\n",
      "Df Model:                           1                                         \n",
      "Covariance Type:              cluster                                         \n",
      "==============================================================================\n",
      "                 coef    std err          t      P>|t|      [0.025      0.975]\n",
      "------------------------------------------------------------------------------\n",
      "Intercept     -0.1154      0.307     -0.376      0.715      -0.809       0.578\n",
      "X              1.9931      0.035     57.632      0.000       1.915       2.071\n",
      "==============================================================================\n",
      "Omnibus:                       29.799   Durbin-Watson:                   0.481\n",
      "Prob(Omnibus):                  0.000   Jarque-Bera (JB):               33.824\n",
      "Skew:                           0.635   Prob(JB):                     4.52e-08\n",
      "Kurtosis:                       3.100   Cond. No.                         1.02\n",
      "==============================================================================\n",
      "\n",
      "Notes:\n",
      "[1] Standard Errors are robust to cluster correlation (cluster)\n"
     ]
    }
   ],
   "source": [
    "import numpy as np\n",
    "import pandas as pd\n",
    "import statsmodels.api as sm\n",
    "import statsmodels.formula.api as smf\n",
    "\n",
    "# Set random seed for reproducibility\n",
    "np.random.seed(42)\n",
    "\n",
    "# Simulate data\n",
    "n_clusters = 10  # Number of clusters\n",
    "n_per_cluster = 50  # Number of observations per cluster\n",
    "\n",
    "cluster_ids = np.repeat(np.arange(n_clusters), n_per_cluster)\n",
    "X = np.random.randn(n_clusters * n_per_cluster)  # Random independent variable\n",
    "beta = 2.0\n",
    "\n",
    "# Cluster-level random effects\n",
    "cluster_effects = np.random.randn(n_clusters)\n",
    "\n",
    "# Generate outcome variable with cluster-level effects\n",
    "y = beta * X + cluster_effects[cluster_ids] + np.random.randn(n_clusters * n_per_cluster) * 0.5\n",
    "\n",
    "# Put data into a DataFrame\n",
    "data = pd.DataFrame({\n",
    "    'y': y,\n",
    "    'X': X,\n",
    "    'cluster': cluster_ids\n",
    "})\n",
    "\n",
    "# Fit OLS model\n",
    "ols_model = smf.ols('y ~ X', data=data).fit()\n",
    "\n",
    "# Calculate clustered standard errors\n",
    "clustered_se = ols_model.get_robustcov_results(cov_type='cluster', groups=data['cluster'])\n",
    "\n",
    "# Print results\n",
    "print(\"OLS Results with Clustered Standard Errors:\\n\")\n",
    "print(clustered_se.summary())"
   ]
  },
  {
   "cell_type": "markdown",
   "metadata": {},
   "source": []
  }
 ],
 "metadata": {
  "kernelspec": {
   "display_name": "312",
   "language": "python",
   "name": "python3"
  },
  "language_info": {
   "codemirror_mode": {
    "name": "ipython",
    "version": 3
   },
   "file_extension": ".py",
   "mimetype": "text/x-python",
   "name": "python",
   "nbconvert_exporter": "python",
   "pygments_lexer": "ipython3",
   "version": "3.12.0"
  }
 },
 "nbformat": 4,
 "nbformat_minor": 2
}
