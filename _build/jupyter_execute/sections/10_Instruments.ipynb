{
 "cells": [
  {
   "cell_type": "markdown",
   "metadata": {
    "id": "MKfKn7BANzBf"
   },
   "source": [
    "\n",
    "<div align=\"center\">\n",
    "\n",
    "[![Open in Colab](https://colab.research.google.com/assets/colab-badge.svg)](https://colab.research.google.com/github/dapivei/causal-infere/blob/main/sections/10_Instruments.ipynb)\n",
    "\n",
    "</div>"
   ]
  },
  {
   "cell_type": "markdown",
   "metadata": {},
   "source": [
    "# Instrumental Variables"
   ]
  },
  {
   "cell_type": "markdown",
   "metadata": {
    "id": "5OpyK7HaaTzV"
   },
   "source": [
    "## Recap From Last Class\n",
    "+ Control variables, matching."
   ]
  },
  {
   "cell_type": "markdown",
   "metadata": {
    "id": "TbSgQ3hpbrtw"
   },
   "source": [
    "## Goals For Today\n",
    "\n",
    "1. Understand what instrumental variables (IVs) are and when they are used.\n",
    "2. Explore the assumptions needed for an IV to yield valid causal estimates.\n",
    "3. Implement IV estimation with Python using Wald Estimator, Ordinary Least Squares (OLS) and Two-Stage Least Squares (2SLS\n"
   ]
  },
  {
   "cell_type": "markdown",
   "metadata": {
    "id": "X7w3PI5eCCbc"
   },
   "source": [
    "## Instrumental Variables\n",
    "\n",
    "Imagine we want to estimate the **causal effect** of a treatment variable, $S$, on some outcome, $Y$. But there’s a problem: we suspect that $S$ is **correlated with unobserved factors** that also affect $Y$. These unobserved factors are captured by the variable $U$. This means:\n",
    "\n",
    "$$S \\not\\!\\perp\\!\\!\\!\\perp U,$$\n",
    "\n",
    "In other words, $S$ and $U$ are related, which can lead to **biased and inconsistent estimates** when we try to estimate the causal effect of $S$ on $Y$.\n",
    "\n",
    "> **But is there a way to estimate the causal effect despite this problem?**  \n",
    "**Yes!** We can use an **instrumental variable (IV)** to help us out.\n",
    "\n",
    "### What is an Instrumental Variable?\n",
    "\n",
    "An **instrumental variable (IV)**, denoted by $Z$, is a variable that:\n",
    "- **Affects** the treatment variable $S$.\n",
    "- Has **no direct effect** on the outcome variable $Y$.\n",
    "- Is **independent** of the unobserved confounders $U$ that are correlated with both $S$ and $Y$.\n",
    "\n",
    "The goal is that the instrument $Z$ can help us isolate the variation in $S$ that is **uncorrelated** with the unobserved confounders $U$, allowing us to estimate a more accurate causal effect.\n",
    "\n",
    "<img src=\"https://raw.githubusercontent.com/dapivei/causal-infere/main/images/instrument.png\" width=\"500\"/>\n",
    "\n",
    "### When Should We Use IVs?\n",
    "\n",
    "Instrumental Variables are especially useful when:\n",
    "> - The treatment variable $S$ suffers from **measurement error**, **omitted variable bias**, or **reverse causality** (where $Y$ affects $S$ instead of the other way around).\n",
    "\n",
    "### Key Assumptions for a Valid Instrument\n",
    "\n",
    "For $Z$ to be a valid instrument, it must satisfy three important assumptions:\n",
    "\n",
    "1. **Exogeneity**:  \n",
    "   The instrument $Z$ must be **uncorrelated** with the error term $U$ (or other unobserved factors that affect $S$), i.e., $Z$ must not be influenced by any variables that also affect $Y$. This assumption ensures that $Z$ affects $S$ but not $Y$ directly.  \n",
    "   $$ U \\perp Z \\quad \\text{and} \\quad V \\perp Z $$\n",
    "\n",
    "2. **Relevance**:  \n",
    "   The instrument $Z$ must have a **significant** effect on the treatment $S$. In other words, $Z$ should change the likelihood that someone receives the treatment $S$, at least for some sub-group of the population.  \n",
    "   $$ S(Z=1, V) \\neq S(Z=0, V) $$\n",
    "\n",
    "3. **Monotonicity**:  \n",
    "   The instrument $Z$ must affect $S$ in the **same direction** for all individuals. That is, $Z$ should only either **increase** or **decrease** the likelihood of receiving treatment, but not both.  \n",
    "   $$ S(Z=1, V) > S(Z=0, V) $$\n",
    "\n",
    "### Local Average Treatment Effect (LATE)\n",
    "\n",
    "If these assumptions hold, we can estimate the **Local Average Treatment Effect (LATE)**. This is the causal effect of $S$ on $Y$ for a specific group of people called the **compliers**—those whose treatment status is affected by the instrument $Z$.\n",
    "\n",
    "> **Compliers** are individuals whose treatment $S$ is influenced by the instrument $Z$. They are the population we can estimate the causal effect for using IVs.\n",
    "\n",
    "\n",
    "### Types of Individuals in IV Analysis\n",
    "\n",
    "The population can be divided into four groups based on how they respond to the instrument $Z$:\n",
    "\n",
    "1. **Always-takers**: These individuals always take the treatment, regardless of the instrument $Z$.  \n",
    "   $$ S(Z=1, V) = S(Z=0, V) = 1 $$\n",
    "\n",
    "2. **Never-takers**: These individuals never take the treatment, regardless of the instrument $Z$.  \n",
    "   $$ S(Z=1, V) = S(Z=0, V) = 0 $$\n",
    "\n",
    "3. **Compliers**: These individuals comply with the instrument. They take the treatment when $Z = 1$, but not when $Z = 0$.  \n",
    "   $$ S(Z=1, V) = 1 \\quad \\text{and} \\quad S(Z=0, V) = 0 $$\n",
    "\n",
    "4. **Defiers**: These individuals do the opposite of what the instrument suggests. They take the treatment when $Z = 0$, but not when $Z = 1$.  \n",
    "   $$ S(Z=1, V) = 0 \\quad \\text{and} \\quad S(Z=0, V) = 1 $$\n",
    "\n",
    "### Identifying the Local Average Treatment Effect (LATE)\n",
    "\n",
    "Now, let’s define the causal model for $Y$ in terms of $S$ and $U$:\n",
    "\n",
    "$$ Y = \\alpha_0 + \\alpha_1 S + U, $$\n",
    "\n",
    "where $\\alpha_1$ represents the **causal effect** of $S$ on $Y$, and $U$ is the error term (which captures unobserved factors that affect $Y$).\n",
    "\n",
    "Assuming:\n",
    "\n",
    " $$\\mathbb{E}[U]=0\\quad and  \\quad \\mathbb{E}[ZU]=0$$ and given instrument relevance $Cov(Z,S)\\neq 0$, we obtain:\n",
    "\n",
    "$$ \\alpha_1^{IV} = \\frac{\\text{Cov}(Z,Y)}{\\text{Cov}(Z,S)} $$\n",
    "\n",
    "This is the **Wald estimator**. We can rewrite it in terms of expectations for a binary instrument:\n",
    "\n",
    "$$ \\alpha_1^{IV} = \\frac{\\mathbb{E}[Y | Z=1] - \\mathbb{E}[Y | Z=0]}{\\mathbb{E}[S | Z=1] - \\mathbb{E}[S | Z=0]} $$\n",
    "\n",
    "Under our LATE assumptions, the Wald estimator identifies the LATE:\n",
    "\n",
    "$$\\alpha_{IV} = \\frac{\\mathbb{E}[Y|Z =1]-\\mathbb{E}[Y|Z =0]}{\\mathbb{E}[S|Z =1]-\\mathbb{E}[S|Z =0]}\n",
    "=\\mathbb{E}[Y(S =1,U)−Y(S =0,U)|Complier]= LATE$$\n",
    "\n",
    "> Thus, **LATE** is the **difference in outcomes** between those who received the treatment and those who did not, **for the compliers**."
   ]
  },
  {
   "cell_type": "markdown",
   "metadata": {
    "id": "2vKIo9np1VAm"
   },
   "source": [
    "\n",
    "## Motivating Case: The effect of watching sesame street on later academic achievement.\n",
    "\n",
    "\n"
   ]
  },
  {
   "cell_type": "markdown",
   "metadata": {
    "id": "__s0C3FU9ipo"
   },
   "source": [
    "<img src=\"https://www.aeaweb.org/content/file?id=8888.png?raw=true\" width=\"500\" height=\"auto\" />\n",
    "\n"
   ]
  },
  {
   "cell_type": "markdown",
   "metadata": {
    "id": "iGbV0ghGzh08"
   },
   "source": [
    "### Research Question\n",
    "\n",
    "> Does watching Sesame Street ($S$) have a positive impact on later academic achievement ($Y$)?\n",
    "\n",
    "\n",
    "### Model Setup\n",
    "\n",
    "\\begin{aligned}\n",
    "S & =\\left\\{\\begin{array}{l}\n",
    "1 \\text { if watched Sesame }  \\\\\n",
    "0 \\text { did not watched Sesame}\n",
    "\\end{array}\\right. \\\\\n",
    "Y(S, U) & =\\text {Score on a literacy test} \\\\\n",
    "U & =\\text { other determinants of } Y,\n",
    "\\end{aligned}\n",
    "\n",
    "where $U$ represents other determinants of $Y$ (e.g., socio-economic status).\n",
    "\n",
    "\n",
    "### The challenge\n",
    "\n",
    "\n",
    "$$S \\not\\!\\perp\\!\\!\\!\\perp U,$$\n",
    "\n",
    "as various family and individual factors likely influence whether a child watches the program $S$ and the child's later academic outcomes ($Y$).\n",
    "\n",
    "> It's difficult to isolate the effect of watching Sesame Street on academic achievement from unobserved confounders, such as socio-economic status. These unobserved factors may influence both:\n",
    "+  a child's likelihood of watching the program and\n",
    "+ their academic outcomes,\n",
    "\n",
    "leading to biased estimates.\n",
    "\n",
    "\n",
    "### Solution?\n",
    "\n",
    "Introduce an instrumental variable —**encouragement** $Z$ —which we can control and randomize. In this context, encouragement refers to providing children with additional information or motivational support to watch Sesame Street. This approach aligns with the original proposal by [Ball & Bogatz (1970)](https://files.eric.ed.gov/fulltext/ED068155.pdf), who explored the impact of such encouragement on children's engagement with educational media.\n",
    "\n",
    "\n",
    "\\begin{aligned}\n",
    "Z & =\\left\\{\\begin{array}{l}\n",
    "1 \\text { if encouraged  }  \\\\\n",
    "0 \\text { not encouraged}\n",
    "\\end{array}\\right. \\\\\n",
    "\\end{aligned}\n",
    "\n",
    "\n",
    "Our IV allows us to estimate the causal effect of watching Sesame Street on academic achievement for a specific subgroup: the **compliers**, or those whose likelihood of watching the program is influenced by the encouragement $Z$.\n",
    "\n",
    "> How does watching Sesame Street $S$ impact academic achievement $Y$ for children whose likelihood of watching the program is influenced by the encouragement $Z$?"
   ]
  },
  {
   "cell_type": "markdown",
   "metadata": {
    "id": "UTmLb41F9x-k"
   },
   "source": [
    "\n",
    "### Data\n",
    "\n",
    "- **`encour`**: Indicator variable for whether the child was encouraged to watch Sesame Stree. Instrument $Z$.\n",
    "- **`watched`**: Indicator variable for whether the child actually watched Sesame Street. Treatment $S$.\n",
    "- **`letters`**: Score on a literacy test. Outcome $Y$.\n",
    "- **`age`**: Age of the child (in months), included as a control variable.\n",
    "- **`female`**: Indicator variable for gender (female), included as a control variable.\n",
    "- **`Other variables`**: Various additional factors.\n"
   ]
  },
  {
   "cell_type": "code",
   "execution_count": 1,
   "metadata": {
    "colab": {
     "base_uri": "https://localhost:8080/",
     "height": 235
    },
    "id": "AiseDcLu5Mcz",
    "outputId": "3540f97b-f47a-4b7b-d452-d3567dfcbc75"
   },
   "outputs": [
    {
     "data": {
      "text/html": [
       "<div>\n",
       "<style scoped>\n",
       "    .dataframe tbody tr th:only-of-type {\n",
       "        vertical-align: middle;\n",
       "    }\n",
       "\n",
       "    .dataframe tbody tr th {\n",
       "        vertical-align: top;\n",
       "    }\n",
       "\n",
       "    .dataframe thead th {\n",
       "        text-align: right;\n",
       "    }\n",
       "</style>\n",
       "<table border=\"1\" class=\"dataframe\">\n",
       "  <thead>\n",
       "    <tr style=\"text-align: right;\">\n",
       "      <th></th>\n",
       "      <th>rownames</th>\n",
       "      <th>id</th>\n",
       "      <th>site</th>\n",
       "      <th>sex</th>\n",
       "      <th>age</th>\n",
       "      <th>viewcat</th>\n",
       "      <th>setting</th>\n",
       "      <th>viewenc</th>\n",
       "      <th>prebody</th>\n",
       "      <th>prelet</th>\n",
       "      <th>...</th>\n",
       "      <th>encour</th>\n",
       "      <th>_Isite_2</th>\n",
       "      <th>_Isite_3</th>\n",
       "      <th>_Isite_4</th>\n",
       "      <th>_Isite_5</th>\n",
       "      <th>regular</th>\n",
       "      <th>watched</th>\n",
       "      <th>encouraged</th>\n",
       "      <th>y</th>\n",
       "      <th>pretest</th>\n",
       "    </tr>\n",
       "  </thead>\n",
       "  <tbody>\n",
       "    <tr>\n",
       "      <th>0</th>\n",
       "      <td>1</td>\n",
       "      <td>1</td>\n",
       "      <td>1</td>\n",
       "      <td>1</td>\n",
       "      <td>66</td>\n",
       "      <td>1</td>\n",
       "      <td>2</td>\n",
       "      <td>1</td>\n",
       "      <td>16</td>\n",
       "      <td>23</td>\n",
       "      <td>...</td>\n",
       "      <td>1</td>\n",
       "      <td>0</td>\n",
       "      <td>0</td>\n",
       "      <td>0</td>\n",
       "      <td>0</td>\n",
       "      <td>0</td>\n",
       "      <td>0</td>\n",
       "      <td>1</td>\n",
       "      <td>30</td>\n",
       "      <td>23</td>\n",
       "    </tr>\n",
       "    <tr>\n",
       "      <th>1</th>\n",
       "      <td>2</td>\n",
       "      <td>2</td>\n",
       "      <td>1</td>\n",
       "      <td>2</td>\n",
       "      <td>67</td>\n",
       "      <td>3</td>\n",
       "      <td>2</td>\n",
       "      <td>1</td>\n",
       "      <td>30</td>\n",
       "      <td>26</td>\n",
       "      <td>...</td>\n",
       "      <td>1</td>\n",
       "      <td>0</td>\n",
       "      <td>0</td>\n",
       "      <td>0</td>\n",
       "      <td>0</td>\n",
       "      <td>1</td>\n",
       "      <td>1</td>\n",
       "      <td>1</td>\n",
       "      <td>37</td>\n",
       "      <td>26</td>\n",
       "    </tr>\n",
       "    <tr>\n",
       "      <th>2</th>\n",
       "      <td>3</td>\n",
       "      <td>3</td>\n",
       "      <td>1</td>\n",
       "      <td>1</td>\n",
       "      <td>56</td>\n",
       "      <td>3</td>\n",
       "      <td>2</td>\n",
       "      <td>2</td>\n",
       "      <td>22</td>\n",
       "      <td>14</td>\n",
       "      <td>...</td>\n",
       "      <td>0</td>\n",
       "      <td>0</td>\n",
       "      <td>0</td>\n",
       "      <td>0</td>\n",
       "      <td>0</td>\n",
       "      <td>1</td>\n",
       "      <td>1</td>\n",
       "      <td>0</td>\n",
       "      <td>46</td>\n",
       "      <td>14</td>\n",
       "    </tr>\n",
       "    <tr>\n",
       "      <th>3</th>\n",
       "      <td>4</td>\n",
       "      <td>4</td>\n",
       "      <td>1</td>\n",
       "      <td>1</td>\n",
       "      <td>49</td>\n",
       "      <td>1</td>\n",
       "      <td>2</td>\n",
       "      <td>2</td>\n",
       "      <td>23</td>\n",
       "      <td>11</td>\n",
       "      <td>...</td>\n",
       "      <td>0</td>\n",
       "      <td>0</td>\n",
       "      <td>0</td>\n",
       "      <td>0</td>\n",
       "      <td>0</td>\n",
       "      <td>0</td>\n",
       "      <td>0</td>\n",
       "      <td>0</td>\n",
       "      <td>14</td>\n",
       "      <td>11</td>\n",
       "    </tr>\n",
       "    <tr>\n",
       "      <th>4</th>\n",
       "      <td>5</td>\n",
       "      <td>5</td>\n",
       "      <td>1</td>\n",
       "      <td>1</td>\n",
       "      <td>69</td>\n",
       "      <td>4</td>\n",
       "      <td>2</td>\n",
       "      <td>2</td>\n",
       "      <td>32</td>\n",
       "      <td>47</td>\n",
       "      <td>...</td>\n",
       "      <td>0</td>\n",
       "      <td>0</td>\n",
       "      <td>0</td>\n",
       "      <td>0</td>\n",
       "      <td>0</td>\n",
       "      <td>1</td>\n",
       "      <td>1</td>\n",
       "      <td>0</td>\n",
       "      <td>63</td>\n",
       "      <td>47</td>\n",
       "    </tr>\n",
       "  </tbody>\n",
       "</table>\n",
       "<p>5 rows × 32 columns</p>\n",
       "</div>"
      ],
      "text/plain": [
       "   rownames  id  site  sex  age  viewcat  setting  viewenc  prebody  prelet  \\\n",
       "0         1   1     1    1   66        1        2        1       16      23   \n",
       "1         2   2     1    2   67        3        2        1       30      26   \n",
       "2         3   3     1    1   56        3        2        2       22      14   \n",
       "3         4   4     1    1   49        1        2        2       23      11   \n",
       "4         5   5     1    1   69        4        2        2       32      47   \n",
       "\n",
       "   ...  encour  _Isite_2  _Isite_3  _Isite_4  _Isite_5  regular  watched  \\\n",
       "0  ...       1         0         0         0         0        0        0   \n",
       "1  ...       1         0         0         0         0        1        1   \n",
       "2  ...       0         0         0         0         0        1        1   \n",
       "3  ...       0         0         0         0         0        0        0   \n",
       "4  ...       0         0         0         0         0        1        1   \n",
       "\n",
       "   encouraged   y  pretest  \n",
       "0           1  30       23  \n",
       "1           1  37       26  \n",
       "2           0  46       14  \n",
       "3           0  14       11  \n",
       "4           0  63       47  \n",
       "\n",
       "[5 rows x 32 columns]"
      ]
     },
     "execution_count": 1,
     "metadata": {},
     "output_type": "execute_result"
    }
   ],
   "source": [
    "import pandas as pd\n",
    "import statsmodels.api as sm\n",
    "import matplotlib.pyplot as plt\n",
    "import seaborn as sns\n",
    "import statsmodels.formula.api as smf\n",
    "import numpy as np\n",
    "\n",
    "from matplotlib.colors import LinearSegmentedColormap\n",
    "from scipy import stats\n",
    "\n",
    "\n",
    "sesame = pd.read_csv(\"../data/sesame.csv\")\n",
    "sesame.head()"
   ]
  },
  {
   "cell_type": "code",
   "execution_count": 2,
   "metadata": {
    "colab": {
     "base_uri": "https://localhost:8080/"
    },
    "id": "RTUDJ5oj5NP_",
    "outputId": "dab8222e-bc66-4cdc-afc5-3f10f7fcd72b"
   },
   "outputs": [
    {
     "data": {
      "text/plain": [
       "Index(['rownames', 'id', 'site', 'sex', 'age', 'viewcat', 'setting', 'viewenc',\n",
       "       'prebody', 'prelet', 'preform', 'prenumb', 'prerelat', 'preclasf',\n",
       "       'postbody', 'postlet', 'postform', 'postnumb', 'postrelat', 'postclasf',\n",
       "       'peabody', 'agecat', 'encour', '_Isite_2', '_Isite_3', '_Isite_4',\n",
       "       '_Isite_5', 'regular', 'watched', 'encouraged', 'y', 'pretest'],\n",
       "      dtype='object')"
      ]
     },
     "execution_count": 2,
     "metadata": {},
     "output_type": "execute_result"
    }
   ],
   "source": [
    "sesame.columns"
   ]
  },
  {
   "cell_type": "code",
   "execution_count": 3,
   "metadata": {
    "colab": {
     "base_uri": "https://localhost:8080/",
     "height": 300
    },
    "id": "CNCI28XdBE6k",
    "outputId": "f41edcaa-5dae-417f-8e84-dddcd295e2ea"
   },
   "outputs": [
    {
     "data": {
      "text/html": [
       "<div>\n",
       "<style scoped>\n",
       "    .dataframe tbody tr th:only-of-type {\n",
       "        vertical-align: middle;\n",
       "    }\n",
       "\n",
       "    .dataframe tbody tr th {\n",
       "        vertical-align: top;\n",
       "    }\n",
       "\n",
       "    .dataframe thead th {\n",
       "        text-align: right;\n",
       "    }\n",
       "</style>\n",
       "<table border=\"1\" class=\"dataframe\">\n",
       "  <thead>\n",
       "    <tr style=\"text-align: right;\">\n",
       "      <th></th>\n",
       "      <th>watched</th>\n",
       "      <th>encouraged</th>\n",
       "    </tr>\n",
       "  </thead>\n",
       "  <tbody>\n",
       "    <tr>\n",
       "      <th>count</th>\n",
       "      <td>240.000000</td>\n",
       "      <td>240.000000</td>\n",
       "    </tr>\n",
       "    <tr>\n",
       "      <th>mean</th>\n",
       "      <td>0.775000</td>\n",
       "      <td>0.633333</td>\n",
       "    </tr>\n",
       "    <tr>\n",
       "      <th>std</th>\n",
       "      <td>0.418455</td>\n",
       "      <td>0.482902</td>\n",
       "    </tr>\n",
       "    <tr>\n",
       "      <th>min</th>\n",
       "      <td>0.000000</td>\n",
       "      <td>0.000000</td>\n",
       "    </tr>\n",
       "    <tr>\n",
       "      <th>25%</th>\n",
       "      <td>1.000000</td>\n",
       "      <td>0.000000</td>\n",
       "    </tr>\n",
       "    <tr>\n",
       "      <th>50%</th>\n",
       "      <td>1.000000</td>\n",
       "      <td>1.000000</td>\n",
       "    </tr>\n",
       "    <tr>\n",
       "      <th>75%</th>\n",
       "      <td>1.000000</td>\n",
       "      <td>1.000000</td>\n",
       "    </tr>\n",
       "    <tr>\n",
       "      <th>max</th>\n",
       "      <td>1.000000</td>\n",
       "      <td>1.000000</td>\n",
       "    </tr>\n",
       "  </tbody>\n",
       "</table>\n",
       "</div>"
      ],
      "text/plain": [
       "          watched  encouraged\n",
       "count  240.000000  240.000000\n",
       "mean     0.775000    0.633333\n",
       "std      0.418455    0.482902\n",
       "min      0.000000    0.000000\n",
       "25%      1.000000    0.000000\n",
       "50%      1.000000    1.000000\n",
       "75%      1.000000    1.000000\n",
       "max      1.000000    1.000000"
      ]
     },
     "execution_count": 3,
     "metadata": {},
     "output_type": "execute_result"
    }
   ],
   "source": [
    "sesame.describe()[['watched', 'encouraged']]"
   ]
  },
  {
   "cell_type": "code",
   "execution_count": 4,
   "metadata": {
    "colab": {
     "base_uri": "https://localhost:8080/",
     "height": 472
    },
    "id": "jiJkrDBpK40H",
    "outputId": "99891a05-5681-4384-d475-4214c2f792ed"
   },
   "outputs": [
    {
     "data": {
      "image/png": "[encoded data removed]",
      "text/plain": [
       "<Figure size 640x480 with 1 Axes>"
      ]
     },
     "metadata": {},
     "output_type": "display_data"
    }
   ],
   "source": [
    "sns.barplot(x=sesame['encour'], y=sesame['watched'])\n",
    "plt.title('Proportion of Children Watching Sesame Street by Encouragement')\n",
    "plt.xlabel('Encouraged')\n",
    "plt.ylabel('Proportion Watched')\n",
    "plt.show()"
   ]
  },
  {
   "cell_type": "markdown",
   "metadata": {
    "id": "xpQlcE_pTH5m"
   },
   "source": [
    "Observe that children who were encouraged to watch the show had a notably higher proportion of viewers compared to those who were not encouraged. This difference suggests that ${\\tt encouragement}$ effectively increases the likelihood of viewing Sesame Street."
   ]
  },
  {
   "cell_type": "markdown",
   "metadata": {
    "id": "1cH_oXTqGt_X"
   },
   "source": [
    "### How plausible is ${\\tt encouragement}$ as an instrument?"
   ]
  },
  {
   "cell_type": "markdown",
   "metadata": {
    "id": "nwFismTB9sA_"
   },
   "source": [
    "\n",
    "**Exogeneity**"
   ]
  },
  {
   "cell_type": "markdown",
   "metadata": {
    "id": "pam_DPBXG64F"
   },
   "source": [
    "We test whether encouragement is randomly assigned across relevant variables, ensuring balance between the encouraged and non-encouraged groups."
   ]
  },
  {
   "cell_type": "code",
   "execution_count": 5,
   "metadata": {
    "colab": {
     "base_uri": "https://localhost:8080/"
    },
    "id": "Q45O8Fkx50Re",
    "outputId": "aa378e94-7ffe-4691-b107-b0d77d36294a"
   },
   "outputs": [
    {
     "name": "stdout",
     "output_type": "stream",
     "text": [
      "Test for age:\n",
      "T-statistic: -0.3590, p-value: 0.7200\n",
      "---\n",
      "  No significant difference in age, supports balance.\n",
      "\n",
      "Test for sex:\n",
      "T-statistic: -0.3115, p-value: 0.7557\n",
      "---\n",
      "  No significant difference in sex, supports balance.\n",
      "\n",
      "Test for pretest:\n",
      "T-statistic: -1.4258, p-value: 0.1561\n",
      "---\n",
      "  No significant difference in pretest, supports balance.\n",
      "\n"
     ]
    }
   ],
   "source": [
    "# List of variables to test for balance\n",
    "variables_to_test = ['age', 'sex', 'pretest']\n",
    "\n",
    "# Perform t-tests for each variable\n",
    "for var in variables_to_test:\n",
    "\n",
    "    # Split the data by encouragement status\n",
    "    group_1 = sesame[sesame['encouraged'] == 1][var]\n",
    "    group_0 = sesame[sesame['encouraged'] == 0][var]\n",
    "\n",
    "    # Perform the t-test to compare means\n",
    "    t_stat, p_value = stats.ttest_ind(group_1, group_0, equal_var=False)\n",
    "\n",
    "    # Print results\n",
    "    print(f'Test for {var}:')\n",
    "    print(f'T-statistic: {t_stat:.4f}, p-value: {p_value:.4f}')\n",
    "    print('---')\n",
    "\n",
    "    # Interpretation\n",
    "    if p_value < 0.05:\n",
    "        print(f\"  Significant difference in {var}, suggests imbalance.\\n\")\n",
    "    else:\n",
    "        print(f\"  No significant difference in {var}, supports balance.\\n\")\n"
   ]
  },
  {
   "cell_type": "markdown",
   "metadata": {
    "id": "VwLIHyqr6HCA"
   },
   "source": [
    "\n",
    "\n",
    "**Relevance**"
   ]
  },
  {
   "cell_type": "markdown",
   "metadata": {
    "id": "0pK0ZXC0Hy5f"
   },
   "source": [
    "For the instrument to be relevant, it must be correlated with $S$ -- watching Sesame Street. Meaning that encouragement to watch Sesame Street has to actually make some kids more likely to watch it.\n",
    "\n",
    "$$P(\\text{Complier})>0 $$\n",
    "\n",
    "\n",
    "If the encouragement has no effect—meaning kids are just as likely (or unlikely) to watch Sesame Street whether they’re encouraged or not—then encouragement isn’t a relevant instrument.\n",
    "\n",
    "+ We test this using a linear regression model.\n"
   ]
  },
  {
   "cell_type": "code",
   "execution_count": 6,
   "metadata": {
    "colab": {
     "base_uri": "https://localhost:8080/"
    },
    "id": "B6b75RXs6Gb-",
    "outputId": "8b63f2c7-e2d3-4ae9-af72-feed3506ecf6"
   },
   "outputs": [
    {
     "name": "stdout",
     "output_type": "stream",
     "text": [
      "                            OLS Regression Results                            \n",
      "==============================================================================\n",
      "Dep. Variable:                watched   R-squared:                       0.175\n",
      "Model:                            OLS   Adj. R-squared:                  0.171\n",
      "Method:                 Least Squares   F-statistic:                     50.46\n",
      "Date:                Sun, 22 Dec 2024   Prob (F-statistic):           1.40e-11\n",
      "Time:                        19:01:29   Log-Likelihood:                -107.88\n",
      "No. Observations:                 240   AIC:                             219.8\n",
      "Df Residuals:                     238   BIC:                             226.7\n",
      "Df Model:                           1                                         \n",
      "Covariance Type:            nonrobust                                         \n",
      "==============================================================================\n",
      "                 coef    std err          t      P>|t|      [0.025      0.975]\n",
      "------------------------------------------------------------------------------\n",
      "const          0.5455      0.041     13.434      0.000       0.465       0.625\n",
      "encouraged     0.3624      0.051      7.104      0.000       0.262       0.463\n",
      "==============================================================================\n",
      "Omnibus:                       28.214   Durbin-Watson:                   1.734\n",
      "Prob(Omnibus):                  0.000   Jarque-Bera (JB):               35.601\n",
      "Skew:                          -0.943   Prob(JB):                     1.86e-08\n",
      "Kurtosis:                       3.042   Cond. No.                         3.06\n",
      "==============================================================================\n",
      "\n",
      "Notes:\n",
      "[1] Standard Errors assume that the covariance matrix of the errors is correctly specified.\n"
     ]
    }
   ],
   "source": [
    "# Add a constant to the model\n",
    "sesame['const'] = 1\n",
    "\n",
    "# Fit a linear regression model (OLS) for relevance\n",
    "relevance_model = sm.OLS(sesame['watched'], sesame[['const', 'encouraged']]).fit()\n",
    "print(relevance_model.summary())\n"
   ]
  },
  {
   "cell_type": "markdown",
   "metadata": {
    "id": "42o3zxRPH85Y"
   },
   "source": [
    "+ The coefficient is 0.3624, meaning that being encouraged to watch Sesame Street increases the likelihood of watching the program by approximately 36.24% compared to those who were not encouraged.\n",
    "+ Statistical Significance: The p-value for encouraged is 0.000, which is highly significant. This suggests that the encouragement to watch Sesame Street has a statistically significant effect on the outcome.\n",
    "\n"
   ]
  },
  {
   "cell_type": "markdown",
   "metadata": {
    "id": "oPEsMTUuIUDq"
   },
   "source": [
    "**Monotonicity**\n",
    "\n",
    "Monotonicity means that encouragement to watch Sesame Street should only make kids more likely to watch it—never less likely. So, kids encouraged to watch Sesame Street are either more likely to watch or at least equally likely, but encouragement never makes them watch less.\n",
    "\n",
    "+ Perform logistic regression to check for monotonicity, which ensures that the instrument  does not induce defiers (children who behave contrary to encouragement):\n",
    "\n",
    "$$P(\\text{Defier})=0 $$"
   ]
  },
  {
   "cell_type": "code",
   "execution_count": 7,
   "metadata": {
    "colab": {
     "base_uri": "https://localhost:8080/"
    },
    "id": "NjvElKor6WCM",
    "outputId": "16fe38d0-a81c-405e-e9b3-3bf8f192b1a1"
   },
   "outputs": [
    {
     "name": "stdout",
     "output_type": "stream",
     "text": [
      "Optimization terminated successfully.\n",
      "         Current function value: 0.389264\n",
      "         Iterations 7\n",
      "                           Logit Regression Results                           \n",
      "==============================================================================\n",
      "Dep. Variable:                watched   No. Observations:                  240\n",
      "Model:                          Logit   Df Residuals:                      235\n",
      "Method:                           MLE   Df Model:                            4\n",
      "Date:                Sun, 22 Dec 2024   Pseudo R-squ.:                  0.2699\n",
      "Time:                        19:01:29   Log-Likelihood:                -93.423\n",
      "converged:                       True   LL-Null:                       -127.96\n",
      "Covariance Type:            nonrobust   LLR p-value:                 3.564e-14\n",
      "==============================================================================\n",
      "                 coef    std err          z      P>|z|      [0.025      0.975]\n",
      "------------------------------------------------------------------------------\n",
      "const          1.9288      1.841      1.048      0.295      -1.679       5.537\n",
      "encouraged     2.5268      0.404      6.260      0.000       1.736       3.318\n",
      "age            0.0138      0.032      0.433      0.665      -0.049       0.076\n",
      "sex           -0.3578      0.376     -0.952      0.341      -1.095       0.379\n",
      "site          -0.7509      0.155     -4.833      0.000      -1.056      -0.446\n",
      "==============================================================================\n"
     ]
    }
   ],
   "source": [
    "monotonicity_model = sm.Logit(sesame['watched'], sesame[['const', 'encouraged', 'age', 'sex', 'site']]).fit()\n",
    "print(monotonicity_model.summary())\n"
   ]
  },
  {
   "cell_type": "markdown",
   "metadata": {
    "id": "30vMZe5BIjZ7"
   },
   "source": [
    "+ Encouragement has a significant positive effect on the likelihood of watching Sesame Street ($p < 0.05$).\n",
    "+ Age, sex, and site have less impact, which supports monotonicity."
   ]
  },
  {
   "cell_type": "markdown",
   "metadata": {
    "id": "FgzaVy9XJH_U"
   },
   "source": [
    "Overall, our instrument seems pretty plausible!"
   ]
  },
  {
   "cell_type": "markdown",
   "metadata": {
    "id": "6bisbDgFI2VI"
   },
   "source": [
    "#### Compliance Types"
   ]
  },
  {
   "cell_type": "markdown",
   "metadata": {
    "id": "-smmVefPJLrA"
   },
   "source": [
    "Let's further categorized our population of interest!"
   ]
  },
  {
   "cell_type": "markdown",
   "metadata": {
    "id": "C3woM9lnBJLy"
   },
   "source": [
    "\n",
    "- **Compliers**: Watch Sesame Street only if encouraged.\n",
    "- **Always-takers**: Watch Sesame Street regardless of encouragement.\n",
    "- **Never-takers**: Do not watch Sesame Street regardless of encouragement.\n",
    "- **Defiers**: Behave contrary to the encouragement (assumed to not exist due to monotonicity)."
   ]
  },
  {
   "cell_type": "code",
   "execution_count": 8,
   "metadata": {
    "id": "O6fiqonpJSNe"
   },
   "outputs": [],
   "source": [
    "# Calculate proportions for each group\n",
    "d_z_1 = sesame.loc[sesame['encour'] == 1, 'watched'].mean()\n",
    "d_z_0 = sesame.loc[sesame['encour'] == 0, 'watched'].mean()\n",
    "\n",
    "proportion_compliers = d_z_1 - d_z_0\n",
    "proportion_always_takers = d_z_0\n",
    "proportion_never_takers = 1 - d_z_1\n",
    "\n",
    "# Assuming no Defiers\n",
    "proportion_defiers = 0"
   ]
  },
  {
   "cell_type": "code",
   "execution_count": 9,
   "metadata": {
    "colab": {
     "base_uri": "https://localhost:8080/"
    },
    "id": "D5_2w2puMFBM",
    "outputId": "31c0cef0-dda3-43b8-f2c4-a48ebc879bee"
   },
   "outputs": [
    {
     "data": {
      "text/plain": [
       "np.float64(0.3624401913875599)"
      ]
     },
     "execution_count": 9,
     "metadata": {},
     "output_type": "execute_result"
    }
   ],
   "source": [
    "proportion_compliers"
   ]
  },
  {
   "cell_type": "code",
   "execution_count": 10,
   "metadata": {
    "colab": {
     "base_uri": "https://localhost:8080/",
     "height": 507
    },
    "id": "Srl_TQhOMYLO",
    "outputId": "fcee477b-68a2-49f6-ae21-c6b7a8164ad6"
   },
   "outputs": [
    {
     "data": {
      "image/png": "[encoded data removed]",
      "text/plain": [
       "<Figure size 500x500 with 1 Axes>"
      ]
     },
     "metadata": {},
     "output_type": "display_data"
    }
   ],
   "source": [
    "# Create the crosstab data directly\n",
    "crosstab_data = pd.DataFrame({\n",
    "    'Encouraged': ['Not Encouraged', 'Not Encouraged', 'Encouraged', 'Encouraged'],\n",
    "    'Watched': ['Did Not Watch', 'Watched', 'Did Not Watch', 'Watched'],\n",
    "    'Proportion': [proportion_never_takers, proportion_always_takers, proportion_defiers, proportion_compliers]\n",
    "}).pivot(index='Encouraged', columns='Watched', values='Proportion')\n",
    "\n",
    "# Reorder columns and index explicitly\n",
    "crosstab_data = crosstab_data.reindex(index=['Not Encouraged', 'Encouraged'], columns=['Did Not Watch', 'Watched'])\n",
    "\n",
    "# Define labels for each box\n",
    "labels = {\n",
    "    (0, 0): 'Never Takers',   # Not Encouraged, Did Not Watch\n",
    "    (0, 1): 'Always Takers',        # Not Encouraged, Watched\n",
    "    (1, 0): 'Defiers',  # Encouraged, Did Not Watch\n",
    "    (1, 1): 'Compliers'       # Encouraged, Watched\n",
    "}\n",
    "\n",
    "# Plotting\n",
    "plt.figure(figsize=(5, 5))\n",
    "heatmap = sns.heatmap(\n",
    "    crosstab_data,\n",
    "    annot=True,\n",
    "    fmt='.2f',\n",
    "    linewidths=1,\n",
    "    linecolor='black',\n",
    "    cbar=False,\n",
    "    cmap=LinearSegmentedColormap.from_list('all_white', ['white', 'white']),\n",
    "    annot_kws={\"size\": 14, \"color\": 'black'}\n",
    ")\n",
    "\n",
    "# Customizing the plot\n",
    "plt.xlabel('Watched ($S$)', fontsize=14, fontweight='bold')\n",
    "plt.ylabel('Encouragement $Z$', fontsize=14, fontweight='bold')\n",
    "heatmap.set_xticklabels(heatmap.get_xticklabels(), rotation=45, ha='right', fontsize=12)\n",
    "heatmap.set_yticklabels(heatmap.get_yticklabels(), rotation=0, fontsize=12)\n",
    "\n",
    "# Add custom labels\n",
    "for (i, j), label in labels.items():\n",
    "    plt.text(j + 0.5, i + 0.5 - 0.15, label, ha='center', va='center', fontsize=12, fontweight='bold', color='black')\n",
    "\n",
    "plt.tight_layout()\n",
    "plt.show()\n"
   ]
  },
  {
   "cell_type": "markdown",
   "metadata": {
    "id": "UuAwE2L1Jx9i"
   },
   "source": [
    "### Estimating the LATE\n",
    "\n",
    "\n",
    "#### Via the Wald Estimator\n"
   ]
  },
  {
   "cell_type": "code",
   "execution_count": 11,
   "metadata": {
    "colab": {
     "base_uri": "https://localhost:8080/"
    },
    "id": "IF0VLZS9UT3L",
    "outputId": "942cb166-2c0b-44f4-8343-bf47ccb3a179"
   },
   "outputs": [
    {
     "data": {
      "text/plain": [
       "np.float64(7.93399339933995)"
      ]
     },
     "execution_count": 11,
     "metadata": {},
     "output_type": "execute_result"
    }
   ],
   "source": [
    "# Calculate covariance between Z (encouragement) and Y (outcome)\n",
    "cov_zy = np.cov(sesame['encour'], sesame['y'])[0, 1]\n",
    "\n",
    "# Calculate covariance between Z (encouragement) and S (watched Sesame Street)\n",
    "cov_zs = np.cov(sesame['encour'], sesame['watched'])[0, 1]\n",
    "\n",
    "# Calculate the Wald estimator (IV estimate)\n",
    "alpha_1_IV = cov_zy / cov_zs\n",
    "alpha_1_IV\n"
   ]
  },
  {
   "cell_type": "code",
   "execution_count": 12,
   "metadata": {
    "colab": {
     "base_uri": "https://localhost:8080/"
    },
    "id": "08UxImLIUkrz",
    "outputId": "2d52c31a-03f9-41bf-a574-6f12689afa1b"
   },
   "outputs": [
    {
     "data": {
      "text/plain": [
       "np.float64(7.933993399339932)"
      ]
     },
     "execution_count": 12,
     "metadata": {},
     "output_type": "execute_result"
    }
   ],
   "source": [
    "# Calculate the means based on the value of the instrument Z (encouragement)\n",
    "mean_y_z1 = sesame.loc[sesame['encour'] == 1, 'y'].mean()\n",
    "mean_y_z0 = sesame.loc[sesame['encour'] == 0, 'y'].mean()\n",
    "mean_s_z1 = sesame.loc[sesame['encour'] == 1, 'watched'].mean()\n",
    "mean_s_z0 = sesame.loc[sesame['encour'] == 0, 'watched'].mean()\n",
    "\n",
    "# Calculate the Wald estimator (IV estimate)\n",
    "alpha_1_IV = (mean_y_z1 - mean_y_z0) / (mean_s_z1 - mean_s_z0)\n",
    "alpha_1_IV\n"
   ]
  },
  {
   "cell_type": "code",
   "execution_count": 13,
   "metadata": {
    "colab": {
     "base_uri": "https://localhost:8080/"
    },
    "id": "hBwVBKxKJVIx",
    "outputId": "6085f821-a890-4839-dc16-7e1b8f9b5abd"
   },
   "outputs": [
    {
     "data": {
      "text/plain": [
       "np.float64(7.933993399339932)"
      ]
     },
     "execution_count": 13,
     "metadata": {},
     "output_type": "execute_result"
    }
   ],
   "source": [
    "# Effect of encouragement on the outcome, regardless of whether children actually watched Sesame Street\n",
    "itt = sesame.loc[sesame['encour'] == 1, 'y'].mean() - sesame.loc[sesame['encour'] == 0, 'y'].mean()\n",
    "late_wald = itt / proportion_compliers\n",
    "late_wald\n"
   ]
  },
  {
   "cell_type": "markdown",
   "metadata": {
    "id": "HJZPwAbDZm0c"
   },
   "source": [
    "For those children who are encouraged to watch Sesame Street and actually end up watching it, their academic achievement (e.g., literacy scores) increases by 7.94 units on average."
   ]
  },
  {
   "cell_type": "markdown",
   "metadata": {
    "id": "BXOwuLr-J9rz"
   },
   "source": [
    "#### Via the Two-Stage Least Squares (2SLS) Estimation\n"
   ]
  },
  {
   "cell_type": "markdown",
   "metadata": {
    "id": "1MiAeB14KH4X"
   },
   "source": [
    "\n",
    "1. **First stage**: Regress whether children watched Sesame Street $S$ on the instrument $Z$ (whether they were encouraged to watch).\n",
    "2. **Second stage**: Regress the outcome (e.g., academic performance $Y$) on the predicted values of $S$ from the first stage.\n",
    "\n",
    "This method isolates the causal effect of watching Sesame Street on the outcome for **compliers** (those who watched due to encouragement).\n",
    "\n"
   ]
  },
  {
   "cell_type": "code",
   "execution_count": 14,
   "metadata": {
    "colab": {
     "base_uri": "https://localhost:8080/"
    },
    "id": "zZv_V_B0KEXJ",
    "outputId": "1d096078-fc94-4a54-aaa7-e6572849f9ce"
   },
   "outputs": [
    {
     "data": {
      "text/plain": [
       "np.float64(7.933993399339921)"
      ]
     },
     "execution_count": 14,
     "metadata": {},
     "output_type": "execute_result"
    }
   ],
   "source": [
    "first_stage = smf.ols('watched ~ encour', data=sesame).fit()\n",
    "sesame['predicted_watched'] = first_stage.fittedvalues\n",
    "second_stage = smf.ols('y ~ predicted_watched', data=sesame).fit()\n",
    "late_2sls_manual = second_stage.params['predicted_watched']\n",
    "late_2sls_manual"
   ]
  },
  {
   "cell_type": "markdown",
   "metadata": {
    "id": "4N16p4M0vA2d"
   },
   "source": [
    "## Path Forward\n",
    "\n",
    "\n"
   ]
  },
  {
   "cell_type": "markdown",
   "metadata": {
    "id": "oYtWmFvkMxwu"
   },
   "source": [
    "- More on Instrumental Variables\n",
    "- Introduction to Regression Discontinuity"
   ]
  }
 ],
 "metadata": {
  "colab": {
   "provenance": []
  },
  "kernelspec": {
   "display_name": "Python 3",
   "name": "python3"
  },
  "language_info": {
   "codemirror_mode": {
    "name": "ipython",
    "version": 3
   },
   "file_extension": ".py",
   "mimetype": "text/x-python",
   "name": "python",
   "nbconvert_exporter": "python",
   "pygments_lexer": "ipython3",
   "version": "3.12.8"
  }
 },
 "nbformat": 4,
 "nbformat_minor": 0
}