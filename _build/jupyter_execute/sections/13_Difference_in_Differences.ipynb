{
 "cells": [
  {
   "cell_type": "markdown",
   "metadata": {
    "id": "BkUmDOMpb8sV"
   },
   "source": [
    "<div align=\"center\">\n",
    "\n",
    "[![Open in Colab](https://colab.research.google.com/assets/colab-badge.svg)](https://colab.research.google.com/github/dapivei/causal-infere/blob/main/sections/13_Difference_in_Differences.ipynb)\n",
    "\n",
    "</div>\n"
   ]
  },
  {
   "cell_type": "markdown",
   "metadata": {},
   "source": [
    "# Difference in Differences"
   ]
  },
  {
   "cell_type": "markdown",
   "metadata": {
    "id": "FwDiGgtthNqR"
   },
   "source": [
    "## Recap From Last Class"
   ]
  },
  {
   "cell_type": "markdown",
   "metadata": {
    "id": "0Y7jFPMGkQ2V"
   },
   "source": [
    "+ Regression Discontinuity, Instrumental Variables"
   ]
  },
  {
   "cell_type": "markdown",
   "metadata": {
    "id": "TbSgQ3hpbrtw"
   },
   "source": [
    "## Goals For Today\n",
    "\n",
    "1. Understand the intuition behind Differences in Differences (DiD).\n",
    "2. Implement DiD analysis using Python.\n",
    "3. Visualize the results and interpret the coefficients.\n"
   ]
  },
  {
   "cell_type": "markdown",
   "metadata": {
    "id": "tXGW17TeYO5S"
   },
   "source": [
    "##  Difference-in-Differences"
   ]
  },
  {
   "cell_type": "markdown",
   "metadata": {
    "id": "LBfISqFoaVkd"
   },
   "source": [
    "## Consider a “2x2” DiD.\n",
    "\n",
    "Let the outcomes $ Y_{g,t}(S, U) $ represent the observed values of an outcome variable, where:\n",
    "\n",
    "$$\\begin{aligned}\n",
    "g=\\left\\{\\begin{array}{l}\n",
    "1 \\text { if exposed to treatment $S$} \\\\\n",
    "0 \\text { if not }\n",
    "\\end{array}\\right., \\,\n",
    "t =\\left\\{\\begin{array}{l}\n",
    "1 \\text { post-treatment period} \\\\\n",
    "0 \\text { pre-treatment period  }\n",
    "\\end{array}\\right., \\,\n",
    "S =\\left\\{\\begin{array}{l}\n",
    "1 \\text { for treatment }\\\\\n",
    "0 \\text { no treatment }\n",
    "\\end{array}\\right.\n",
    "\\end{aligned}$$\n",
    "\n",
    "Difference-in-Differences (DiD) is a quasi-experimental design used to estimate causal effects of policy changes $S$ on an outcome of interest $ Y_{g,t}(S, U)$ by\n",
    "> Comparing **changes over $t$** between a **$g=1$**  and a **$g=0$**.\n",
    "\n",
    "This 2x2 DiD is limited to two periods and two groups. Extending $t$ to include multiple time periods would enable a more comprehensive evaluation of parallel trends.\n",
    "\n",
    "### Assumptions\n",
    "- **Parallel Trends**\n",
    "In the absence of treatment $S=0$, both groups would have followed similar trends over time.\n",
    "$$\\mathbb{E}[Y_{1,1}(S =0,U)−Y_{1,0}(S =0,U)]\n",
    "=\\mathbb{E}[Y_{0,1}(S =0,U)−Y_{0,0}(S =0,U)]$$\n",
    "\n",
    "Ensuring that any post-treatment divergence between the groups can be causally attributed to the intervention.\n",
    "\n",
    "- **No Spillover Effects**: Treatment in one group must not influence outcomes in the other group.\n",
    "\n",
    "\n",
    "\n",
    "### Identifying the Average Treatment on the Treated (ATT)\n",
    "\n",
    "\n",
    "There are two equivalent ways to estimate the ATT under the parallel trends assumption:  \n",
    "1. **Difference in Means (Naïve DiD)**.\n",
    "Comparing the **change in outcomes for the treated group** against the **change for the control group**:\n",
    "\n",
    "\\begin{aligned}\n",
    "   DiD&=\\mathbb{E}[Y_{1,1}(S =1,U)]-\\mathbb{E}[Y_{1,0}(S =0,U)]-\n",
    "(\\mathbb{E}[Y_{0,1}(S =0,U)]-\\mathbb{E}[Y_{0,0}(S =0,U)])\n",
    "\\end{aligned}\n",
    "\n",
    "where all terms are **observable**, making it implementable using sample means. **Recall that under the parallel trends assumption**,\n",
    "$$DiD=ATT.$$\n",
    "See class notes for proof.\n",
    "\n",
    "2. **Regression-Based Estimation**.  Capturing differences across groups and time through an interaction term, define:\n",
    "\n",
    "\\begin{align}\n",
    "G_i & =\\left\\{\\begin{array}{l}\n",
    "1 \\text { if unit $i$ has been exposed to $S$ at some point } \\\\\n",
    "0 \\text { if not }\n",
    "\\end{array}\\right. \\\\\n",
    "T_t & =\\left\\{\\begin{array}{l}\n",
    "1 \\text { if after treatment event } \\\\\n",
    "0 \\text { if before }\n",
    "\\end{array}\\right. \\\\\n",
    "D & =\\left\\{\\begin{array}{l}\n",
    "1 \\text { if } T=1 \\text { and } G=1 \\\\\n",
    "0 \\text { if not }\n",
    "\\end{array}\\right.\n",
    "\\end{align}\n",
    "\n",
    "The regression equation is:\n",
    "\n",
    ">$$\n",
    "Y_{it} = \\beta_0 + \\beta_1 \\text{T}_t + \\beta_2 \\text{G}_i + \\beta_3 (\\text{T}_t \\times \\text{G}_i) + \\epsilon_{it}\n",
    "$$\n",
    "\n",
    "where:\n",
    "- $Y_{it}$: Outcome variable\n",
    "- $\\text{T}_t$: Binary variable for time (0 = pre-treatment, 1 = post-treatment)\n",
    "- $\\text{G}_i$: Binary variable for group (0 if not exposed, 1 if exposed to treatment)\n",
    "- $\\text{T}_t \\times \\text{G}_i$: Interaction term, capturing the DiD effect."
   ]
  },
  {
   "cell_type": "markdown",
   "metadata": {
    "id": "ETYdkmzshQz6"
   },
   "source": [
    "## Do increases in the minimum wage affect employment?"
   ]
  },
  {
   "cell_type": "markdown",
   "metadata": {
    "id": "P8Ni5SSg6VXa"
   },
   "source": [
    "### Research Question: Does raising the minimum wage help workers by improving their earnings, or does it inadvertently harm them by reducing job opportunities?\n",
    "\n",
    "There is an ambiguity about whether increasing the minimum wage is truly beneficial for workers overall:\n",
    "* raising the minimum wage directly increases earnings for workers currently earning less than the new minimum, improving their financial stability.\n",
    "* economic theory predicts that higher wages increase labor costs, leading employers to cut jobs or reduce hiring to offset these costs.\n",
    "\n",
    "\n",
    "On 1992 New Jersey increased the minimum wage. **What was the effect of this rise on employment in fast-food restaurants?** [Card and Krueger (1994)](https://davidcard.berkeley.edu/papers/njmin-aer.pdf) investigate this!\n",
    "\n",
    "### Model Setup\n",
    "\n",
    "+ Unit of observation $g$: Restaurant, identified by location (NJ, 1 or PA, 0).\n",
    "+ Time $t$: Period of observation (Pre-1992, 0 or Post-1992, 1).\n",
    "+ Policy Intervention $S$: Minimum wage increase in NJ.\n",
    "+ Outcome Variable $Y_{g,t}(S, U)$: Employment rate (e.g., number of employees) at restaurant $g$ at time $t$.\n",
    "\n",
    "\n",
    "### The challenge\n",
    "\n",
    "+ Do we know the counterfactual? Meaning the employment rate in NJ had it not implemented the minimum wage policy?\n",
    "$$ATT = \\mathbb{E}[Y_{1,1}(S =1,U)−Y_{1,1}(S =0,U)]$$\n",
    "No, the fundamental problem of causal inference means half of the ATT is never directly observed\n",
    "$\\mathbb{E}[Y1,1(S = 0,U)]$.\n",
    "\n",
    "\n",
    "+  Can we compare employment in NJ before and after the change?\n",
    "$$\\mathbb{E}\\big[\\text{Employ.}|\\text{NJ}, \\text{Post-92}\\big]-\\mathbb{E}\\big[\\text{Employ.}|\\text{NJ}, \\text{Pre-92}\\big]$$\n",
    "  + No, the pre-post comparison is confounded by a **time trend**.\n",
    "+ Compare post-increase NJ unemployment to a bordering state who did not increase their minimum wage? Pennsylvania (PA) is a bordering state.\n",
    "$$\\mathbb{E}\\big[\\text{Employ.}|\\text{NJ}, \\text{Post-92}\\big]-\\mathbb{E}\\big[\\text{Employ.}|\\text{PA}, \\text{Post-92}\\big]$$\n",
    "  + No, the PA/NJ-comparison is confounded by the pre-change differences b/w the states.\n"
   ]
  },
  {
   "cell_type": "code",
   "execution_count": 1,
   "metadata": {
    "cellView": "form",
    "colab": {
     "base_uri": "https://localhost:8080/",
     "height": 487
    },
    "id": "UepTVo54IUgK",
    "outputId": "d4322adb-bfd1-497d-8241-715008f19507"
   },
   "outputs": [
    {
     "data": {
      "image/png": "[encoded data removed]",
      "text/plain": [
       "<Figure size 640x480 with 1 Axes>"
      ]
     },
     "metadata": {},
     "output_type": "display_data"
    }
   ],
   "source": [
    "# @title\n",
    "import matplotlib.pyplot as plt\n",
    "\n",
    "\n",
    "# Define the data points\n",
    "years = ['1991', '1992', '1993']\n",
    "pa_values = [40, 50, 60]\n",
    "nj_actual = [30, 40, 45]\n",
    "nj_assumed = [30, 40, 50]\n",
    "\n",
    "plt.plot(years, pa_values, label='PA (Control Group)', marker='o', color='blue', linewidth=2)\n",
    "\n",
    "plt.plot(years, nj_actual, label='NJ, real (Treatment Group)', marker='o', color='red', linewidth=2)\n",
    "\n",
    "plt.plot(years[1:], nj_assumed[1:], label='NJ, assumed (Counterfactual)', linestyle='--', color='red', linewidth=2)\n",
    "\n",
    "plt.axvline(x=1, linestyle='--', color='black', alpha=0.7)  # Vertical dashed line at intervention\n",
    "plt.text(1.02, 35, 'Intervention', color='black', fontsize=10, rotation=90, ha='left', va='center')\n",
    "\n",
    "\n",
    "plt.text('1991', pa_values[0] + 1.5, str(pa_values[0]), color='blue', fontsize=10, ha='center')\n",
    "plt.text('1993', pa_values[2] + 1.5, str(pa_values[2]), color='blue', fontsize=10, ha='center')\n",
    "\n",
    "plt.text('1991', nj_actual[0] - 3, str(nj_actual[0]), color='red', fontsize=10, ha='center')\n",
    "plt.text('1993', nj_actual[2] - 3, str(nj_actual[2]), color='red', fontsize=10, ha='center')\n",
    "\n",
    "plt.text('1993', nj_assumed[2] + 1.5, str(nj_assumed[2]), color='red', fontsize=10, ha='center')\n",
    "\n",
    "plt.annotate('', xy=('1993', nj_actual[2]), xytext=('1993', nj_assumed[2]),\n",
    "             arrowprops=dict(arrowstyle='<->', color='black', lw=1.5))\n",
    "plt.text('1993', (nj_actual[2] + nj_assumed[2]) / 2 + 2.2, 'ATT', color='black', ha='left', fontsize=12)\n",
    "\n",
    "plt.ylabel('Employment', fontsize=12)\n",
    "plt.xticks(range(len(years)), years, fontsize=10)\n",
    "plt.yticks([30, 60], labels=['30', '60'], fontsize=10)\n",
    "plt.ylim(25, 65)\n",
    "\n",
    "plt.grid(axis='y', linestyle='--', alpha=0.5)\n",
    "plt.gca().spines['top'].set_visible(False)\n",
    "plt.gca().spines['right'].set_visible(False)\n",
    "\n",
    "plt.gca().spines['left'].set_visible(False)\n",
    "plt.gca().spines['bottom'].set_visible(False)\n",
    "\n",
    "plt.legend(loc='upper left', fontsize=10)\n",
    "\n",
    "plt.tight_layout()\n",
    "\n",
    "plt.show()"
   ]
  },
  {
   "cell_type": "markdown",
   "metadata": {
    "id": "p4raa60KdZkr"
   },
   "source": [
    "### Data"
   ]
  },
  {
   "cell_type": "code",
   "execution_count": 2,
   "metadata": {
    "id": "fJZTyyDK4tBs"
   },
   "outputs": [],
   "source": [
    "import pandas as pd\n",
    "\n",
    "df = pd.read_csv(\"../data/DID_Example.csv\")\n",
    "df.columns = df.columns.str.replace('.', '_', regex=False)\n",
    "df['Time'] = df['Treatment']"
   ]
  },
  {
   "cell_type": "code",
   "execution_count": 3,
   "metadata": {
    "colab": {
     "base_uri": "https://localhost:8080/",
     "height": 423
    },
    "id": "rkTE7tCO8x_o",
    "outputId": "4f44679a-09a4-4a6b-bcdb-88a3378d1cd6"
   },
   "outputs": [
    {
     "data": {
      "text/html": [
       "<div>\n",
       "<style scoped>\n",
       "    .dataframe tbody tr th:only-of-type {\n",
       "        vertical-align: middle;\n",
       "    }\n",
       "\n",
       "    .dataframe tbody tr th {\n",
       "        vertical-align: top;\n",
       "    }\n",
       "\n",
       "    .dataframe thead th {\n",
       "        text-align: right;\n",
       "    }\n",
       "</style>\n",
       "<table border=\"1\" class=\"dataframe\">\n",
       "  <thead>\n",
       "    <tr style=\"text-align: right;\">\n",
       "      <th></th>\n",
       "      <th>ID</th>\n",
       "      <th>Chain</th>\n",
       "      <th>SouthJ</th>\n",
       "      <th>CentralJ</th>\n",
       "      <th>NorthJ</th>\n",
       "      <th>PA1</th>\n",
       "      <th>PA2</th>\n",
       "      <th>Shore</th>\n",
       "      <th>Group</th>\n",
       "      <th>Empl</th>\n",
       "      <th>C_Owned</th>\n",
       "      <th>Hours_Opening</th>\n",
       "      <th>Soda</th>\n",
       "      <th>Fries</th>\n",
       "      <th>Treatment</th>\n",
       "      <th>Time</th>\n",
       "    </tr>\n",
       "  </thead>\n",
       "  <tbody>\n",
       "    <tr>\n",
       "      <th>0</th>\n",
       "      <td>46</td>\n",
       "      <td>1</td>\n",
       "      <td>0</td>\n",
       "      <td>0</td>\n",
       "      <td>0</td>\n",
       "      <td>1</td>\n",
       "      <td>0</td>\n",
       "      <td>0</td>\n",
       "      <td>0</td>\n",
       "      <td>30.0</td>\n",
       "      <td>0</td>\n",
       "      <td>16.5</td>\n",
       "      <td>1.03</td>\n",
       "      <td>1.03</td>\n",
       "      <td>0</td>\n",
       "      <td>0</td>\n",
       "    </tr>\n",
       "    <tr>\n",
       "      <th>1</th>\n",
       "      <td>49</td>\n",
       "      <td>2</td>\n",
       "      <td>0</td>\n",
       "      <td>0</td>\n",
       "      <td>0</td>\n",
       "      <td>1</td>\n",
       "      <td>0</td>\n",
       "      <td>0</td>\n",
       "      <td>0</td>\n",
       "      <td>6.5</td>\n",
       "      <td>0</td>\n",
       "      <td>13.0</td>\n",
       "      <td>1.01</td>\n",
       "      <td>0.90</td>\n",
       "      <td>0</td>\n",
       "      <td>0</td>\n",
       "    </tr>\n",
       "    <tr>\n",
       "      <th>2</th>\n",
       "      <td>506</td>\n",
       "      <td>2</td>\n",
       "      <td>0</td>\n",
       "      <td>0</td>\n",
       "      <td>0</td>\n",
       "      <td>1</td>\n",
       "      <td>0</td>\n",
       "      <td>0</td>\n",
       "      <td>0</td>\n",
       "      <td>3.0</td>\n",
       "      <td>1</td>\n",
       "      <td>10.0</td>\n",
       "      <td>0.95</td>\n",
       "      <td>0.74</td>\n",
       "      <td>0</td>\n",
       "      <td>0</td>\n",
       "    </tr>\n",
       "    <tr>\n",
       "      <th>3</th>\n",
       "      <td>56</td>\n",
       "      <td>4</td>\n",
       "      <td>0</td>\n",
       "      <td>0</td>\n",
       "      <td>0</td>\n",
       "      <td>1</td>\n",
       "      <td>0</td>\n",
       "      <td>0</td>\n",
       "      <td>0</td>\n",
       "      <td>20.0</td>\n",
       "      <td>1</td>\n",
       "      <td>12.0</td>\n",
       "      <td>0.87</td>\n",
       "      <td>0.82</td>\n",
       "      <td>0</td>\n",
       "      <td>0</td>\n",
       "    </tr>\n",
       "    <tr>\n",
       "      <th>4</th>\n",
       "      <td>61</td>\n",
       "      <td>4</td>\n",
       "      <td>0</td>\n",
       "      <td>0</td>\n",
       "      <td>0</td>\n",
       "      <td>1</td>\n",
       "      <td>0</td>\n",
       "      <td>0</td>\n",
       "      <td>0</td>\n",
       "      <td>6.0</td>\n",
       "      <td>1</td>\n",
       "      <td>12.0</td>\n",
       "      <td>0.87</td>\n",
       "      <td>0.77</td>\n",
       "      <td>0</td>\n",
       "      <td>0</td>\n",
       "    </tr>\n",
       "    <tr>\n",
       "      <th>...</th>\n",
       "      <td>...</td>\n",
       "      <td>...</td>\n",
       "      <td>...</td>\n",
       "      <td>...</td>\n",
       "      <td>...</td>\n",
       "      <td>...</td>\n",
       "      <td>...</td>\n",
       "      <td>...</td>\n",
       "      <td>...</td>\n",
       "      <td>...</td>\n",
       "      <td>...</td>\n",
       "      <td>...</td>\n",
       "      <td>...</td>\n",
       "      <td>...</td>\n",
       "      <td>...</td>\n",
       "      <td>...</td>\n",
       "    </tr>\n",
       "    <tr>\n",
       "      <th>815</th>\n",
       "      <td>423</td>\n",
       "      <td>2</td>\n",
       "      <td>0</td>\n",
       "      <td>0</td>\n",
       "      <td>1</td>\n",
       "      <td>0</td>\n",
       "      <td>0</td>\n",
       "      <td>0</td>\n",
       "      <td>1</td>\n",
       "      <td>19.0</td>\n",
       "      <td>1</td>\n",
       "      <td>4.0</td>\n",
       "      <td>1.05</td>\n",
       "      <td>0.84</td>\n",
       "      <td>1</td>\n",
       "      <td>1</td>\n",
       "    </tr>\n",
       "    <tr>\n",
       "      <th>816</th>\n",
       "      <td>424</td>\n",
       "      <td>2</td>\n",
       "      <td>0</td>\n",
       "      <td>0</td>\n",
       "      <td>1</td>\n",
       "      <td>0</td>\n",
       "      <td>0</td>\n",
       "      <td>0</td>\n",
       "      <td>1</td>\n",
       "      <td>12.0</td>\n",
       "      <td>1</td>\n",
       "      <td>10.0</td>\n",
       "      <td>1.05</td>\n",
       "      <td>0.94</td>\n",
       "      <td>1</td>\n",
       "      <td>1</td>\n",
       "    </tr>\n",
       "    <tr>\n",
       "      <th>817</th>\n",
       "      <td>426</td>\n",
       "      <td>3</td>\n",
       "      <td>0</td>\n",
       "      <td>0</td>\n",
       "      <td>1</td>\n",
       "      <td>0</td>\n",
       "      <td>0</td>\n",
       "      <td>0</td>\n",
       "      <td>1</td>\n",
       "      <td>5.0</td>\n",
       "      <td>1</td>\n",
       "      <td>19.0</td>\n",
       "      <td>1.11</td>\n",
       "      <td>1.05</td>\n",
       "      <td>1</td>\n",
       "      <td>1</td>\n",
       "    </tr>\n",
       "    <tr>\n",
       "      <th>818</th>\n",
       "      <td>427</td>\n",
       "      <td>4</td>\n",
       "      <td>0</td>\n",
       "      <td>0</td>\n",
       "      <td>1</td>\n",
       "      <td>0</td>\n",
       "      <td>0</td>\n",
       "      <td>0</td>\n",
       "      <td>1</td>\n",
       "      <td>0.0</td>\n",
       "      <td>0</td>\n",
       "      <td>7.0</td>\n",
       "      <td>1.11</td>\n",
       "      <td>1.09</td>\n",
       "      <td>1</td>\n",
       "      <td>1</td>\n",
       "    </tr>\n",
       "    <tr>\n",
       "      <th>819</th>\n",
       "      <td>428</td>\n",
       "      <td>4</td>\n",
       "      <td>0</td>\n",
       "      <td>0</td>\n",
       "      <td>1</td>\n",
       "      <td>0</td>\n",
       "      <td>0</td>\n",
       "      <td>0</td>\n",
       "      <td>1</td>\n",
       "      <td>10.0</td>\n",
       "      <td>0</td>\n",
       "      <td>7.0</td>\n",
       "      <td>1.05</td>\n",
       "      <td>0.89</td>\n",
       "      <td>1</td>\n",
       "      <td>1</td>\n",
       "    </tr>\n",
       "  </tbody>\n",
       "</table>\n",
       "<p>820 rows × 16 columns</p>\n",
       "</div>"
      ],
      "text/plain": [
       "      ID  Chain  SouthJ  CentralJ  NorthJ  PA1  PA2  Shore  Group  Empl  \\\n",
       "0     46      1       0         0       0    1    0      0      0  30.0   \n",
       "1     49      2       0         0       0    1    0      0      0   6.5   \n",
       "2    506      2       0         0       0    1    0      0      0   3.0   \n",
       "3     56      4       0         0       0    1    0      0      0  20.0   \n",
       "4     61      4       0         0       0    1    0      0      0   6.0   \n",
       "..   ...    ...     ...       ...     ...  ...  ...    ...    ...   ...   \n",
       "815  423      2       0         0       1    0    0      0      1  19.0   \n",
       "816  424      2       0         0       1    0    0      0      1  12.0   \n",
       "817  426      3       0         0       1    0    0      0      1   5.0   \n",
       "818  427      4       0         0       1    0    0      0      1   0.0   \n",
       "819  428      4       0         0       1    0    0      0      1  10.0   \n",
       "\n",
       "     C_Owned  Hours_Opening  Soda  Fries  Treatment  Time  \n",
       "0          0           16.5  1.03   1.03          0     0  \n",
       "1          0           13.0  1.01   0.90          0     0  \n",
       "2          1           10.0  0.95   0.74          0     0  \n",
       "3          1           12.0  0.87   0.82          0     0  \n",
       "4          1           12.0  0.87   0.77          0     0  \n",
       "..       ...            ...   ...    ...        ...   ...  \n",
       "815        1            4.0  1.05   0.84          1     1  \n",
       "816        1           10.0  1.05   0.94          1     1  \n",
       "817        1           19.0  1.11   1.05          1     1  \n",
       "818        0            7.0  1.11   1.09          1     1  \n",
       "819        0            7.0  1.05   0.89          1     1  \n",
       "\n",
       "[820 rows x 16 columns]"
      ]
     },
     "execution_count": 3,
     "metadata": {},
     "output_type": "execute_result"
    }
   ],
   "source": [
    "df"
   ]
  },
  {
   "cell_type": "code",
   "execution_count": 4,
   "metadata": {
    "colab": {
     "base_uri": "https://localhost:8080/"
    },
    "id": "w8omZpjqTt6c",
    "outputId": "baefae88-3780-4f96-8ffd-1c50b72814bb"
   },
   "outputs": [
    {
     "data": {
      "text/plain": [
       "Index(['ID', 'Chain', 'SouthJ', 'CentralJ', 'NorthJ', 'PA1', 'PA2', 'Shore',\n",
       "       'Group', 'Empl', 'C_Owned', 'Hours_Opening', 'Soda', 'Fries',\n",
       "       'Treatment', 'Time'],\n",
       "      dtype='object')"
      ]
     },
     "execution_count": 4,
     "metadata": {},
     "output_type": "execute_result"
    }
   ],
   "source": [
    "df.columns"
   ]
  },
  {
   "cell_type": "code",
   "execution_count": 5,
   "metadata": {
    "colab": {
     "base_uri": "https://localhost:8080/"
    },
    "id": "c86kYAyMa2y1",
    "outputId": "0c16b994-12d9-4d6c-ab60-fbe7ff31678a"
   },
   "outputs": [
    {
     "name": "stdout",
     "output_type": "stream",
     "text": [
      "<class 'pandas.core.frame.DataFrame'>\n",
      "RangeIndex: 820 entries, 0 to 819\n",
      "Data columns (total 16 columns):\n",
      " #   Column         Non-Null Count  Dtype  \n",
      "---  ------         --------------  -----  \n",
      " 0   ID             820 non-null    int64  \n",
      " 1   Chain          820 non-null    int64  \n",
      " 2   SouthJ         820 non-null    int64  \n",
      " 3   CentralJ       820 non-null    int64  \n",
      " 4   NorthJ         820 non-null    int64  \n",
      " 5   PA1            820 non-null    int64  \n",
      " 6   PA2            820 non-null    int64  \n",
      " 7   Shore          820 non-null    int64  \n",
      " 8   Group          820 non-null    int64  \n",
      " 9   Empl           802 non-null    float64\n",
      " 10  C_Owned        820 non-null    int64  \n",
      " 11  Hours_Opening  820 non-null    float64\n",
      " 12  Soda           790 non-null    float64\n",
      " 13  Fries          775 non-null    float64\n",
      " 14  Treatment      820 non-null    int64  \n",
      " 15  Time           820 non-null    int64  \n",
      "dtypes: float64(4), int64(12)\n",
      "memory usage: 102.6 KB\n"
     ]
    }
   ],
   "source": [
    "df.info()"
   ]
  },
  {
   "cell_type": "code",
   "execution_count": 6,
   "metadata": {
    "colab": {
     "base_uri": "https://localhost:8080/",
     "height": 178
    },
    "id": "cDyajfS2a0cj",
    "outputId": "356c8606-9b4a-4d24-85a2-77180b722c3d"
   },
   "outputs": [
    {
     "data": {
      "text/plain": [
       "Group\n",
       "1    662\n",
       "0    158\n",
       "Name: count, dtype: int64"
      ]
     },
     "execution_count": 6,
     "metadata": {},
     "output_type": "execute_result"
    }
   ],
   "source": [
    "df['Group'].value_counts()"
   ]
  },
  {
   "cell_type": "code",
   "execution_count": 7,
   "metadata": {
    "colab": {
     "base_uri": "https://localhost:8080/",
     "height": 178
    },
    "id": "eV_6W11TPfc7",
    "outputId": "3715bfa4-75f0-4b65-b6fd-7457bef17dd2"
   },
   "outputs": [
    {
     "data": {
      "text/plain": [
       "Time\n",
       "0    410\n",
       "1    410\n",
       "Name: count, dtype: int64"
      ]
     },
     "execution_count": 7,
     "metadata": {},
     "output_type": "execute_result"
    }
   ],
   "source": [
    "df['Time'].value_counts()"
   ]
  },
  {
   "cell_type": "code",
   "execution_count": 8,
   "metadata": {
    "colab": {
     "base_uri": "https://localhost:8080/",
     "height": 174
    },
    "id": "bywMFMdXPobw",
    "outputId": "a3ee5018-8c92-44cd-bf78-11890cfa6d9c"
   },
   "outputs": [
    {
     "data": {
      "text/html": [
       "<div>\n",
       "<style scoped>\n",
       "    .dataframe tbody tr th:only-of-type {\n",
       "        vertical-align: middle;\n",
       "    }\n",
       "\n",
       "    .dataframe tbody tr th {\n",
       "        vertical-align: top;\n",
       "    }\n",
       "\n",
       "    .dataframe thead th {\n",
       "        text-align: right;\n",
       "    }\n",
       "</style>\n",
       "<table border=\"1\" class=\"dataframe\">\n",
       "  <thead>\n",
       "    <tr style=\"text-align: right;\">\n",
       "      <th></th>\n",
       "      <th>Time</th>\n",
       "      <th>Group</th>\n",
       "      <th>Counts</th>\n",
       "    </tr>\n",
       "  </thead>\n",
       "  <tbody>\n",
       "    <tr>\n",
       "      <th>0</th>\n",
       "      <td>0</td>\n",
       "      <td>0</td>\n",
       "      <td>79</td>\n",
       "    </tr>\n",
       "    <tr>\n",
       "      <th>1</th>\n",
       "      <td>0</td>\n",
       "      <td>1</td>\n",
       "      <td>331</td>\n",
       "    </tr>\n",
       "    <tr>\n",
       "      <th>2</th>\n",
       "      <td>1</td>\n",
       "      <td>0</td>\n",
       "      <td>79</td>\n",
       "    </tr>\n",
       "    <tr>\n",
       "      <th>3</th>\n",
       "      <td>1</td>\n",
       "      <td>1</td>\n",
       "      <td>331</td>\n",
       "    </tr>\n",
       "  </tbody>\n",
       "</table>\n",
       "</div>"
      ],
      "text/plain": [
       "   Time  Group  Counts\n",
       "0     0      0      79\n",
       "1     0      1     331\n",
       "2     1      0      79\n",
       "3     1      1     331"
      ]
     },
     "execution_count": 8,
     "metadata": {},
     "output_type": "execute_result"
    }
   ],
   "source": [
    "df.groupby(['Time', 'Group']).size().reset_index(name='Counts')\n"
   ]
  },
  {
   "cell_type": "markdown",
   "metadata": {
    "id": "COjVMb6W18bN"
   },
   "source": [
    "\n",
    "\n",
    "### Solution?\n",
    "\n",
    "+ Compare how the difference in employment before and after 1992 differs b/w NJ and PA?\n",
    "$$\\text{DiD} = \\big(\\mathbb{E}\\big[\\text{Employ.}|\\text{NJ}, \\text{Post-92}\\big]-\\mathbb{E}\\big[\\text{Employ.}|\\text{NJ}, \\text{Pre-92}\\big]\\big) - \\big(\\mathbb{E}\\big[\\text{Employ.}|\\text{PA}, \\text{Post-92}\\big] - \\mathbb{E}\\big[\\text{Employ.}|\\text{PA}, \\text{Pre-92}\\big]]\\big)$$\n",
    "\n",
    "  + Assuming that if NJ had not increased its minimum wage, its employment would have evolved the same way as PA's.\n"
   ]
  },
  {
   "cell_type": "code",
   "execution_count": 9,
   "metadata": {
    "colab": {
     "base_uri": "https://localhost:8080/"
    },
    "id": "w9xbPR5IL4VS",
    "outputId": "7f8df40f-eefa-4c72-f039-d68abb7479dd"
   },
   "outputs": [
    {
     "name": "stdout",
     "output_type": "stream",
     "text": [
      "Difference-in-Differences Estimate: 3.3617496258686552\n"
     ]
    }
   ],
   "source": [
    "summary = df.pivot_table(index=\"Group\", columns=\"Time\", values=\"Empl\")\n",
    "nj_diff = summary.loc[1, 1] - summary.loc[1, 0]\n",
    "pa_diff = summary.loc[0, 1] - summary.loc[0, 0]\n",
    "did_estimate = nj_diff - pa_diff\n",
    "print(\"Difference-in-Differences Estimate:\", did_estimate)"
   ]
  },
  {
   "cell_type": "code",
   "execution_count": 10,
   "metadata": {
    "cellView": "form",
    "colab": {
     "base_uri": "https://localhost:8080/",
     "height": 472
    },
    "id": "JVBnRNvVQk7I",
    "outputId": "9ce8f58d-b281-4ad4-b22f-cec66a08253e"
   },
   "outputs": [
    {
     "data": {
      "image/png": "[encoded data removed]",
      "text/plain": [
       "<Figure size 640x480 with 1 Axes>"
      ]
     },
     "metadata": {},
     "output_type": "display_data"
    }
   ],
   "source": [
    "# @title\n",
    "\n",
    "# Compute group means\n",
    "group_means = df.groupby(['Time', 'Group'])['Empl'].mean().reset_index()\n",
    "\n",
    "group_0 = group_means[group_means['Group'] == 0]\n",
    "group_1 = group_means[group_means['Group'] == 1]\n",
    "\n",
    "pre_treatment_group_0 = group_0[group_0['Time'] == 0]['Empl'].values[0]\n",
    "pre_treatment_group_1 = group_1[group_1['Time'] == 0]['Empl'].values[0]\n",
    "\n",
    "trend_diff = pre_treatment_group_1 - pre_treatment_group_0\n",
    "\n",
    "parallel_group_1 = group_0.copy()\n",
    "parallel_group_1['Empl'] = parallel_group_1['Empl'] + trend_diff\n",
    "\n",
    "post_treatment_group_1 = group_1[group_1['Time'] >= 0.5]\n",
    "\n",
    "parallel_at_0_5 = (summary.loc[0, 1] - summary.loc[0, 0] + 0.3) / 2 + summary.loc[0, 1]\n",
    "\n",
    "actual_post_treatment_group_1 = post_treatment_group_1[post_treatment_group_1['Time'] == 1]['Empl'].values[0]\n",
    "\n",
    "plt.plot(group_0['Time'], group_0['Empl'], marker='o', color='blue', linewidth=2)\n",
    "\n",
    "plt.plot(parallel_group_1['Time'], parallel_group_1['Empl'], linestyle='--', color='orange', linewidth=2)\n",
    "\n",
    "plt.plot(post_treatment_group_1['Time'], post_treatment_group_1['Empl'], marker='o', color='orange', linewidth=2)\n",
    "\n",
    "plt.axvline(x=0.5, color='gray', linestyle='--')\n",
    "\n",
    "plt.plot([0.5, 1], [parallel_at_0_5, actual_post_treatment_group_1], linestyle='-', color='orange', linewidth=2)\n",
    "\n",
    "plt.title(\"Outcome Over Time by Group\")\n",
    "plt.xlabel(\"Time (Pre, Post)\")\n",
    "plt.ylabel(\"Average Employment Rate\")\n",
    "\n",
    "plt.xticks([0, 1], ['Pre', 'Post'])\n",
    "\n",
    "plt.text(1, parallel_at_0_5 +2.3, \"NJ\", color='orange', fontsize=12, ha='center')\n",
    "\n",
    "plt.text(0, pre_treatment_group_0 + 0.1, \"PA\", color='blue', fontsize=12, ha='center')\n",
    "\n",
    "plt.show()\n",
    "\n",
    "\n",
    "\n",
    "\n",
    "\n"
   ]
  },
  {
   "cell_type": "markdown",
   "metadata": {
    "id": "pCsSw3JM2ABV"
   },
   "source": [
    "### Regression estimation"
   ]
  },
  {
   "cell_type": "markdown",
   "metadata": {
    "id": "eqWC3nl778pt"
   },
   "source": [
    "\n",
    "As shown above, we could also frame our problme in terms of a regression problem, where:\n",
    "\n",
    "1. **Group variable ($G$)**:  \n",
    "   $$\n",
    "   G =\n",
    "   \\begin{cases}\n",
    "   1 & \\text{if restaurant is in NJ (treatment group)} \\\\\n",
    "   0 & \\text{if restaurant is in PA (control group)}\n",
    "   \\end{cases}\n",
    "   $$\n",
    "2. **Time variable ($T$)**:  \n",
    "   $$\n",
    "   T =\n",
    "   \\begin{cases}\n",
    "   1 & \\text{if after the minimum wage increase in NJ (post-treatment)} \\\\\n",
    "   0 & \\text{if before the minimum wage increase in NJ (pre-treatment)}\n",
    "   \\end{cases}\n",
    "   $$\n",
    "\n",
    "3. **Interaction term ($D$)**:  \n",
    "\n",
    "   $$\n",
    "   D = G \\times T =\n",
    "   \\begin{cases}\n",
    "   1 & \\text{if the restaurant is in NJ after the wage increase (treated group, post-treatment)} \\\\\n",
    "   0 & \\text{otherwise}\n",
    "   \\end{cases}\n",
    "   $$\n",
    "\n",
    "Leading to:\n",
    "$$\n",
    "Y = \\beta_0 + \\beta_1 T + \\beta_2 G + \\beta_3 (T \\times G) + \\epsilon\n",
    "$$\n"
   ]
  },
  {
   "cell_type": "code",
   "execution_count": 11,
   "metadata": {
    "colab": {
     "base_uri": "https://localhost:8080/"
    },
    "id": "2qeOIJaD4IQH",
    "outputId": "93b0ee5b-2a1d-4afb-c113-a8dfee24676a"
   },
   "outputs": [
    {
     "name": "stdout",
     "output_type": "stream",
     "text": [
      "                            OLS Regression Results                            \n",
      "==============================================================================\n",
      "Dep. Variable:                   Empl   R-squared:                       0.008\n",
      "Model:                            OLS   Adj. R-squared:                  0.004\n",
      "Method:                 Least Squares   F-statistic:                     2.122\n",
      "Date:                Sun, 22 Dec 2024   Prob (F-statistic):             0.0959\n",
      "Time:                        19:01:44   Log-Likelihood:                -2831.4\n",
      "No. Observations:                 802   AIC:                             5671.\n",
      "Df Residuals:                     798   BIC:                             5690.\n",
      "Df Model:                           3                                         \n",
      "Covariance Type:            nonrobust                                         \n",
      "==============================================================================\n",
      "                 coef    std err          t      P>|t|      [0.025      0.975]\n",
      "------------------------------------------------------------------------------\n",
      "Intercept     10.2051      0.938     10.883      0.000       8.365      12.046\n",
      "Group         -2.4812      1.044     -2.377      0.018      -4.530      -0.432\n",
      "Time          -2.6402      1.330     -1.985      0.048      -5.252      -0.029\n",
      "Group:Time     3.3617      1.481      2.270      0.023       0.454       6.269\n",
      "==============================================================================\n",
      "Omnibus:                      242.796   Durbin-Watson:                   2.006\n",
      "Prob(Omnibus):                  0.000   Jarque-Bera (JB):              677.203\n",
      "Skew:                           1.524   Prob(JB):                    8.86e-148\n",
      "Kurtosis:                       6.313   Cond. No.                         11.3\n",
      "==============================================================================\n",
      "\n",
      "Notes:\n",
      "[1] Standard Errors assume that the covariance matrix of the errors is correctly specified.\n"
     ]
    }
   ],
   "source": [
    "import statsmodels.formula.api as smf\n",
    "\n",
    "# Run regression\n",
    "model = smf.ols(\"Empl ~ Group + Time + Group*Time\", data=df).fit()\n",
    "\n",
    "print(model.summary())"
   ]
  },
  {
   "cell_type": "markdown",
   "metadata": {
    "id": "fd287HdAWAYI"
   },
   "source": [
    "Regardless of the method, we find that the minimum wage increase cause NJ fast food branches to increase employment by 3.36.\n"
   ]
  },
  {
   "cell_type": "code",
   "execution_count": 12,
   "metadata": {
    "colab": {
     "base_uri": "https://localhost:8080/",
     "height": 795
    },
    "id": "WhbELMgt5DPS",
    "outputId": "cd743cf2-e95f-4af2-b873-e19e7e189458"
   },
   "outputs": [
    {
     "data": {
      "text/html": [
       "<table class=\"simpletable\">\n",
       "<caption>OLS Regression Results</caption>\n",
       "<tr>\n",
       "  <th>Dep. Variable:</th>          <td>Empl</td>       <th>  R-squared:         </th> <td>   0.126</td>\n",
       "</tr>\n",
       "<tr>\n",
       "  <th>Model:</th>                   <td>OLS</td>       <th>  Adj. R-squared:    </th> <td>   0.110</td>\n",
       "</tr>\n",
       "<tr>\n",
       "  <th>Method:</th>             <td>Least Squares</td>  <th>  F-statistic:       </th> <td>   7.670</td>\n",
       "</tr>\n",
       "<tr>\n",
       "  <th>Date:</th>             <td>Sun, 22 Dec 2024</td> <th>  Prob (F-statistic):</th> <td>2.94e-15</td>\n",
       "</tr>\n",
       "<tr>\n",
       "  <th>Time:</th>                 <td>19:01:44</td>     <th>  Log-Likelihood:    </th> <td> -2608.8</td>\n",
       "</tr>\n",
       "<tr>\n",
       "  <th>No. Observations:</th>      <td>   757</td>      <th>  AIC:               </th> <td>   5248.</td>\n",
       "</tr>\n",
       "<tr>\n",
       "  <th>Df Residuals:</th>          <td>   742</td>      <th>  BIC:               </th> <td>   5317.</td>\n",
       "</tr>\n",
       "<tr>\n",
       "  <th>Df Model:</th>              <td>    14</td>      <th>                     </th>     <td> </td>   \n",
       "</tr>\n",
       "<tr>\n",
       "  <th>Covariance Type:</th>      <td>nonrobust</td>    <th>                     </th>     <td> </td>   \n",
       "</tr>\n",
       "</table>\n",
       "<table class=\"simpletable\">\n",
       "<tr>\n",
       "         <td></td>            <th>coef</th>     <th>std err</th>      <th>t</th>      <th>P>|t|</th>  <th>[0.025</th>    <th>0.975]</th>  \n",
       "</tr>\n",
       "<tr>\n",
       "  <th>Intercept</th>       <td>   -0.3236</td> <td>    3.414</td> <td>   -0.095</td> <td> 0.925</td> <td>   -7.025</td> <td>    6.378</td>\n",
       "</tr>\n",
       "<tr>\n",
       "  <th>C(Chain)[T.2]</th>   <td>   -0.5951</td> <td>    1.089</td> <td>   -0.546</td> <td> 0.585</td> <td>   -2.733</td> <td>    1.543</td>\n",
       "</tr>\n",
       "<tr>\n",
       "  <th>C(Chain)[T.3]</th>   <td>   -1.7984</td> <td>    0.907</td> <td>   -1.982</td> <td> 0.048</td> <td>   -3.580</td> <td>   -0.017</td>\n",
       "</tr>\n",
       "<tr>\n",
       "  <th>C(Chain)[T.4]</th>   <td>    2.2299</td> <td>    1.055</td> <td>    2.114</td> <td> 0.035</td> <td>    0.160</td> <td>    4.300</td>\n",
       "</tr>\n",
       "<tr>\n",
       "  <th>Group</th>           <td>   -1.7994</td> <td>    1.195</td> <td>   -1.505</td> <td> 0.133</td> <td>   -4.146</td> <td>    0.547</td>\n",
       "</tr>\n",
       "<tr>\n",
       "  <th>Treatment</th>       <td>   -1.3162</td> <td>    1.293</td> <td>   -1.018</td> <td> 0.309</td> <td>   -3.855</td> <td>    1.223</td>\n",
       "</tr>\n",
       "<tr>\n",
       "  <th>Treatment:Group</th> <td>    4.1237</td> <td>    1.414</td> <td>    2.917</td> <td> 0.004</td> <td>    1.348</td> <td>    6.899</td>\n",
       "</tr>\n",
       "<tr>\n",
       "  <th>C_Owned</th>         <td>   -0.1287</td> <td>    0.681</td> <td>   -0.189</td> <td> 0.850</td> <td>   -1.466</td> <td>    1.208</td>\n",
       "</tr>\n",
       "<tr>\n",
       "  <th>Hours_Opening</th>   <td>    0.5499</td> <td>    0.099</td> <td>    5.579</td> <td> 0.000</td> <td>    0.356</td> <td>    0.743</td>\n",
       "</tr>\n",
       "<tr>\n",
       "  <th>Soda</th>            <td>    2.7274</td> <td>    4.260</td> <td>    0.640</td> <td> 0.522</td> <td>   -5.635</td> <td>   11.090</td>\n",
       "</tr>\n",
       "<tr>\n",
       "  <th>Fries</th>           <td>   -0.6461</td> <td>    4.065</td> <td>   -0.159</td> <td> 0.874</td> <td>   -8.627</td> <td>    7.335</td>\n",
       "</tr>\n",
       "<tr>\n",
       "  <th>SouthJ</th>          <td>   -1.7821</td> <td>    0.561</td> <td>   -3.176</td> <td> 0.002</td> <td>   -2.884</td> <td>   -0.681</td>\n",
       "</tr>\n",
       "<tr>\n",
       "  <th>CentralJ</th>        <td>   -0.6918</td> <td>    0.699</td> <td>   -0.989</td> <td> 0.323</td> <td>   -2.065</td> <td>    0.681</td>\n",
       "</tr>\n",
       "<tr>\n",
       "  <th>NorthJ</th>          <td>    0.6744</td> <td>    0.679</td> <td>    0.994</td> <td> 0.321</td> <td>   -0.658</td> <td>    2.007</td>\n",
       "</tr>\n",
       "<tr>\n",
       "  <th>PA1</th>             <td>   -0.4646</td> <td>    1.381</td> <td>   -0.336</td> <td> 0.737</td> <td>   -3.175</td> <td>    2.246</td>\n",
       "</tr>\n",
       "<tr>\n",
       "  <th>PA2</th>             <td>    1.9404</td> <td>    1.380</td> <td>    1.406</td> <td> 0.160</td> <td>   -0.769</td> <td>    4.650</td>\n",
       "</tr>\n",
       "<tr>\n",
       "  <th>Shore</th>           <td>    0.8405</td> <td>    1.047</td> <td>    0.803</td> <td> 0.422</td> <td>   -1.214</td> <td>    2.895</td>\n",
       "</tr>\n",
       "</table>\n",
       "<table class=\"simpletable\">\n",
       "<tr>\n",
       "  <th>Omnibus:</th>       <td>152.622</td> <th>  Durbin-Watson:     </th> <td>   2.081</td>\n",
       "</tr>\n",
       "<tr>\n",
       "  <th>Prob(Omnibus):</th> <td> 0.000</td>  <th>  Jarque-Bera (JB):  </th> <td> 284.331</td>\n",
       "</tr>\n",
       "<tr>\n",
       "  <th>Skew:</th>          <td> 1.181</td>  <th>  Prob(JB):          </th> <td>1.81e-62</td>\n",
       "</tr>\n",
       "<tr>\n",
       "  <th>Kurtosis:</th>      <td> 4.855</td>  <th>  Cond. No.          </th> <td>1.03e+17</td>\n",
       "</tr>\n",
       "</table><br/><br/>Notes:<br/>[1] Standard Errors assume that the covariance matrix of the errors is correctly specified.<br/>[2] The smallest eigenvalue is 1.35e-29. This might indicate that there are<br/>strong multicollinearity problems or that the design matrix is singular."
      ],
      "text/latex": [
       "\\begin{center}\n",
       "\\begin{tabular}{lclc}\n",
       "\\toprule\n",
       "\\textbf{Dep. Variable:}    &       Empl       & \\textbf{  R-squared:         } &     0.126   \\\\\n",
       "\\textbf{Model:}            &       OLS        & \\textbf{  Adj. R-squared:    } &     0.110   \\\\\n",
       "\\textbf{Method:}           &  Least Squares   & \\textbf{  F-statistic:       } &     7.670   \\\\\n",
       "\\textbf{Date:}             & Sun, 22 Dec 2024 & \\textbf{  Prob (F-statistic):} &  2.94e-15   \\\\\n",
       "\\textbf{Time:}             &     19:01:44     & \\textbf{  Log-Likelihood:    } &   -2608.8   \\\\\n",
       "\\textbf{No. Observations:} &         757      & \\textbf{  AIC:               } &     5248.   \\\\\n",
       "\\textbf{Df Residuals:}     &         742      & \\textbf{  BIC:               } &     5317.   \\\\\n",
       "\\textbf{Df Model:}         &          14      & \\textbf{                     } &             \\\\\n",
       "\\textbf{Covariance Type:}  &    nonrobust     & \\textbf{                     } &             \\\\\n",
       "\\bottomrule\n",
       "\\end{tabular}\n",
       "\\begin{tabular}{lcccccc}\n",
       "                         & \\textbf{coef} & \\textbf{std err} & \\textbf{t} & \\textbf{P$> |$t$|$} & \\textbf{[0.025} & \\textbf{0.975]}  \\\\\n",
       "\\midrule\n",
       "\\textbf{Intercept}       &      -0.3236  &        3.414     &    -0.095  &         0.925        &       -7.025    &        6.378     \\\\\n",
       "\\textbf{C(Chain)[T.2]}   &      -0.5951  &        1.089     &    -0.546  &         0.585        &       -2.733    &        1.543     \\\\\n",
       "\\textbf{C(Chain)[T.3]}   &      -1.7984  &        0.907     &    -1.982  &         0.048        &       -3.580    &       -0.017     \\\\\n",
       "\\textbf{C(Chain)[T.4]}   &       2.2299  &        1.055     &     2.114  &         0.035        &        0.160    &        4.300     \\\\\n",
       "\\textbf{Group}           &      -1.7994  &        1.195     &    -1.505  &         0.133        &       -4.146    &        0.547     \\\\\n",
       "\\textbf{Treatment}       &      -1.3162  &        1.293     &    -1.018  &         0.309        &       -3.855    &        1.223     \\\\\n",
       "\\textbf{Treatment:Group} &       4.1237  &        1.414     &     2.917  &         0.004        &        1.348    &        6.899     \\\\\n",
       "\\textbf{C\\_Owned}        &      -0.1287  &        0.681     &    -0.189  &         0.850        &       -1.466    &        1.208     \\\\\n",
       "\\textbf{Hours\\_Opening}  &       0.5499  &        0.099     &     5.579  &         0.000        &        0.356    &        0.743     \\\\\n",
       "\\textbf{Soda}            &       2.7274  &        4.260     &     0.640  &         0.522        &       -5.635    &       11.090     \\\\\n",
       "\\textbf{Fries}           &      -0.6461  &        4.065     &    -0.159  &         0.874        &       -8.627    &        7.335     \\\\\n",
       "\\textbf{SouthJ}          &      -1.7821  &        0.561     &    -3.176  &         0.002        &       -2.884    &       -0.681     \\\\\n",
       "\\textbf{CentralJ}        &      -0.6918  &        0.699     &    -0.989  &         0.323        &       -2.065    &        0.681     \\\\\n",
       "\\textbf{NorthJ}          &       0.6744  &        0.679     &     0.994  &         0.321        &       -0.658    &        2.007     \\\\\n",
       "\\textbf{PA1}             &      -0.4646  &        1.381     &    -0.336  &         0.737        &       -3.175    &        2.246     \\\\\n",
       "\\textbf{PA2}             &       1.9404  &        1.380     &     1.406  &         0.160        &       -0.769    &        4.650     \\\\\n",
       "\\textbf{Shore}           &       0.8405  &        1.047     &     0.803  &         0.422        &       -1.214    &        2.895     \\\\\n",
       "\\bottomrule\n",
       "\\end{tabular}\n",
       "\\begin{tabular}{lclc}\n",
       "\\textbf{Omnibus:}       & 152.622 & \\textbf{  Durbin-Watson:     } &    2.081  \\\\\n",
       "\\textbf{Prob(Omnibus):} &   0.000 & \\textbf{  Jarque-Bera (JB):  } &  284.331  \\\\\n",
       "\\textbf{Skew:}          &   1.181 & \\textbf{  Prob(JB):          } & 1.81e-62  \\\\\n",
       "\\textbf{Kurtosis:}      &   4.855 & \\textbf{  Cond. No.          } & 1.03e+17  \\\\\n",
       "\\bottomrule\n",
       "\\end{tabular}\n",
       "%\\caption{OLS Regression Results}\n",
       "\\end{center}\n",
       "\n",
       "Notes: \\newline\n",
       " [1] Standard Errors assume that the covariance matrix of the errors is correctly specified. \\newline\n",
       " [2] The smallest eigenvalue is 1.35e-29. This might indicate that there are \\newline\n",
       " strong multicollinearity problems or that the design matrix is singular."
      ],
      "text/plain": [
       "<class 'statsmodels.iolib.summary.Summary'>\n",
       "\"\"\"\n",
       "                            OLS Regression Results                            \n",
       "==============================================================================\n",
       "Dep. Variable:                   Empl   R-squared:                       0.126\n",
       "Model:                            OLS   Adj. R-squared:                  0.110\n",
       "Method:                 Least Squares   F-statistic:                     7.670\n",
       "Date:                Sun, 22 Dec 2024   Prob (F-statistic):           2.94e-15\n",
       "Time:                        19:01:44   Log-Likelihood:                -2608.8\n",
       "No. Observations:                 757   AIC:                             5248.\n",
       "Df Residuals:                     742   BIC:                             5317.\n",
       "Df Model:                          14                                         \n",
       "Covariance Type:            nonrobust                                         \n",
       "===================================================================================\n",
       "                      coef    std err          t      P>|t|      [0.025      0.975]\n",
       "-----------------------------------------------------------------------------------\n",
       "Intercept          -0.3236      3.414     -0.095      0.925      -7.025       6.378\n",
       "C(Chain)[T.2]      -0.5951      1.089     -0.546      0.585      -2.733       1.543\n",
       "C(Chain)[T.3]      -1.7984      0.907     -1.982      0.048      -3.580      -0.017\n",
       "C(Chain)[T.4]       2.2299      1.055      2.114      0.035       0.160       4.300\n",
       "Group              -1.7994      1.195     -1.505      0.133      -4.146       0.547\n",
       "Treatment          -1.3162      1.293     -1.018      0.309      -3.855       1.223\n",
       "Treatment:Group     4.1237      1.414      2.917      0.004       1.348       6.899\n",
       "C_Owned            -0.1287      0.681     -0.189      0.850      -1.466       1.208\n",
       "Hours_Opening       0.5499      0.099      5.579      0.000       0.356       0.743\n",
       "Soda                2.7274      4.260      0.640      0.522      -5.635      11.090\n",
       "Fries              -0.6461      4.065     -0.159      0.874      -8.627       7.335\n",
       "SouthJ             -1.7821      0.561     -3.176      0.002      -2.884      -0.681\n",
       "CentralJ           -0.6918      0.699     -0.989      0.323      -2.065       0.681\n",
       "NorthJ              0.6744      0.679      0.994      0.321      -0.658       2.007\n",
       "PA1                -0.4646      1.381     -0.336      0.737      -3.175       2.246\n",
       "PA2                 1.9404      1.380      1.406      0.160      -0.769       4.650\n",
       "Shore               0.8405      1.047      0.803      0.422      -1.214       2.895\n",
       "==============================================================================\n",
       "Omnibus:                      152.622   Durbin-Watson:                   2.081\n",
       "Prob(Omnibus):                  0.000   Jarque-Bera (JB):              284.331\n",
       "Skew:                           1.181   Prob(JB):                     1.81e-62\n",
       "Kurtosis:                       4.855   Cond. No.                     1.03e+17\n",
       "==============================================================================\n",
       "\n",
       "Notes:\n",
       "[1] Standard Errors assume that the covariance matrix of the errors is correctly specified.\n",
       "[2] The smallest eigenvalue is 1.35e-29. This might indicate that there are\n",
       "strong multicollinearity problems or that the design matrix is singular.\n",
       "\"\"\""
      ]
     },
     "execution_count": 12,
     "metadata": {},
     "output_type": "execute_result"
    }
   ],
   "source": [
    "formula = \"\"\"\n",
    "Empl ~ Group + Treatment +\n",
    "Treatment * Group + C_Owned +\n",
    "Hours_Opening + Soda +\n",
    "         Fries +\n",
    "         C(Chain) +\n",
    "         SouthJ +\n",
    "         CentralJ +\n",
    "         NorthJ +\n",
    "         PA1 +\n",
    "         PA2 +\n",
    "         Shore\n",
    "\"\"\"\n",
    "\n",
    "reg = smf.ols(formula=formula, data=df).fit()\n",
    "\n",
    "reg.summary()\n"
   ]
  },
  {
   "cell_type": "markdown",
   "metadata": {
    "id": "LWTSde5NVbTP"
   },
   "source": [
    "### Does the Parallel Trends Hold?\n",
    "\n",
    "1. Are the treated and untreated groups fundamentally “similar”?\n",
    "2. Why did the treated group get the treatment (and why didn’t\n",
    "the untreated group)?\n",
    "3. Was the treatment event anticipated by the treated group?\n",
    "4. Were there parallel trends in the pre-period?"
   ]
  },
  {
   "cell_type": "markdown",
   "metadata": {},
   "source": [
    "#### Fallback\n",
    "What if the Parallel Trends Assumption Does Not Hold? (We reject the parallel trends assumption)\n",
    "1. matching/synthetic control method (weighted control groups to mimic the treated group)\n",
    "2. Regression Discontinuity Design (RDD)\n",
    "3. Instrumental Variables (IV)"
   ]
  },
  {
   "cell_type": "markdown",
   "metadata": {
    "id": "1AnzqPC0WtUt"
   },
   "source": [
    "### Time Varying Treatment Effects\n",
    "\n",
    "\n",
    "Are the effects varying? Meaning the minimum wage increase on employment varies over time, initially increasing employment but eventually decreasing as firms substitute workers with machines?\n",
    "\n",
    "Our model can capture this dynamic with multiple time periods $t$:\n",
    "\n",
    "$$\n",
    "Y_{g, t} = \\sum_{i=-\\underline{t}}^{\\bar{t}} \\beta_i T_i + \\gamma G + \\sum_{j=0}^{\\bar{t}} \\alpha_j D_j \\\\\n",
    "\\alpha_j = A T T_j\n",
    "$$\n",
    "\n",
    "- $\\beta_i$ captures general time trends\n",
    "- $\\gamma$ represents the difference between treated and untreated groups.\n",
    "- $\\alpha_j$ estimates the time-varying Average Treatment Effects on the Treated (ATTs).\n"
   ]
  },
  {
   "cell_type": "markdown",
   "metadata": {},
   "source": [
    "### (Recall) Standard Errors of Linear Regression\n",
    "\n",
    "#### Robust Standard Errors\n",
    "\n",
    "\\begin{align}\n",
    "V_{\\text {robust }}=\\left(X^{T} X\\right)^{-1} X^{T} \\Omega X\\left(X^{T} X\\right)^{-1},\n",
    "\\end{align}\n",
    "\n",
    "\n",
    "#### Cluster-Robust Standard Errors\n",
    "Recall: iid residuals are not realistic in most cases, but we can assume the residuals are **clustered** by the group, which means between-group correlation is zero, but within-group correlation is positive. Block diagonal matrix $\\Omega$.\n",
    "\n",
    "\n",
    "\\begin{align}\n",
    "V_{\\text {clustered }}=\\left(X^{T} X\\right)^{-1}\\left(\\sum_{c=1}^C X_c^{T} \\hat{u}_c \\hat{u}_c^{T} X_c\\right)\\left(X^{T} X\\right)^{-1}\n",
    "\\end{align}\n",
    "\n",
    "\n",
    "where $\\Omega$ is a block diagonal matrix with each block being the covariance matrix of the residuals within each cluster.\n"
   ]
  },
  {
   "cell_type": "markdown",
   "metadata": {},
   "source": [
    "you need to provide the clusters.\n"
   ]
  },
  {
   "cell_type": "markdown",
   "metadata": {},
   "source": [
    "$$\n",
    "\\begin{align}\n",
    "\\operatorname{Cov}\\left(Y_{i, g, t}, Y_{i, g, t+1}\\right)>0\n",
    "\\end{align}\n",
    "$$"
   ]
  },
  {
   "cell_type": "markdown",
   "metadata": {},
   "source": [
    "We need to use cluster-robust standard errors to account for the auto-correlation along the time dimension."
   ]
  },
  {
   "cell_type": "markdown",
   "metadata": {},
   "source": [
    "For clustered standard errors to make sense, we need:\n",
    "- Each cluster is independent of the other clusters\n",
    "- A large number of clusters (both treated and untreated)"
   ]
  },
  {
   "cell_type": "markdown",
   "metadata": {},
   "source": [
    "#### Permutation Test"
   ]
  },
  {
   "cell_type": "markdown",
   "metadata": {
    "id": "4N16p4M0vA2d"
   },
   "source": [
    "## Path Forward\n",
    "\n",
    "+ Recap of methods learned in this class, and wrap up!\n"
   ]
  },
  {
   "cell_type": "markdown",
   "metadata": {
    "id": "OoPKCOV3kMrt"
   },
   "source": [
    "---\n",
    "\n",
    "**References:**\n",
    "\n",
    "+ Tutorials:\n",
    "  + https://rpubs.com/phle/r_tutorial_difference_in_differences\n",
    "  +  https://bookdown.org/cuborican/RE_STAT/difference-in-differences.html\n",
    "\n",
    "+ Card, David and Alan B. Krueger. 1994. “Minimum Wages\n",
    "and Employment: A Case Study of the Fast-Food Industry in\n",
    "New Jersey and Pennsylvania.” The American Economic\n",
    "Review 84 (4): 772-793.\n",
    "https://www.jstor.org/stable/2677856.\n",
    "\n",
    "+ Sah, Sidharth. Causal Inference: Difference-in-Differences. 2024. PowerPoint presentation."
   ]
  }
 ],
 "metadata": {
  "colab": {
   "provenance": []
  },
  "kernelspec": {
   "display_name": "Python 3",
   "name": "python3"
  },
  "language_info": {
   "codemirror_mode": {
    "name": "ipython",
    "version": 3
   },
   "file_extension": ".py",
   "mimetype": "text/x-python",
   "name": "python",
   "nbconvert_exporter": "python",
   "pygments_lexer": "ipython3",
   "version": "3.12.8"
  }
 },
 "nbformat": 4,
 "nbformat_minor": 0
}