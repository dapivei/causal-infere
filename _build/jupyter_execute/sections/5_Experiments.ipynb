{
 "cells": [
  {
   "cell_type": "markdown",
   "metadata": {
    "id": "WL2bn0mtc8Hx"
   },
   "source": [
    "[![Open in Colab](https://colab.research.google.com/assets/colab-badge.svg)](https://colab.research.google.com/github/dapivei/causal-infere/blob/main/sections/5_Experiments.ipynb)"
   ]
  },
  {
   "cell_type": "markdown",
   "metadata": {},
   "source": [
    "# Experiments (Cont.)"
   ]
  },
  {
   "cell_type": "markdown",
   "metadata": {
    "id": "h5UxbOWB2Cg5"
   },
   "source": [
    "## Recap From Last Class\n",
    "- A final review of Statistics\n",
    "- An introduction to Randomized Controlled Trials (RCTs): **identifying our ATE**."
   ]
  },
  {
   "cell_type": "markdown",
   "metadata": {
    "id": "df41JI9X2JNM"
   },
   "source": [
    "## Goals for today\n",
    "\n"
   ]
  },
  {
   "cell_type": "markdown",
   "metadata": {
    "id": "ErtHJLZF3TT-"
   },
   "source": [
    "Continuing with RCTs:\n",
    "- **The measurement of our ATE**: estimating causal quantities from sample data.\n",
    "- **Interpreting our ATE**: How do we map from the quantities that we estimate to the quantities we care about? How do we assess confidence in the estimated causal quantities.\n",
    "- Implications of relaxing the SUTVA and perfect compliance assumptions.\n",
    "- Potential pitfalls of RCTs.\n",
    "\n",
    "Support for Homework 2:\n",
    "- Review sampling distributions and the Central Limit Theorem (CLT) using Python.\n"
   ]
  },
  {
   "cell_type": "markdown",
   "metadata": {
    "id": "aFUWrc4M4Kt5"
   },
   "source": [
    "## Estimating Causal Effects from Sample Data"
   ]
  },
  {
   "cell_type": "markdown",
   "metadata": {
    "id": "V8A_M61DEplH"
   },
   "source": [
    "The fundamental principle of randomization is straightforward:\n",
    "\n",
    "> When units are randomly assigned to a treatment, the only distinction between those receiving the treatment and those who do not is the treatment itself. Consequently, any observed differences between the two groups can be attributed solely to the treatment.\n",
    "\n",
    "Our objective is to estimate the **Average Treatment Effect (ATE)**, which measures the difference in outcomes between individuals who received a treatment and those who did not.\n",
    "\n",
    "To do this, we rely on two key assumptions: **perfect compliance** and **SUTVA**, which allows us to assert that the treatment, $S$, is **independent** of other factors, $U$, that could influence the outcome $Y$, leading to:\n",
    "\n",
    "$$\n",
    "ATE = \\mathbb{E}[Y(S=1, U) \\mid S=1] - \\mathbb{E}[Y(S=0, U) \\mid S=0].\n",
    "$$\n",
    "\n",
    "Let's apply these concepts to estimate the ATE from the case study we introduced last section:\n",
    "\n",
    "> the impact of a job training program ($S$), National Supported Work (NSW) Demonstration, on wages ($Y$).\n",
    "\n",
    "Participants were _randomly assigned_ to receive job training or not, which helped ensured independence from confounding factors.\n",
    "\n",
    "\n"
   ]
  },
  {
   "cell_type": "markdown",
   "metadata": {
    "id": "w0cjNr8-ft1W"
   },
   "source": [
    "Our goal is to replicate the estimation conducted by LaLonde, who utilized data from the randomized evaluation to assess the program's effectiveness. For more detailed information about the study anda data, refer to the following resource: [LaLonde's Study](https://search.r-project.org/CRAN/refmans/designmatch/html/lalonde.html).\n"
   ]
  },
  {
   "cell_type": "code",
   "execution_count": 1,
   "metadata": {
    "id": "tkPExN6IRVIE"
   },
   "outputs": [],
   "source": [
    "import pandas as pd\n",
    "import numpy as np\n",
    "import matplotlib.pyplot as plt\n",
    "import seaborn as sns\n",
    "\n",
    "from graphviz import Digraph\n",
    "from tabulate import tabulate\n",
    "from scipy import stats\n",
    "from statsmodels.formula.api import ols"
   ]
  },
  {
   "cell_type": "code",
   "execution_count": 2,
   "metadata": {
    "id": "Oq3RMDk7at69"
   },
   "outputs": [],
   "source": [
    "url_base = '../data/nsw.dta'\n",
    "data = pd.read_stata(url_base)"
   ]
  },
  {
   "cell_type": "markdown",
   "metadata": {
    "id": "Prbhkv0DPeU3"
   },
   "source": [
    "\n",
    "\n",
    "\n",
    "### Causal Model for the Impact of the Job Training Program on Wages\n",
    "\n",
    "Some key components of this causal model are:\n",
    "\n",
    "- **Treatment Indicator ($S$)**: A binary variable, denoted as $\\text{treat}$, which indicates whether an individual received job training (1) or not (0).\n",
    "\n",
    "- **Outcome ($Y$)**: The primary outcome of interest, represented as $\\text{re78}$, to indicate the annual wages of participants measured in the year 1978.\n",
    "\n",
    "- **Confounding Variables ($U$)**: Other factors that may affect wages include age, education, race, marital status, and degree.\n"
   ]
  },
  {
   "cell_type": "code",
   "execution_count": 3,
   "metadata": {
    "colab": {
     "base_uri": "https://localhost:8080/",
     "height": 300
    },
    "id": "i2WRKq_qb3rY",
    "outputId": "f6297a3d-1f25-40be-8a4f-60828ed8de1c"
   },
   "outputs": [
    {
     "data": {
      "text/html": [
       "<div>\n",
       "<style scoped>\n",
       "    .dataframe tbody tr th:only-of-type {\n",
       "        vertical-align: middle;\n",
       "    }\n",
       "\n",
       "    .dataframe tbody tr th {\n",
       "        vertical-align: top;\n",
       "    }\n",
       "\n",
       "    .dataframe thead th {\n",
       "        text-align: right;\n",
       "    }\n",
       "</style>\n",
       "<table border=\"1\" class=\"dataframe\">\n",
       "  <thead>\n",
       "    <tr style=\"text-align: right;\">\n",
       "      <th></th>\n",
       "      <th>treat</th>\n",
       "      <th>age</th>\n",
       "      <th>education</th>\n",
       "      <th>black</th>\n",
       "      <th>hispanic</th>\n",
       "      <th>married</th>\n",
       "      <th>nodegree</th>\n",
       "      <th>re75</th>\n",
       "      <th>re78</th>\n",
       "    </tr>\n",
       "  </thead>\n",
       "  <tbody>\n",
       "    <tr>\n",
       "      <th>count</th>\n",
       "      <td>722.000000</td>\n",
       "      <td>722.000000</td>\n",
       "      <td>722.000000</td>\n",
       "      <td>722.000000</td>\n",
       "      <td>722.000000</td>\n",
       "      <td>722.000000</td>\n",
       "      <td>722.000000</td>\n",
       "      <td>722.000000</td>\n",
       "      <td>722.000000</td>\n",
       "    </tr>\n",
       "    <tr>\n",
       "      <th>mean</th>\n",
       "      <td>0.411357</td>\n",
       "      <td>24.520776</td>\n",
       "      <td>10.267313</td>\n",
       "      <td>0.800554</td>\n",
       "      <td>0.105263</td>\n",
       "      <td>0.162050</td>\n",
       "      <td>0.779778</td>\n",
       "      <td>3042.896484</td>\n",
       "      <td>5454.635742</td>\n",
       "    </tr>\n",
       "    <tr>\n",
       "      <th>std</th>\n",
       "      <td>0.492421</td>\n",
       "      <td>6.625947</td>\n",
       "      <td>1.704774</td>\n",
       "      <td>0.399861</td>\n",
       "      <td>0.307105</td>\n",
       "      <td>0.368752</td>\n",
       "      <td>0.414683</td>\n",
       "      <td>5066.143066</td>\n",
       "      <td>6252.943359</td>\n",
       "    </tr>\n",
       "    <tr>\n",
       "      <th>min</th>\n",
       "      <td>0.000000</td>\n",
       "      <td>17.000000</td>\n",
       "      <td>3.000000</td>\n",
       "      <td>0.000000</td>\n",
       "      <td>0.000000</td>\n",
       "      <td>0.000000</td>\n",
       "      <td>0.000000</td>\n",
       "      <td>0.000000</td>\n",
       "      <td>0.000000</td>\n",
       "    </tr>\n",
       "    <tr>\n",
       "      <th>25%</th>\n",
       "      <td>0.000000</td>\n",
       "      <td>19.000000</td>\n",
       "      <td>9.000000</td>\n",
       "      <td>1.000000</td>\n",
       "      <td>0.000000</td>\n",
       "      <td>0.000000</td>\n",
       "      <td>1.000000</td>\n",
       "      <td>0.000000</td>\n",
       "      <td>0.000000</td>\n",
       "    </tr>\n",
       "    <tr>\n",
       "      <th>50%</th>\n",
       "      <td>0.000000</td>\n",
       "      <td>23.000000</td>\n",
       "      <td>10.000000</td>\n",
       "      <td>1.000000</td>\n",
       "      <td>0.000000</td>\n",
       "      <td>0.000000</td>\n",
       "      <td>1.000000</td>\n",
       "      <td>936.307953</td>\n",
       "      <td>3951.889038</td>\n",
       "    </tr>\n",
       "    <tr>\n",
       "      <th>75%</th>\n",
       "      <td>1.000000</td>\n",
       "      <td>27.000000</td>\n",
       "      <td>11.000000</td>\n",
       "      <td>1.000000</td>\n",
       "      <td>0.000000</td>\n",
       "      <td>0.000000</td>\n",
       "      <td>1.000000</td>\n",
       "      <td>3993.206970</td>\n",
       "      <td>8772.004395</td>\n",
       "    </tr>\n",
       "    <tr>\n",
       "      <th>max</th>\n",
       "      <td>1.000000</td>\n",
       "      <td>55.000000</td>\n",
       "      <td>16.000000</td>\n",
       "      <td>1.000000</td>\n",
       "      <td>1.000000</td>\n",
       "      <td>1.000000</td>\n",
       "      <td>1.000000</td>\n",
       "      <td>37431.660156</td>\n",
       "      <td>60307.929688</td>\n",
       "    </tr>\n",
       "  </tbody>\n",
       "</table>\n",
       "</div>"
      ],
      "text/plain": [
       "            treat         age   education       black    hispanic     married  \\\n",
       "count  722.000000  722.000000  722.000000  722.000000  722.000000  722.000000   \n",
       "mean     0.411357   24.520776   10.267313    0.800554    0.105263    0.162050   \n",
       "std      0.492421    6.625947    1.704774    0.399861    0.307105    0.368752   \n",
       "min      0.000000   17.000000    3.000000    0.000000    0.000000    0.000000   \n",
       "25%      0.000000   19.000000    9.000000    1.000000    0.000000    0.000000   \n",
       "50%      0.000000   23.000000   10.000000    1.000000    0.000000    0.000000   \n",
       "75%      1.000000   27.000000   11.000000    1.000000    0.000000    0.000000   \n",
       "max      1.000000   55.000000   16.000000    1.000000    1.000000    1.000000   \n",
       "\n",
       "         nodegree          re75          re78  \n",
       "count  722.000000    722.000000    722.000000  \n",
       "mean     0.779778   3042.896484   5454.635742  \n",
       "std      0.414683   5066.143066   6252.943359  \n",
       "min      0.000000      0.000000      0.000000  \n",
       "25%      1.000000      0.000000      0.000000  \n",
       "50%      1.000000    936.307953   3951.889038  \n",
       "75%      1.000000   3993.206970   8772.004395  \n",
       "max      1.000000  37431.660156  60307.929688  "
      ]
     },
     "execution_count": 3,
     "metadata": {},
     "output_type": "execute_result"
    }
   ],
   "source": [
    "data.describe()"
   ]
  },
  {
   "cell_type": "markdown",
   "metadata": {
    "id": "L5dasAnGgfVS"
   },
   "source": [
    "According to our data, the study included 722 participants, with 425 receiving the job training program."
   ]
  },
  {
   "cell_type": "code",
   "execution_count": 4,
   "metadata": {
    "colab": {
     "base_uri": "https://localhost:8080/",
     "height": 178
    },
    "id": "8zYvzd82b5S1",
    "outputId": "14f9bded-02e1-4055-c161-e77aabe4305d"
   },
   "outputs": [
    {
     "data": {
      "text/plain": [
       "treat\n",
       "0    425\n",
       "1    297\n",
       "Name: count, dtype: int64"
      ]
     },
     "execution_count": 4,
     "metadata": {},
     "output_type": "execute_result"
    }
   ],
   "source": [
    "data['treat'].value_counts()"
   ]
  },
  {
   "cell_type": "markdown",
   "metadata": {
    "id": "3ojwz3BcItaX"
   },
   "source": [
    "### 2.2) $\\hat{ATE}$?"
   ]
  },
  {
   "cell_type": "markdown",
   "metadata": {
    "id": "ch68BYr-suEQ"
   },
   "source": [
    "To estimate the ATE from data, we calculate the **conditional sample means**:\n",
    "\n",
    "$$\n",
    "\\hat{ATE} = \\mathbb{\\hat{E}}[Y(1, \\hat{U}) \\mid S = 1] - \\mathbb{\\hat{E}}[Y(0, \\hat{U}) \\mid S = 0].\n",
    "$$\n",
    "\n",
    "Since these sample means are **consistent** and **unbiased**, our estimate of the ATE is robust and reliable.\n",
    "\n",
    "Therefore, to estimate the ATE of the job training program ($S$) on wages ($Y$), we would simply:"
   ]
  },
  {
   "cell_type": "code",
   "execution_count": 5,
   "metadata": {
    "colab": {
     "base_uri": "https://localhost:8080/"
    },
    "id": "VP5b6hC_mxJw",
    "outputId": "1d5d55ec-8186-4d7f-c8fb-8064246c5d23"
   },
   "outputs": [
    {
     "name": "stdout",
     "output_type": "stream",
     "text": [
      "Estimated ATE (Difference in Means): 886.30\n"
     ]
    }
   ],
   "source": [
    "# Conditional samples means for treated and control groups\n",
    "mean_treated = data[data['treat']==1]['re78'].mean()\n",
    "mean_control = data[data['treat']==0]['re78'].mean()\n",
    "# ATE as the difference in conditional means\n",
    "ate = mean_treated - mean_control\n",
    "print(f\"Estimated ATE (Difference in Means): {ate:.2f}\")"
   ]
  },
  {
   "cell_type": "markdown",
   "metadata": {
    "id": "GF8dLr06TSwE"
   },
   "source": [
    "This implies, that, on average, individuals who received the job training program earned $886.30$ than those who did not receive the training. **How confident are we on these results?**"
   ]
  },
  {
   "cell_type": "markdown",
   "metadata": {
    "id": "9I0uCpQCox_A"
   },
   "source": [
    "### 2.3) How confidente are we on our $\\hat{ATE}$?"
   ]
  },
  {
   "cell_type": "markdown",
   "metadata": {
    "id": "YQfkZ7-NxdEF"
   },
   "source": [
    "\n",
    "This is only an estimate of the ATE, and we cannot be certain it reflects the true value. Fortunately, the Central Limit Theorem (CLT) allows us to approximate the distribution of errors in the estimated conditional sample means."
   ]
  },
  {
   "cell_type": "markdown",
   "metadata": {
    "id": "pEpzsTCOleSu"
   },
   "source": [
    "#### Hypothesis Testing for the ATE\n",
    "\n",
    "To determine whether the work program has a positive impact on wages, our hypothesis is as follows:\n",
    "\n",
    "- **Null Hypothesis ($H_0$)**:\n",
    "$$\\mathbb{E}[Y(S = 1, U)] = \\mathbb{E}[Y(S = 0, U)] \\implies \\text{ATE}=0.$$\n",
    "\n",
    "\n",
    "- **Alternative Hypothesis ($H_1$)**: $$  \\mathbb{E}[Y(S = 1, U)] >  \\mathbb{E}[Y(S = 0, U)] \\implies \\text{ATE}>0.$$\n",
    "\n"
   ]
  },
  {
   "cell_type": "markdown",
   "metadata": {
    "id": "I4KItRRGeHBZ"
   },
   "source": [
    "Notice that we’re doing a one-sided test!"
   ]
  },
  {
   "cell_type": "code",
   "execution_count": 6,
   "metadata": {
    "colab": {
     "base_uri": "https://localhost:8080/"
    },
    "id": "hrya7t6NdgDL",
    "outputId": "4f4e543c-40b7-4614-e8f4-86bc27fcc4f7"
   },
   "outputs": [
    {
     "data": {
      "text/plain": [
       "TtestResult(statistic=np.float64(1.8154352445974968), pvalue=np.float64(0.034997297522789676), df=np.float64(557.0617000675076))"
      ]
     },
     "execution_count": 6,
     "metadata": {},
     "output_type": "execute_result"
    }
   ],
   "source": [
    "income_treate = data[data['treat']==1].re78\n",
    "income_contro = data[data['treat']==0].re78\n",
    "\n",
    "stats.ttest_ind(\n",
    "    income_treate,\n",
    "    income_contro,\n",
    "    alternative='greater',\n",
    "    equal_var=False\n",
    "    )\n"
   ]
  },
  {
   "cell_type": "markdown",
   "metadata": {
    "id": "O453gFxofVLl"
   },
   "source": [
    "Since the p-value is approximately 0.035, which is less than the common significance level of 0.05, we reject the null hypothesis. This implies that there is statistically significant evidence to support the claim that the mean income of the treated group is greater than that of the control group."
   ]
  },
  {
   "cell_type": "markdown",
   "metadata": {
    "id": "XXnz-e9UIpNi"
   },
   "source": [
    "### 2.4) Testing our Assumptions"
   ]
  },
  {
   "cell_type": "markdown",
   "metadata": {
    "id": "jdSZVcqn8AM3"
   },
   "source": [
    "So far we have relied on a crucial assumption: $$S \\perp\\!\\!\\!\\perp U.$$\n",
    "\n",
    "This assumption is supported by:\n",
    "\n",
    "**a) perfect compliance**, our assumption that all participants adhere to their assigned treatments, and"
   ]
  },
  {
   "cell_type": "code",
   "execution_count": 7,
   "metadata": {
    "id": "JVFWWNdZTwKd"
   },
   "outputs": [],
   "source": [
    "gr_per = Digraph(format=\"png\", graph_attr={\"rankdir\": \"LR\", \"size\": \"8\"})\n",
    "gr_per.node(\"Z\", label=\"Z: Assignment\")\n",
    "gr_per.node(\"S\", label=\"S: Treatment Received\")\n",
    "gr_per.node(\"Y\", label=\"Y: Outcome\")\n",
    "gr_per.edge(\"Z\", \"S\", label=\"Compliance\")\n",
    "gr_per.edge(\"S\", \"Y\", label=\"Treatment Effect\")"
   ]
  },
  {
   "cell_type": "markdown",
   "metadata": {
    "id": "YNzJzjjn9veF"
   },
   "source": [
    "\n",
    "**b) stable unit treatment value assumption (SUTVA)**, which ensures that potential outcomes for each participant are unaffected by the treatment assignments of others.\n",
    "\n",
    "Together, these principles are essential for obtaining valid and unbiased estimates of the ATE. **Can we test these assumptions?**\n"
   ]
  },
  {
   "cell_type": "markdown",
   "metadata": {
    "id": "nEy0_ZyAdT8K"
   },
   "source": [
    "**Testing for these assumptions in a RCT is hard!** Some effective methods researchers use to assess these assumptions are:\n",
    "+ direct monitoring: self-reports or observation.\n",
    "+ biomarkers or biological test"
   ]
  },
  {
   "cell_type": "markdown",
   "metadata": {
    "id": "XeVVjhwxgMJT"
   },
   "source": [
    "## $S \\perp\\!\\!\\!\\perp U$\n",
    "\n",
    "Independence between $S$ and $U$ implies that the distribution of potential outcomes $Y$ given treatment status is the same across groups:\n",
    "\n",
    "$$\n",
    "P(Y \\mid S=1, U) = P(Y \\mid S=0, U).\n",
    "$$\n",
    "\n",
    "A crucial implication of this independence is that the treatment and control groups should exhibit similarity in their characteristics:\n",
    "\n",
    "$$\n",
    "P(U \\mid S=1) = P(U \\mid S=0).\n",
    "$$\n",
    "\n",
    "Thus, any observed differences in outcomes can be attributed to the treatment $S$, rather than confounding factors $U $.\n"
   ]
  },
  {
   "cell_type": "markdown",
   "metadata": {
    "id": "I15YHjFdNB1r"
   },
   "source": [
    "To assess this, we can compare the observable characteristics of the treatment and control groups. A first step is to visually examine the observable characteristics of both groups in the experiment."
   ]
  },
  {
   "cell_type": "code",
   "execution_count": 8,
   "metadata": {
    "colab": {
     "base_uri": "https://localhost:8080/",
     "height": 1000
    },
    "id": "vH90Ksx-FFGm",
    "outputId": "e4c4fad2-ab4d-4b30-f485-ce7a1def0662"
   },
   "outputs": [
    {
     "data": {
      "image/png": "[encoded data removed]",
      "text/plain": [
       "<Figure size 700x2400 with 6 Axes>"
      ]
     },
     "metadata": {},
     "output_type": "display_data"
    }
   ],
   "source": [
    "continuous_covariates = ['age', 'education']\n",
    "dummy_covariates = ['black', 'hispanic', 'married', 'nodegree']\n",
    "covariates = continuous_covariates + dummy_covariates\n",
    "\n",
    "sns.set(style='whitegrid', palette='deep')\n",
    "total_covariates = len(continuous_covariates) + len(dummy_covariates)\n",
    "fig, axes = plt.subplots(nrows=total_covariates, ncols=1, figsize=(7, total_covariates * 4))\n",
    "\n",
    "for i, var in enumerate(continuous_covariates):\n",
    "    sns.kdeplot(data[data['treat'] == 0][var], ax=axes[i], label=\"Control\", fill=True, color='blue')\n",
    "    sns.kdeplot(data[data['treat'] == 1][var], ax=axes[i], label=\"Treatment\", fill=True, color='orange')\n",
    "    axes[i].set_title(f'Distribution of {var.capitalize()} by Treatment Group', fontsize=12)\n",
    "    axes[i].set_xlabel(var.capitalize(), fontsize=10)\n",
    "    axes[i].set_ylabel('Density', fontsize=10)\n",
    "    axes[i].legend(fontsize=10)\n",
    "    axes[i].grid(True, linestyle='--', alpha=0.1)\n",
    "    plt.xticks(fontsize=10)\n",
    "    plt.yticks(fontsize=10)\n",
    "\n",
    "for j, var in enumerate(dummy_covariates, start=len(continuous_covariates)):\n",
    "    proportions = data.groupby('treat')[var].mean().reset_index()\n",
    "    sns.barplot(\n",
    "        x='treat',\n",
    "        y=var, data=proportions, ax=axes[j],\n",
    "        hue='treat', dodge=False,\n",
    "        palette=['blue', 'orange'], linewidth=0.8, alpha=0.5\n",
    "        )\n",
    "    axes[j].set_title(f'Proportion of {var.capitalize()} by Treatment Group', fontsize=12)\n",
    "    axes[j].set_xlabel('Treatment Group', fontsize=10)\n",
    "    axes[j].set_ylabel('Proportion', fontsize=10)\n",
    "    axes[j].set_ylim(0, 1)\n",
    "    axes[j].grid(True, linestyle='--', alpha=0.1)\n",
    "    plt.xticks(fontsize=10)\n",
    "    plt.yticks(fontsize=10)\n",
    "\n",
    "plt.tight_layout()\n",
    "plt.show()\n"
   ]
  },
  {
   "cell_type": "markdown",
   "metadata": {
    "id": "4qoL3wcMjKLM"
   },
   "source": [
    "Inspecting the distributions of key variables (e.g., age, marital status, education level, etc.) reveals that the distributions for both the treatment and control groups have similar shapes, signaling that the groups are well-balanced in terms of observable characteristics."
   ]
  },
  {
   "cell_type": "markdown",
   "metadata": {
    "id": "qEocCnxqn0P3"
   },
   "source": [
    "Next, we can formally test that our groups are indeed \"well balanced\" by conducting a **balance test**! This test compares the distributions of an observable covariate $X$ between the treatment group $S = 1$ and the control group $S = 0$.\n",
    "\n",
    "Our balance test is a two-sample t-test to determine whether the difference in means is statistically significant:\n",
    "$$ H_0: \\mathbb{E}(X | S = 1) = \\mathbb{E}(X | S = 0), \\quad H_a: \\mathbb{E}(X | S = 1) \\neq \\mathbb{E}(X | S = 0)\n",
    "$$\n",
    "\n",
    "+ $H_0$ states that there is no difference in the means of the observable covariate between the treatment and control groups.\n",
    "+ $H_a$ states that there is a difference in means.\n",
    "\n",
    "\n",
    "We conclude that $S \\perp U$ if the means of the observables are not statistically significantly different.\n",
    "\n",
    "Let's see how this test can be conducted using the Lalonde experiment:"
   ]
  },
  {
   "cell_type": "code",
   "execution_count": 9,
   "metadata": {
    "id": "B6Sp2Tl0TQ4R"
   },
   "outputs": [],
   "source": [
    "balance_results = []\n",
    "for var in covariates:\n",
    "    control_group = data[data['treat'] == 0][var]\n",
    "    treatment_group = data[data['treat'] == 1][var]\n",
    "    control_mean, control_std = control_group.mean(), control_group.std()\n",
    "    treatment_mean, treatment_std = treatment_group.mean(), treatment_group.std()\n",
    "    t_stat, p_value = stats.ttest_ind(control_group, treatment_group, equal_var=False)\n",
    "    pooled_std = np.sqrt((control_std ** 2 + treatment_std ** 2) / 2)\n",
    "    smd = (treatment_mean - control_mean) / pooled_std\n",
    "    balance_results.append({\n",
    "        'Variable': var,\n",
    "        'Control Mean (SD)': f'{control_mean:.2f} ({control_std:.2f})',\n",
    "        'Treatment Mean (SD)': f'{treatment_mean:.2f} ({treatment_std:.2f})',\n",
    "        'SMD': smd,\n",
    "        'P-Value': p_value\n",
    "    })\n",
    "balance_table = pd.DataFrame(balance_results)"
   ]
  },
  {
   "cell_type": "markdown",
   "metadata": {
    "id": "i8KI8sJrQneg"
   },
   "source": [
    " Notice we compare the mean values of each covariate between the control and treatment groups using a t-test to evaluate the null hypothesis. If the p-value exceeds the significance level (e.g., $\\alpha = 0.05$), we fail to reject the null hypothesis, suggesting that the means are not significantly different."
   ]
  },
  {
   "cell_type": "code",
   "execution_count": 10,
   "metadata": {
    "colab": {
     "base_uri": "https://localhost:8080/",
     "height": 237
    },
    "id": "RVuURcb1mNa4",
    "outputId": "c9229440-cee6-4367-9e62-0d8fa6a5b4a1"
   },
   "outputs": [
    {
     "data": {
      "text/html": [
       "<div>\n",
       "<style scoped>\n",
       "    .dataframe tbody tr th:only-of-type {\n",
       "        vertical-align: middle;\n",
       "    }\n",
       "\n",
       "    .dataframe tbody tr th {\n",
       "        vertical-align: top;\n",
       "    }\n",
       "\n",
       "    .dataframe thead th {\n",
       "        text-align: right;\n",
       "    }\n",
       "</style>\n",
       "<table border=\"1\" class=\"dataframe\">\n",
       "  <thead>\n",
       "    <tr style=\"text-align: right;\">\n",
       "      <th></th>\n",
       "      <th>Variable</th>\n",
       "      <th>Control Mean (SD)</th>\n",
       "      <th>Treatment Mean (SD)</th>\n",
       "      <th>SMD</th>\n",
       "      <th>P-Value</th>\n",
       "    </tr>\n",
       "  </thead>\n",
       "  <tbody>\n",
       "    <tr>\n",
       "      <th>0</th>\n",
       "      <td>age</td>\n",
       "      <td>24.45 (6.59)</td>\n",
       "      <td>24.63 (6.69)</td>\n",
       "      <td>0.026995</td>\n",
       "      <td>0.721607</td>\n",
       "    </tr>\n",
       "    <tr>\n",
       "      <th>1</th>\n",
       "      <td>education</td>\n",
       "      <td>10.19 (1.62)</td>\n",
       "      <td>10.38 (1.82)</td>\n",
       "      <td>0.111695</td>\n",
       "      <td>0.144283</td>\n",
       "    </tr>\n",
       "    <tr>\n",
       "      <th>2</th>\n",
       "      <td>black</td>\n",
       "      <td>0.80 (0.40)</td>\n",
       "      <td>0.80 (0.40)</td>\n",
       "      <td>0.003366</td>\n",
       "      <td>0.964504</td>\n",
       "    </tr>\n",
       "    <tr>\n",
       "      <th>3</th>\n",
       "      <td>hispanic</td>\n",
       "      <td>0.11 (0.32)</td>\n",
       "      <td>0.09 (0.29)</td>\n",
       "      <td>-0.061189</td>\n",
       "      <td>0.415479</td>\n",
       "    </tr>\n",
       "    <tr>\n",
       "      <th>4</th>\n",
       "      <td>married</td>\n",
       "      <td>0.16 (0.36)</td>\n",
       "      <td>0.17 (0.37)</td>\n",
       "      <td>0.028938</td>\n",
       "      <td>0.702799</td>\n",
       "    </tr>\n",
       "    <tr>\n",
       "      <th>5</th>\n",
       "      <td>nodegree</td>\n",
       "      <td>0.81 (0.39)</td>\n",
       "      <td>0.73 (0.44)</td>\n",
       "      <td>-0.199791</td>\n",
       "      <td>0.009247</td>\n",
       "    </tr>\n",
       "  </tbody>\n",
       "</table>\n",
       "</div>"
      ],
      "text/plain": [
       "    Variable Control Mean (SD) Treatment Mean (SD)       SMD   P-Value\n",
       "0        age      24.45 (6.59)        24.63 (6.69)  0.026995  0.721607\n",
       "1  education      10.19 (1.62)        10.38 (1.82)  0.111695  0.144283\n",
       "2      black       0.80 (0.40)         0.80 (0.40)  0.003366  0.964504\n",
       "3   hispanic       0.11 (0.32)         0.09 (0.29) -0.061189  0.415479\n",
       "4    married       0.16 (0.36)         0.17 (0.37)  0.028938  0.702799\n",
       "5   nodegree       0.81 (0.39)         0.73 (0.44) -0.199791  0.009247"
      ]
     },
     "execution_count": 10,
     "metadata": {},
     "output_type": "execute_result"
    }
   ],
   "source": [
    "balance_table"
   ]
  },
  {
   "cell_type": "markdown",
   "metadata": {
    "id": "N4dNbR24RUZL"
   },
   "source": [
    "> **How do we interpret this balance table?**\n",
    "Consider the first t-test, where $X=age$:\n",
    "   - The average age of individuals in the control group is **24.45 years** with a standard deviation of **6.59 years**.The average age of individuals in the treatment group is **24.63 years** with a standard deviation of **6.69 years**.\n",
    "   - An SMD of **0.027** indicates that the difference between the control and treatment groups in terms of age is very small (close to zero). Generally, SMD values below **0.1** are considered to indicate good balance between groups.\n",
    "   - The p-value from the t-test is **0.722**, which is much greater than the common significance level of **0.05**. This means we **fail to reject the null hypothesis**, indicating that there is **no statistically significant difference** in the mean age between the control and treatment groups."
   ]
  },
  {
   "cell_type": "markdown",
   "metadata": {
    "id": "1rtae3Q5UAp9"
   },
   "source": [
    "We can further visualize the SMD through a plot:"
   ]
  },
  {
   "cell_type": "code",
   "execution_count": 11,
   "metadata": {
    "colab": {
     "base_uri": "https://localhost:8080/",
     "height": 601
    },
    "id": "s_dHfxsBTFRL",
    "outputId": "a382fe7f-55d3-4c3d-ac3a-9ea923952fd8"
   },
   "outputs": [
    {
     "data": {
      "image/png": "[encoded data removed]",
      "text/plain": [
       "<Figure size 800x600 with 1 Axes>"
      ]
     },
     "metadata": {},
     "output_type": "display_data"
    }
   ],
   "source": [
    "sns.set(style='whitegrid', palette='deep')\n",
    "smd_df = balance_table[['Variable', 'SMD']].rename(columns={'Variable': 'Covariate'})\n",
    "plt.figure(figsize=(8, 6))\n",
    "sns.barplot(x='SMD', y='Covariate', data=smd_df, color='gray', alpha=0.3, edgecolor='blue')\n",
    "plt.axvline(x=0.1, color='blue', linestyle='--', label='Threshold (0.1)')\n",
    "plt.axvline(x=-0.1, color='blue', linestyle='--')\n",
    "plt.xlabel('Standardized Mean Difference (SMD)')\n",
    "plt.ylabel('Covariate')\n",
    "plt.title('Balance of Covariates')\n",
    "plt.legend()\n",
    "plt.tight_layout()\n",
    "plt.show()"
   ]
  },
  {
   "cell_type": "markdown",
   "metadata": {
    "id": "BnkFX1gV4RYm"
   },
   "source": [
    "## 3. Relaxing Assumptions: Imperfect Compliance and SUTVA Violations"
   ]
  },
  {
   "cell_type": "markdown",
   "metadata": {
    "id": "jxEecwnMYDVM"
   },
   "source": [
    "**What if we relaxed our assumptions of perfect compliance and SUTVA? When and why might these violations occur?**\n",
    "\n",
    "+ Imperfect compliance can occur due to non-adherence, cross-over, dropouts, or other practical challenges in real-world implementation.\n",
    "\n",
    "+ SUTVA violations may arise from interference between participants, different versions of the treatment, or external contamination of the control group.\n",
    "\n",
    "Such violations complicate causal effect estimation, potentially shifting our target parameters or requiring alternative techniques to adjust for these issues."
   ]
  },
  {
   "cell_type": "markdown",
   "metadata": {
    "id": "WidWwDQ34fLf"
   },
   "source": [
    "### 3.1. Imperfect Compliance\n",
    "Perfect compliance is rarely observed in real-world scenarios, making it reasonable to assume imperfect compliance. This means that not all individuals adhere to their assigned treatment ($S$), which can introduce bias when estimating the causal effect.\n",
    "\n",
    "\n",
    "\n",
    "\n"
   ]
  },
  {
   "cell_type": "code",
   "execution_count": 12,
   "metadata": {
    "id": "QfQJqcC7d8p-"
   },
   "outputs": [],
   "source": [
    "gr_imp = Digraph(format=\"png\", graph_attr={\"rankdir\": \"LR\", \"size\": \"8\"})\n",
    "gr_imp.node(\"Z\", label=\"Z: Assignment\", pos=\"0,0!\")\n",
    "gr_imp.node(\"S\", label=\"S: Treatment\", pos=\"1,0!\")\n",
    "gr_imp.node(\"Y\", label=\"Y: Outcome\", pos=\"2,0!\")\n",
    "gr_imp.node(\"U\", label=\"U: Confounder\")\n",
    "gr_imp.edge(\"Z\", \"S\")\n",
    "gr_imp.edge(\"S\", \"Y\")\n",
    "gr_imp.edge(\"U\", \"S\", constraint=\"false\")\n",
    "gr_imp.edge(\"U\", \"Y\", constraint=\"false\")"
   ]
  },
  {
   "cell_type": "code",
   "execution_count": 13,
   "metadata": {
    "colab": {
     "base_uri": "https://localhost:8080/",
     "height": 73
    },
    "id": "iPcYrgYlcrZW",
    "outputId": "2d8e3030-e81a-4209-b063-e564128983e5"
   },
   "outputs": [
    {
     "data": {
      "image/svg+xml": [
       "<?xml version=\"1.0\" encoding=\"UTF-8\" standalone=\"no\"?>\n",
       "<!DOCTYPE svg PUBLIC \"-//W3C//DTD SVG 1.1//EN\"\n",
       " \"http://www.w3.org/Graphics/SVG/1.1/DTD/svg11.dtd\">\n",
       "<!-- Generated by graphviz version 2.43.0 (0)\n",
       " -->\n",
       "<!-- Title: %3 Pages: 1 -->\n",
       "<svg width=\"576pt\" height=\"32pt\"\n",
       " viewBox=\"0.00 0.00 576.00 31.70\" xmlns=\"http://www.w3.org/2000/svg\" xmlns:xlink=\"http://www.w3.org/1999/xlink\">\n",
       "<g id=\"graph0\" class=\"graph\" transform=\"scale(1.39 1.39) rotate(0) translate(4 40)\">\n",
       "<title>%3</title>\n",
       "<polygon fill=\"white\" stroke=\"transparent\" points=\"-4,4 -4,-40 795.45,-40 795.45,4 -4,4\"/>\n",
       "<!-- Z -->\n",
       "<g id=\"node1\" class=\"node\">\n",
       "<title>Z</title>\n",
       "<ellipse fill=\"none\" stroke=\"black\" cx=\"77.34\" cy=\"-18\" rx=\"77.19\" ry=\"18\"/>\n",
       "<text text-anchor=\"middle\" x=\"77.34\" y=\"-14.3\" font-family=\"Times,serif\" font-size=\"14.00\">Z: Assignment</text>\n",
       "</g>\n",
       "<!-- S -->\n",
       "<g id=\"node2\" class=\"node\">\n",
       "<title>S</title>\n",
       "<ellipse fill=\"none\" stroke=\"black\" cx=\"391.03\" cy=\"-18\" rx=\"116.18\" ry=\"18\"/>\n",
       "<text text-anchor=\"middle\" x=\"391.03\" y=\"-14.3\" font-family=\"Times,serif\" font-size=\"14.00\">S: Treatment Received</text>\n",
       "</g>\n",
       "<!-- Z&#45;&gt;S -->\n",
       "<g id=\"edge1\" class=\"edge\">\n",
       "<title>Z&#45;&gt;S</title>\n",
       "<path fill=\"none\" stroke=\"black\" d=\"M154.99,-18C187.86,-18 227.13,-18 264.07,-18\"/>\n",
       "<polygon fill=\"black\" stroke=\"black\" points=\"264.42,-21.5 274.42,-18 264.42,-14.5 264.42,-21.5\"/>\n",
       "<text text-anchor=\"middle\" x=\"214.69\" y=\"-21.8\" font-family=\"Times,serif\" font-size=\"14.00\">Compliance</text>\n",
       "</g>\n",
       "<!-- Y -->\n",
       "<g id=\"node3\" class=\"node\">\n",
       "<title>Y</title>\n",
       "<ellipse fill=\"none\" stroke=\"black\" cx=\"728.41\" cy=\"-18\" rx=\"63.09\" ry=\"18\"/>\n",
       "<text text-anchor=\"middle\" x=\"728.41\" y=\"-14.3\" font-family=\"Times,serif\" font-size=\"14.00\">Y: Outcome</text>\n",
       "</g>\n",
       "<!-- S&#45;&gt;Y -->\n",
       "<g id=\"edge2\" class=\"edge\">\n",
       "<title>S&#45;&gt;Y</title>\n",
       "<path fill=\"none\" stroke=\"black\" d=\"M507.45,-18C556.39,-18 611.93,-18 654.96,-18\"/>\n",
       "<polygon fill=\"black\" stroke=\"black\" points=\"655.05,-21.5 665.05,-18 655.05,-14.5 655.05,-21.5\"/>\n",
       "<text text-anchor=\"middle\" x=\"586.37\" y=\"-21.8\" font-family=\"Times,serif\" font-size=\"14.00\">Treatment Effect</text>\n",
       "</g>\n",
       "</g>\n",
       "</svg>\n"
      ],
      "text/plain": [
       "<graphviz.graphs.Digraph at 0x7fd3494c6e40>"
      ]
     },
     "execution_count": 13,
     "metadata": {},
     "output_type": "execute_result"
    }
   ],
   "source": [
    "# Perfect compliance\n",
    "gr_per"
   ]
  },
  {
   "cell_type": "markdown",
   "metadata": {
    "id": "vzB9E1SugYcq"
   },
   "source": [
    "Under perfect compliance, we expect $P(Z) = P(S)$. When compliance is imperfect, however, $P(Z) \\neq P(S)$, as some individuals may not adhere to their assigned treatment. This discrepancy complicates causal inference, especially when unobserved variables ($U$) influence both the treatment received ($S$) and the outcome ($Y$), creating confounding."
   ]
  },
  {
   "cell_type": "code",
   "execution_count": 14,
   "metadata": {
    "colab": {
     "base_uri": "https://localhost:8080/",
     "height": 151
    },
    "id": "gRaxwo_dme9I",
    "outputId": "c13a462d-2033-497a-8622-81cf8ab63a01"
   },
   "outputs": [
    {
     "data": {
      "image/svg+xml": [
       "<?xml version=\"1.0\" encoding=\"UTF-8\" standalone=\"no\"?>\n",
       "<!DOCTYPE svg PUBLIC \"-//W3C//DTD SVG 1.1//EN\"\n",
       " \"http://www.w3.org/Graphics/SVG/1.1/DTD/svg11.dtd\">\n",
       "<!-- Generated by graphviz version 2.43.0 (0)\n",
       " -->\n",
       "<!-- Title: %3 Pages: 1 -->\n",
       "<svg width=\"505pt\" height=\"98pt\"\n",
       " viewBox=\"0.00 0.00 505.06 98.00\" xmlns=\"http://www.w3.org/2000/svg\" xmlns:xlink=\"http://www.w3.org/1999/xlink\">\n",
       "<g id=\"graph0\" class=\"graph\" transform=\"scale(1 1) rotate(0) translate(4 94)\">\n",
       "<title>%3</title>\n",
       "<polygon fill=\"white\" stroke=\"transparent\" points=\"-4,4 -4,-94 501.06,-94 501.06,4 -4,4\"/>\n",
       "<!-- Z -->\n",
       "<g id=\"node1\" class=\"node\">\n",
       "<title>Z</title>\n",
       "<ellipse fill=\"none\" stroke=\"black\" cx=\"77.99\" cy=\"-72\" rx=\"77.19\" ry=\"18\"/>\n",
       "<text text-anchor=\"middle\" x=\"77.99\" y=\"-68.3\" font-family=\"Times,serif\" font-size=\"14.00\">Z: Assignment</text>\n",
       "</g>\n",
       "<!-- S -->\n",
       "<g id=\"node2\" class=\"node\">\n",
       "<title>S</title>\n",
       "<ellipse fill=\"none\" stroke=\"black\" cx=\"263.48\" cy=\"-72\" rx=\"71.49\" ry=\"18\"/>\n",
       "<text text-anchor=\"middle\" x=\"263.48\" y=\"-68.3\" font-family=\"Times,serif\" font-size=\"14.00\">S: Treatment</text>\n",
       "</g>\n",
       "<!-- Z&#45;&gt;S -->\n",
       "<g id=\"edge1\" class=\"edge\">\n",
       "<title>Z&#45;&gt;S</title>\n",
       "<path fill=\"none\" stroke=\"black\" d=\"M155.48,-72C164.17,-72 173.05,-72 181.8,-72\"/>\n",
       "<polygon fill=\"black\" stroke=\"black\" points=\"181.98,-75.5 191.98,-72 181.98,-68.5 181.98,-75.5\"/>\n",
       "</g>\n",
       "<!-- Y -->\n",
       "<g id=\"node3\" class=\"node\">\n",
       "<title>Y</title>\n",
       "<ellipse fill=\"none\" stroke=\"black\" cx=\"434.02\" cy=\"-72\" rx=\"63.09\" ry=\"18\"/>\n",
       "<text text-anchor=\"middle\" x=\"434.02\" y=\"-68.3\" font-family=\"Times,serif\" font-size=\"14.00\">Y: Outcome</text>\n",
       "</g>\n",
       "<!-- S&#45;&gt;Y -->\n",
       "<g id=\"edge2\" class=\"edge\">\n",
       "<title>S&#45;&gt;Y</title>\n",
       "<path fill=\"none\" stroke=\"black\" d=\"M334.98,-72C343.44,-72 352.1,-72 360.59,-72\"/>\n",
       "<polygon fill=\"black\" stroke=\"black\" points=\"360.84,-75.5 370.84,-72 360.84,-68.5 360.84,-75.5\"/>\n",
       "</g>\n",
       "<!-- U -->\n",
       "<g id=\"node4\" class=\"node\">\n",
       "<title>U</title>\n",
       "<ellipse fill=\"none\" stroke=\"black\" cx=\"77.99\" cy=\"-18\" rx=\"77.99\" ry=\"18\"/>\n",
       "<text text-anchor=\"middle\" x=\"77.99\" y=\"-14.3\" font-family=\"Times,serif\" font-size=\"14.00\">U: Confounder</text>\n",
       "</g>\n",
       "<!-- U&#45;&gt;S -->\n",
       "<g id=\"edge3\" class=\"edge\">\n",
       "<title>U&#45;&gt;S</title>\n",
       "<path fill=\"none\" stroke=\"black\" d=\"M127.2,-32.19C151.48,-39.33 181.05,-48.04 206.35,-55.48\"/>\n",
       "<polygon fill=\"black\" stroke=\"black\" points=\"205.59,-58.91 216.17,-58.37 207.57,-52.19 205.59,-58.91\"/>\n",
       "</g>\n",
       "<!-- U&#45;&gt;Y -->\n",
       "<g id=\"edge4\" class=\"edge\">\n",
       "<title>U&#45;&gt;Y</title>\n",
       "<path fill=\"none\" stroke=\"black\" d=\"M153.39,-22.62C204.73,-26.59 274.38,-33.54 334.97,-45 350.06,-47.85 366.2,-51.88 380.95,-55.96\"/>\n",
       "<polygon fill=\"black\" stroke=\"black\" points=\"380.33,-59.42 390.9,-58.78 382.23,-52.68 380.33,-59.42\"/>\n",
       "</g>\n",
       "</g>\n",
       "</svg>\n"
      ],
      "text/plain": [
       "<graphviz.graphs.Digraph at 0x7fd3451b1e80>"
      ]
     },
     "execution_count": 14,
     "metadata": {},
     "output_type": "execute_result"
    }
   ],
   "source": [
    "# Imperfect compliance\n",
    "gr_imp"
   ]
  },
  {
   "cell_type": "markdown",
   "metadata": {
    "id": "pGXCGvI6f-5F"
   },
   "source": [
    "To address imperfect compliance, we can employ several methods:\n",
    "\n",
    "- **Local Average Treatment Effect (LATE)**: Uses instrumental variable techniques to estimate causal effects among compliers (we will cover this later).\n",
    "- **Bounding Methods**: Establishes bounds on treatment effects when compliance is imperfect.\n",
    "- **Redefining the Target Parameter**: Adjusts the focus of the analysis to reflect the realities of non-compliance.\n",
    "\n",
    "For now, we will focus on redefining our parameter of interest from ATE to **Intention to Treat (ITT)**, which measures the causal effect of **being assigned** to treatment, regardless of whether the treatment was actually received."
   ]
  },
  {
   "cell_type": "markdown",
   "metadata": {
    "id": "Is0EnmCKuCBw"
   },
   "source": [
    "Let’s revisit the example we previously discussed regarding a job training program ($S$) and its impact on participants' wages ($Y$). Initially, we observed that **~59% of the individuals** received the job training program, while **~41% of the individuals did not**."
   ]
  },
  {
   "cell_type": "code",
   "execution_count": 15,
   "metadata": {
    "colab": {
     "base_uri": "https://localhost:8080/",
     "height": 178
    },
    "id": "iuCxNjR6sVA7",
    "outputId": "babf6993-bc67-41e8-8ec0-0a56a308db44"
   },
   "outputs": [
    {
     "data": {
      "text/plain": [
       "treat\n",
       "0    58.864266\n",
       "1    41.135734\n",
       "Name: proportion, dtype: float64"
      ]
     },
     "execution_count": 15,
     "metadata": {},
     "output_type": "execute_result"
    }
   ],
   "source": [
    "data.treat.value_counts(normalize=True) * 100"
   ]
  },
  {
   "cell_type": "markdown",
   "metadata": {
    "id": "FpzQWsESo9dY"
   },
   "source": [
    "Imagine a twist in the narrative: **It is later revealed that the original design of the study assigned 50% of the sample to the treatment group.**\n",
    "\n",
    "However, we have recently observed that not all participants adhered to their assigned groups."
   ]
  },
  {
   "cell_type": "code",
   "execution_count": 16,
   "metadata": {
    "colab": {
     "base_uri": "https://localhost:8080/",
     "height": 241
    },
    "id": "bI9MXN3zlPQk",
    "outputId": "4eb4f8df-515f-479e-8fb0-077235d4b6ca"
   },
   "outputs": [
    {
     "data": {
      "text/plain": [
       "assign  treat\n",
       "0.0     0        225\n",
       "1.0     0        200\n",
       "        1        161\n",
       "0.0     1        136\n",
       "Name: count, dtype: int64"
      ]
     },
     "execution_count": 16,
     "metadata": {},
     "output_type": "execute_result"
    }
   ],
   "source": [
    "np.random.seed(42)\n",
    "desired_treatment_proportion = 0.5\n",
    "n = len(data)\n",
    "n_treatment_assigned = int(n * desired_treatment_proportion)\n",
    "assignment = np.zeros(n)\n",
    "assignment[:n_treatment_assigned] = 1\n",
    "np.random.shuffle(assignment)\n",
    "data['assign'] = assignment\n",
    "data[['assign', 'treat']].value_counts()"
   ]
  },
  {
   "cell_type": "markdown",
   "metadata": {
    "id": "zK_ohpDNmbos"
   },
   "source": [
    "This discrepancy raises significant questions about the validity of the study's findings and complicates the interpretation of the treatment's effectiveness! **What could we do**?"
   ]
  },
  {
   "cell_type": "markdown",
   "metadata": {
    "id": "q4OdFIvjto0k"
   },
   "source": [
    "**Why would non-compliance occur?**  More importantly, should we reconsider our target parameter? **Why?**"
   ]
  },
  {
   "cell_type": "markdown",
   "metadata": {
    "id": "9-fGYfYkrKm2"
   },
   "source": [
    "Perhaps, it might be more appropiate to calculate the ITT for the job training program, where:\n",
    "\n",
    "- $S_A = 1$ if an individual is assigned to receive the job training program (told to participate).\n",
    "- $S_A = 0$ if an individual is not assigned to receive the training.\n",
    "- $Y(S_A, U)$ represents the outcome variable, which in this case is the wage of participants one month after the assignment.\n",
    "- $U$ captures all other factors that influence wages.\n",
    "\n",
    "The ITT is defined as:\n",
    "\n",
    "$$\n",
    "ITT = \\mathbb{E}[Y(S_A = 1, U)] - \\mathbb{E}[Y(S_A = 0, U)].\n",
    "$$"
   ]
  },
  {
   "cell_type": "code",
   "execution_count": 17,
   "metadata": {
    "colab": {
     "base_uri": "https://localhost:8080/"
    },
    "id": "sMIRprGdiW0_",
    "outputId": "fa880a27-4218-4e21-f07c-8a2c966ca24b"
   },
   "outputs": [
    {
     "name": "stdout",
     "output_type": "stream",
     "text": [
      "Estimated ITT: 833.30\n"
     ]
    }
   ],
   "source": [
    "mean_itt_treated = data[data['assign'] == 1]['re78'].mean()\n",
    "mean_itt_control = data[data['assign'] == 0]['re78'].mean()\n",
    "itt = mean_itt_treated - mean_itt_control\n",
    "print(f\"Estimated ITT: {itt:.2f}\")"
   ]
  },
  {
   "cell_type": "markdown",
   "metadata": {
    "id": "cs_onLk5Pshh"
   },
   "source": [
    "This is the average effect **of being assigned** to the job training program on wages, while holding constant all other determinants captured by $U$. Would this approach be useful for policymakers assessing the program's potential benefits in a real-world setting?\n",
    "\n",
    "\n"
   ]
  },
  {
   "cell_type": "markdown",
   "metadata": {
    "id": "OHiL8KTAvWPc"
   },
   "source": [
    "### SUTVA violation"
   ]
  },
  {
   "cell_type": "markdown",
   "metadata": {
    "id": "RzserS9Ewqs3"
   },
   "source": [
    "SUTVA implies two conditions:\n",
    "1. No interference between units.-  The treatment of one unit doesn't affect another unit.\n",
    "2. Consistency.- Each unit has a single potential outcome under each treatment condition.\n",
    "\n",
    "SUTVA violation occurs when the no interference assumption does not hold. This is known as a **spillover** effect, which means the\n",
    "\n",
    "> treatment effect _spills over_ to others who weren't treated.\n",
    "\n",
    "Spillovers make it hard to estimate the _pure effect_ of treatment because the control group may still be affected by the treatment due to interactions with treated units."
   ]
  },
  {
   "cell_type": "markdown",
   "metadata": {
    "id": "sRVQqwkpiYxG"
   },
   "source": [
    "      T_1         T_2        T_3        T_4\n",
    "       |           |          |          |\n",
    "     Y_1 <-----  Y_2 <----- Y_3 ------ Y_4\n"
   ]
  },
  {
   "cell_type": "markdown",
   "metadata": {
    "id": "XIcgqrOByiEz"
   },
   "source": [
    "\n",
    "Consider the graph above, where we have different treatment groups represented by $T_1, T_2, T_3, T_4$ and their corresponding outcomes represented by $Y_1, Y_2, Y_3, Y_4$.\n",
    "\n",
    "+ Notice the arrows in the graph indicate that the outcomes are interconnected in a way that violates the SUTVA assumption. This means we cannot cleanly separate treated and untreated outcomes, which complicates our estimates. **How do we handle spillovers?**\n"
   ]
  },
  {
   "cell_type": "markdown",
   "metadata": {
    "id": "a9nl8OBeiWJU"
   },
   "source": [
    "Suppose we are interested in understanding the impact of tutoring programs. Say we randomly assign some students to receive tutoring (the treatment). **Would we be able to identify  ATE?**\n",
    "\n",
    "This experiment would presumably fail! Why? Spillover effects are highly likely as knowledge gained by treated students could positively influence untreated peers due to peer interactions.\n",
    "\n",
    "**How could we manage spillover effects?** We can randomize entire classrooms or schools to either receive the tutoring intervention or not. Meaning, given that $S_G \\perp\\!\\!\\!\\perp U $, where $S_G$ denotes the group-level treatment and $ U$ represents unobserved confounders, we have:\n",
    "\n",
    "   $$\n",
    "   \\text{ATE}_G = \\mathbb{E}[Y_G(S_G = 1, U_G) | S_G = 1] - \\mathbb{E}[Y_G(S_G = 0, U_G) | S_G = 0],\n",
    "   $$\n",
    "\n",
    "   where $Y_G$ is the school-level outcome.\n",
    "   \n",
    "   This approach enables us to estimate the average treatment effect (ATE) at the group level by comparing outcomes between treated and untreated groups, capturing both the treatment and spillover effects."
   ]
  },
  {
   "cell_type": "code",
   "execution_count": 18,
   "metadata": {
    "id": "qDbJNlfh71ZN"
   },
   "outputs": [],
   "source": [
    "np.random.seed(42)\n",
    "n_schools = 20\n",
    "students_per_school = 30\n",
    "school_ids = np.arange(n_schools)\n",
    "treatment_assignment = np.zeros(n_schools)\n",
    "num_treated = np.random.randint(10, 15)\n",
    "treated_schools = np.random.choice(school_ids, size=num_treated, replace=False)\n",
    "treatment_assignment[treated_schools] = 1\n",
    "school_data = pd.DataFrame({\n",
    "    'school_id': school_ids,\n",
    "    'treat': treatment_assignment\n",
    "})"
   ]
  },
  {
   "cell_type": "code",
   "execution_count": 19,
   "metadata": {
    "id": "RCORQVp08Ofn"
   },
   "outputs": [],
   "source": [
    "def simulate_group_outcome(treatment):\n",
    "    np.random.seed(42)\n",
    "    base_outcome = 50  # Base score\n",
    "    return base_outcome + treatment * np.random.normal(10, 5)  # Adding treatment effect"
   ]
  },
  {
   "cell_type": "code",
   "execution_count": 20,
   "metadata": {
    "id": "P9RW9LAW8iDc"
   },
   "outputs": [],
   "source": [
    "school_data['mean_outcome'] = school_data['treat'].apply(simulate_group_outcome)"
   ]
  },
  {
   "cell_type": "code",
   "execution_count": 21,
   "metadata": {
    "colab": {
     "base_uri": "https://localhost:8080/",
     "height": 676
    },
    "id": "M1su4aaJ9NC2",
    "outputId": "ec22b42d-7dbc-4479-f4bf-d1b9530086c9"
   },
   "outputs": [
    {
     "data": {
      "text/html": [
       "<div>\n",
       "<style scoped>\n",
       "    .dataframe tbody tr th:only-of-type {\n",
       "        vertical-align: middle;\n",
       "    }\n",
       "\n",
       "    .dataframe tbody tr th {\n",
       "        vertical-align: top;\n",
       "    }\n",
       "\n",
       "    .dataframe thead th {\n",
       "        text-align: right;\n",
       "    }\n",
       "</style>\n",
       "<table border=\"1\" class=\"dataframe\">\n",
       "  <thead>\n",
       "    <tr style=\"text-align: right;\">\n",
       "      <th></th>\n",
       "      <th>school_id</th>\n",
       "      <th>treat</th>\n",
       "      <th>mean_outcome</th>\n",
       "    </tr>\n",
       "  </thead>\n",
       "  <tbody>\n",
       "    <tr>\n",
       "      <th>0</th>\n",
       "      <td>0</td>\n",
       "      <td>1.0</td>\n",
       "      <td>62.483571</td>\n",
       "    </tr>\n",
       "    <tr>\n",
       "      <th>1</th>\n",
       "      <td>1</td>\n",
       "      <td>1.0</td>\n",
       "      <td>62.483571</td>\n",
       "    </tr>\n",
       "    <tr>\n",
       "      <th>2</th>\n",
       "      <td>2</td>\n",
       "      <td>0.0</td>\n",
       "      <td>50.000000</td>\n",
       "    </tr>\n",
       "    <tr>\n",
       "      <th>3</th>\n",
       "      <td>3</td>\n",
       "      <td>1.0</td>\n",
       "      <td>62.483571</td>\n",
       "    </tr>\n",
       "    <tr>\n",
       "      <th>4</th>\n",
       "      <td>4</td>\n",
       "      <td>1.0</td>\n",
       "      <td>62.483571</td>\n",
       "    </tr>\n",
       "    <tr>\n",
       "      <th>5</th>\n",
       "      <td>5</td>\n",
       "      <td>1.0</td>\n",
       "      <td>62.483571</td>\n",
       "    </tr>\n",
       "    <tr>\n",
       "      <th>6</th>\n",
       "      <td>6</td>\n",
       "      <td>0.0</td>\n",
       "      <td>50.000000</td>\n",
       "    </tr>\n",
       "    <tr>\n",
       "      <th>7</th>\n",
       "      <td>7</td>\n",
       "      <td>0.0</td>\n",
       "      <td>50.000000</td>\n",
       "    </tr>\n",
       "    <tr>\n",
       "      <th>8</th>\n",
       "      <td>8</td>\n",
       "      <td>1.0</td>\n",
       "      <td>62.483571</td>\n",
       "    </tr>\n",
       "    <tr>\n",
       "      <th>9</th>\n",
       "      <td>9</td>\n",
       "      <td>0.0</td>\n",
       "      <td>50.000000</td>\n",
       "    </tr>\n",
       "    <tr>\n",
       "      <th>10</th>\n",
       "      <td>10</td>\n",
       "      <td>0.0</td>\n",
       "      <td>50.000000</td>\n",
       "    </tr>\n",
       "    <tr>\n",
       "      <th>11</th>\n",
       "      <td>11</td>\n",
       "      <td>1.0</td>\n",
       "      <td>62.483571</td>\n",
       "    </tr>\n",
       "    <tr>\n",
       "      <th>12</th>\n",
       "      <td>12</td>\n",
       "      <td>1.0</td>\n",
       "      <td>62.483571</td>\n",
       "    </tr>\n",
       "    <tr>\n",
       "      <th>13</th>\n",
       "      <td>13</td>\n",
       "      <td>1.0</td>\n",
       "      <td>62.483571</td>\n",
       "    </tr>\n",
       "    <tr>\n",
       "      <th>14</th>\n",
       "      <td>14</td>\n",
       "      <td>0.0</td>\n",
       "      <td>50.000000</td>\n",
       "    </tr>\n",
       "    <tr>\n",
       "      <th>15</th>\n",
       "      <td>15</td>\n",
       "      <td>1.0</td>\n",
       "      <td>62.483571</td>\n",
       "    </tr>\n",
       "    <tr>\n",
       "      <th>16</th>\n",
       "      <td>16</td>\n",
       "      <td>0.0</td>\n",
       "      <td>50.000000</td>\n",
       "    </tr>\n",
       "    <tr>\n",
       "      <th>17</th>\n",
       "      <td>17</td>\n",
       "      <td>1.0</td>\n",
       "      <td>62.483571</td>\n",
       "    </tr>\n",
       "    <tr>\n",
       "      <th>18</th>\n",
       "      <td>18</td>\n",
       "      <td>1.0</td>\n",
       "      <td>62.483571</td>\n",
       "    </tr>\n",
       "    <tr>\n",
       "      <th>19</th>\n",
       "      <td>19</td>\n",
       "      <td>1.0</td>\n",
       "      <td>62.483571</td>\n",
       "    </tr>\n",
       "  </tbody>\n",
       "</table>\n",
       "</div>"
      ],
      "text/plain": [
       "    school_id  treat  mean_outcome\n",
       "0           0    1.0     62.483571\n",
       "1           1    1.0     62.483571\n",
       "2           2    0.0     50.000000\n",
       "3           3    1.0     62.483571\n",
       "4           4    1.0     62.483571\n",
       "5           5    1.0     62.483571\n",
       "6           6    0.0     50.000000\n",
       "7           7    0.0     50.000000\n",
       "8           8    1.0     62.483571\n",
       "9           9    0.0     50.000000\n",
       "10         10    0.0     50.000000\n",
       "11         11    1.0     62.483571\n",
       "12         12    1.0     62.483571\n",
       "13         13    1.0     62.483571\n",
       "14         14    0.0     50.000000\n",
       "15         15    1.0     62.483571\n",
       "16         16    0.0     50.000000\n",
       "17         17    1.0     62.483571\n",
       "18         18    1.0     62.483571\n",
       "19         19    1.0     62.483571"
      ]
     },
     "execution_count": 21,
     "metadata": {},
     "output_type": "execute_result"
    }
   ],
   "source": [
    "school_data"
   ]
  },
  {
   "cell_type": "code",
   "execution_count": 22,
   "metadata": {
    "colab": {
     "base_uri": "https://localhost:8080/"
    },
    "id": "-DnJIDQLnNCq",
    "outputId": "a446d11f-bb4c-464b-96bd-f2a89921a224"
   },
   "outputs": [
    {
     "name": "stdout",
     "output_type": "stream",
     "text": [
      "Estimated ATE_g: 12.48\n"
     ]
    }
   ],
   "source": [
    "mean_ate_treated_g = school_data[school_data['treat'] == 1]['mean_outcome'].mean()\n",
    "mean_ate_control_g = school_data[school_data['treat'] == 0]['mean_outcome'].mean()\n",
    "ate_g = mean_ate_treated_g - mean_ate_control_g\n",
    "print(f\"Estimated ATE_g: {ate_g:.2f}\")"
   ]
  },
  {
   "cell_type": "markdown",
   "metadata": {
    "id": "mQzodH6xmzH7"
   },
   "source": [
    "\n",
    "Notice the contrast when assigning treatment at the individual level, where we estimate the ATE based on the differences in outcomes between individuals assigned to treatment and control.\n"
   ]
  },
  {
   "cell_type": "markdown",
   "metadata": {
    "id": "8XDFtZzj1NuE"
   },
   "source": [
    "\n",
    "### RCTs: The Gold Standard? A Side Note on Their Limitations\n",
    "\n",
    "RCTs are often seen as the gold standard in research due to their high internal validity. However, they have significant limitations:\n",
    "\n",
    "- Ethical Concerns\n",
    "- Limited Generalizability\n",
    "- Attrition Bias\n",
    "- Variability in Implementation\n",
    "- Sample Size Issues\n",
    "- Cost and Time Constraints\n",
    "- Hawthorne Effect\n",
    "\n",
    "A key example is the debate over Miguel and Kremer's (2004) deworming study (reviews in class), which demonstrated strong effects on worm infections and school attendance.\n",
    "\n",
    "Critics have questioned the validity of Miguel and Kremer's (2004) findings, citing the Hawthorne effect, where participants' behavior may have been influenced simply by their awareness of being observed.\n",
    "\n"
   ]
  },
  {
   "cell_type": "markdown",
   "metadata": {
    "id": "ftEvdDRWbCO2"
   },
   "source": [
    "## Recap on sampling distributions and the Central Limit Theorem (CLT) on Python -- HELP FOR HOMEWORK!"
   ]
  },
  {
   "cell_type": "markdown",
   "metadata": {
    "id": "HEjTqr9KmqoV"
   },
   "source": [
    "When we want to sample from a **uniform distribution**, we're interested in generating random values that have an equal likelihood of falling anywhere within a specified interval. This can be accomplished using the NumPy library in Python."
   ]
  },
  {
   "cell_type": "code",
   "execution_count": 23,
   "metadata": {
    "id": "NzBSEgbGdL7q"
   },
   "outputs": [],
   "source": [
    "# For reproducibility\n",
    "np.random.seed(42)"
   ]
  },
  {
   "cell_type": "markdown",
   "metadata": {
    "id": "BahxdD2XnjKD"
   },
   "source": [
    "To draw samples from a uniform distribution, we can use the following function:\n",
    "\n",
    "```python\n",
    "np.random.uniform(low, high, size)\n",
    "```\n",
    "\n",
    "**Parameters**:\n",
    "  - `low`: The lower bound of the interval (inclusive).\n",
    "  - `high`: The upper bound of the interval (exclusive).\n",
    "  - `size`: This parameter specifies the shape of the output array.\n",
    "\n",
    "Note that samples are drawn from the half-open interval: $$[\\text{low}, \\text{high}).$$\n",
    "\n",
    "Say we want to generate samples uniformly distributed over $[-1, 1]$. To include 1 in the upper bound, we can add a small value, called **epsilon**, which is the smallest representable positive number such that \\(1 + \\text{epsilon}\\) is greater than $1$.\n",
    "\n",
    "```python\n",
    "np.random.uniform(-1, 1 + np.finfo(float).eps, size)\n",
    "```\n",
    "\n",
    "Lastly, the `size=(num_samples, n)` parameter can be a tuple to define the shape of the generated array.\n",
    "\n",
    "- **`num_samples`**: This represents the number of independent samples or trials we want to generate.\n",
    "- **`n`**: This is the number of random values (the sample size) in each trial."
   ]
  },
  {
   "cell_type": "code",
   "execution_count": 24,
   "metadata": {
    "id": "Jqbzd5X8bwFj"
   },
   "outputs": [],
   "source": [
    "# Generate samples\n",
    "num_samples, n = 10, 5\n",
    "samples = np.random.uniform(-1, 1 + np.finfo(float).eps, (num_samples, n))"
   ]
  },
  {
   "cell_type": "code",
   "execution_count": 25,
   "metadata": {
    "colab": {
     "base_uri": "https://localhost:8080/"
    },
    "id": "A2J7hvhCcMeD",
    "outputId": "a3bc8afa-13b1-4305-9062-816e17cccde0"
   },
   "outputs": [
    {
     "data": {
      "text/plain": [
       "10"
      ]
     },
     "execution_count": 25,
     "metadata": {},
     "output_type": "execute_result"
    }
   ],
   "source": [
    "len(samples)"
   ]
  },
  {
   "cell_type": "code",
   "execution_count": 26,
   "metadata": {
    "colab": {
     "base_uri": "https://localhost:8080/"
    },
    "id": "3xzeRd8CdSZI",
    "outputId": "7d149204-970f-4c46-cba4-972376afcc0a"
   },
   "outputs": [
    {
     "data": {
      "text/plain": [
       "array([-0.25091976,  0.90142861,  0.46398788,  0.19731697, -0.68796272])"
      ]
     },
     "execution_count": 26,
     "metadata": {},
     "output_type": "execute_result"
    }
   ],
   "source": [
    "samples[0]"
   ]
  },
  {
   "cell_type": "code",
   "execution_count": 27,
   "metadata": {
    "colab": {
     "base_uri": "https://localhost:8080/"
    },
    "id": "geIzLxBocSk0",
    "outputId": "7ee40b6e-5845-4f5d-a601-7310b2376f2a"
   },
   "outputs": [
    {
     "name": "stdout",
     "output_type": "stream",
     "text": [
      "[ 0.1247702  -0.04422325 -0.11315957 -0.30576906 -0.25363071 -0.14482033\n",
      "  0.10305526 -0.0659725  -0.27211838 -0.10965355]\n"
     ]
    }
   ],
   "source": [
    "# Compute sample means\n",
    "sample_means = np.mean(samples, axis=1)\n",
    "print(sample_means)"
   ]
  },
  {
   "cell_type": "code",
   "execution_count": 28,
   "metadata": {
    "colab": {
     "base_uri": "https://localhost:8080/"
    },
    "id": "rqb_FnOecbPv",
    "outputId": "461772ab-0477-4bc4-9f6b-39c28f6177c3"
   },
   "outputs": [
    {
     "name": "stdout",
     "output_type": "stream",
     "text": [
      "Proportion of the sample means lie within the range [-0.1,0.1]: {np.float64(0.2)}\n"
     ]
    }
   ],
   "source": [
    "# Proportion of the sample means lie within the range [-0.1,0.1]\n",
    "proportion = np.mean((sample_means >= -0.1) & (sample_means <= 0.1))\n",
    "print(f\"Proportion of the sample means lie within the range [-0.1,0.1]:\", {proportion})"
   ]
  },
  {
   "cell_type": "code",
   "execution_count": 29,
   "metadata": {
    "colab": {
     "base_uri": "https://localhost:8080/",
     "height": 501
    },
    "id": "0fyWJGBhi999",
    "outputId": "f5ee448f-aa00-4e4d-9662-e6189ae566c2"
   },
   "outputs": [
    {
     "data": {
      "image/png": "[encoded data removed]",
      "text/plain": [
       "<Figure size 900x500 with 1 Axes>"
      ]
     },
     "metadata": {},
     "output_type": "display_data"
    }
   ],
   "source": [
    "sns.set(style='whitegrid', palette='deep')\n",
    "plt.figure(figsize=(9, 5))\n",
    "plt.hist(sample_means * np.sqrt(n), bins=10, color='grey', edgecolor='black', alpha=0.2)\n",
    "plt.xlabel('Value')\n",
    "plt.ylabel('Frequency')\n",
    "plt.xticks(fontsize=10)\n",
    "plt.yticks(fontsize=10)\n",
    "plt.grid(True, linestyle='--', alpha=0.1)\n",
    "plt.tight_layout()\n",
    "plt.show()"
   ]
  },
  {
   "cell_type": "markdown",
   "metadata": {
    "id": "QmpQQE9wWyv9"
   },
   "source": [
    "## 5. Path Forward\n",
    "\n",
    "+ Advanced causal inference methods, e.g., regression, natural experiments, etc."
   ]
  },
  {
   "cell_type": "markdown",
   "metadata": {
    "id": "PrnzInxwJwhL"
   },
   "source": [
    "---\n",
    "\n",
    "**References:**\n",
    "\n",
    "\n",
    "+ Lalonde, R. J. (1986). *Evaluating the Econometric Evaluations of Training Programs with Experimental Data.* American Economic Review, 76(4), 604-620.\n",
    "\n",
    "+ Athey, S., Chetty, R., & Imbens, G. W. (2020). Combining Experimental and Observational Data to Estimate Treatment Effects on Long-Term Outcomes. [https://arxiv.org/pdf/2006.09676]\n",
    "\n",
    "+ Miguel, Edward and Michael Kremer. 2004. “Worms: Identifying Impacts on Education and Health in the Presence of Treatment Externalities.” Econometrica 72 (1): 159-217. https://www.jstor.org/stable/3598853.\n"
   ]
  }
 ],
 "metadata": {
  "colab": {
   "provenance": []
  },
  "kernelspec": {
   "display_name": "Python 3",
   "name": "python3"
  },
  "language_info": {
   "codemirror_mode": {
    "name": "ipython",
    "version": 3
   },
   "file_extension": ".py",
   "mimetype": "text/x-python",
   "name": "python",
   "nbconvert_exporter": "python",
   "pygments_lexer": "ipython3",
   "version": "3.12.8"
  }
 },
 "nbformat": 4,
 "nbformat_minor": 0
}