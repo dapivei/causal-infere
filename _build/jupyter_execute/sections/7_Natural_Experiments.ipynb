{
 "cells": [
  {
   "cell_type": "markdown",
   "metadata": {
    "id": "DQLNpzhJBsjA"
   },
   "source": [
    "\n",
    "<div align=\"center\">\n",
    "\n",
    "[![Open in Colab](https://colab.research.google.com/assets/colab-badge.svg)](https://colab.research.google.com/github/dapivei/causal-infere/blob/main/sections/7_Natural_Experiments.ipynb)\n",
    "\n",
    "</div>\n",
    "\n",
    "\n",
    "\n",
    "\n"
   ]
  },
  {
   "cell_type": "markdown",
   "metadata": {},
   "source": [
    "# Natural Experiments"
   ]
  },
  {
   "cell_type": "markdown",
   "metadata": {
    "id": "AsLZI9CzzVrf"
   },
   "source": [
    "## Causality from Observational Data\n",
    "\n",
    "Experiments / Random control trials (RCT) are often referred as the gold standards for causality. We can easily establish the important independence assumption by randomizing treatments in experiments:\n",
    "\n",
    "\\begin{equation}\n",
    "S \\perp U\n",
    "\\end{equation}\n",
    "\n",
    "However, this is not always possible, and experiments are expensive.\n",
    "\n",
    "How do we learn **causal** insights from large amount of data that we've already observed and collected? e.g.,\n",
    "- Electronic health records\n",
    "- Financial market performance\n",
    "- Biological sequences\n",
    "- Reddit/Twitter posts\n",
    "\n",
    "We did not and cannot go back in time to manipulate these data-generating processes to enforce the independence assumption, but there are still methods to infer causal effects from observational data, broadly in the following two ways:\n",
    "1. Treatment was as-if randomly assigned (maybe for a subset of the population) - Natural Experiments\n",
    "2. Adjust the treatment and control group characteristics so that they look similar - e.g., through controlling confounders\n",
    "\n"
   ]
  },
  {
   "cell_type": "markdown",
   "metadata": {
    "id": "RdORTKzfx289"
   },
   "source": [
    "##  Natural Experiments\n",
    "\n",
    "Sometimes, natural processes give us a treatment that behaves \"as-if\" random. This allows us to establish the experimental assumption:\n",
    "\n",
    "\\begin{equation}\n",
    "S \\perp U\n",
    "\\end{equation}\n",
    "\n",
    "We would still need SUTVA and perfect compliance (compliance with the natural process of assigning treatment). Then, everything else follows from the process of estimating effects from experiments.\n",
    "\n",
    "The challenge here is to identify what dataset and what causal question constitutes a natural experiment.\n",
    "- In class, we see that we can ask how winning lotteries affects spending.\n",
    "- Similarly, other examples include asking how military service will affect lifetime earnings (given that it is through draft lottery).\n",
    "- More?"
   ]
  },
  {
   "cell_type": "markdown",
   "metadata": {
    "id": "PoUhXIS8hhql"
   },
   "source": [
    "### Random v.s. Non-random Assignment\n",
    "\n",
    "First, we can see what random assignment v.s. non-random assignment looks like through the following example."
   ]
  },
  {
   "cell_type": "code",
   "execution_count": 1,
   "metadata": {
    "colab": {
     "base_uri": "https://localhost:8080/"
    },
    "id": "h4RnRbyXyDKi",
    "outputId": "883426eb-16be-4c25-b86b-abfd0944ab25"
   },
   "outputs": [
    {
     "name": "stdout",
     "output_type": "stream",
     "text": [
      "Random assignment\n",
      "   treatment   outcome\n",
      "0          0  0.208307\n",
      "1          1  1.365955\n",
      "2          1  0.343714\n",
      "3          1  0.916081\n",
      "4          1  0.350137\n",
      "5          0  0.383980\n",
      "6          0  0.292093\n",
      "7          0  1.160619\n",
      "8          0 -0.296647\n",
      "9          0 -0.679880\n",
      "Non-random assignment\n",
      "   confounder  treatment   outcome\n",
      "0   -0.125056          0 -1.547934\n",
      "1    1.496612          1  3.965643\n",
      "2    0.220468          1  2.315961\n",
      "3    0.011191          1  1.991408\n",
      "4   -0.378124          0  0.156474\n",
      "5   -2.436663          0 -2.242509\n",
      "6    0.223760          1  2.870007\n",
      "7   -0.553656          0  1.051514\n",
      "8    0.048394          1  1.850523\n",
      "9    0.226738          1  3.058482\n"
     ]
    }
   ],
   "source": [
    "import pandas as pd\n",
    "import numpy as np\n",
    "import matplotlib.pyplot as plt\n",
    "\n",
    "# simulating random treatment assignment\n",
    "np.random.seed(201)\n",
    "N = 500\n",
    "treatment = np.random.binomial(1, 0.5, N)\n",
    "data_random = pd.DataFrame({\n",
    "    'treatment': treatment,\n",
    "    'outcome': np.random.normal(0, 1, N) + 2 * treatment\n",
    "})\n",
    "\n",
    "# non-random treatment assignment based on a confounder\n",
    "confounder = np.random.normal(0, 1, N)\n",
    "treatment = (confounder > 0).astype(int) # treatment based on signs of U\n",
    "data_non_random = pd.DataFrame({\n",
    "    'confounder': confounder,\n",
    "    'treatment': treatment,\n",
    "    'outcome': confounder + 2 * treatment + np.random.normal(0, 1, N)\n",
    "})\n",
    "\n",
    "\n",
    "print(\"Random assignment\")\n",
    "print(data_random.head(10))\n",
    "print(\"Non-random assignment\")\n",
    "print(data_non_random.head(10))"
   ]
  },
  {
   "cell_type": "markdown",
   "metadata": {
    "id": "wG8MP0v9jwKU"
   },
   "source": [
    "Will the second example pass the balance test?\n",
    "\n",
    "\\begin{equation}\n",
    "p(U|S=1) = p(U|S=0)\n",
    "\\end{equation}"
   ]
  },
  {
   "cell_type": "code",
   "execution_count": 2,
   "metadata": {
    "colab": {
     "base_uri": "https://localhost:8080/",
     "height": 591
    },
    "id": "jAUjZz7Xk-hD",
    "outputId": "3baad01f-3249-4aa9-809f-78abfc1c3602"
   },
   "outputs": [
    {
     "data": {
      "text/plain": [
       "treatment\n",
       "0    Axes(0.125,0.11;0.775x0.77)\n",
       "1    Axes(0.125,0.11;0.775x0.77)\n",
       "Name: confounder, dtype: object"
      ]
     },
     "execution_count": 2,
     "metadata": {},
     "output_type": "execute_result"
    },
    {
     "data": {
      "image/png": "[encoded data removed]",
      "text/plain": [
       "<Figure size 640x480 with 1 Axes>"
      ]
     },
     "metadata": {},
     "output_type": "display_data"
    }
   ],
   "source": [
    "# distributions of confounder given treatment\n",
    "data_non_random.groupby('treatment')['confounder'].hist()"
   ]
  },
  {
   "cell_type": "code",
   "execution_count": 3,
   "metadata": {
    "colab": {
     "base_uri": "https://localhost:8080/"
    },
    "id": "Ugl1KJUXjzAB",
    "outputId": "e6e76a71-403e-4052-f383-91300155ad0c"
   },
   "outputs": [
    {
     "name": "stdout",
     "output_type": "stream",
     "text": [
      "treatment\n",
      "0   -0.856284\n",
      "1    0.829128\n",
      "Name: confounder, dtype: float64\n"
     ]
    }
   ],
   "source": [
    "print(data_non_random.groupby('treatment')['confounder'].mean())"
   ]
  },
  {
   "cell_type": "markdown",
   "metadata": {
    "id": "-UyEYa07lhLS"
   },
   "source": [
    "### Case Study: Dutch Postcode Lottery\n",
    "\n",
    "A famous natural experiment is the Dutch Postcode Lottery. In this lottery, neighborhoods (postal codes) are chosen at random, and everyone in the chosen postal code wins some amount of money.\n",
    "\n",
    "This creates an \"as-if\" random treatment group (winners) and a control group (non-winners), allowing us to estimate the causal effect of winning the lottery on spending behavior."
   ]
  },
  {
   "cell_type": "markdown",
   "metadata": {
    "id": "l0Tp7sTpl_eV"
   },
   "source": [
    "Take-home Exercise: Download the real data file `FinalAnon.dta` from https://www.aeaweb.org/articles?id=10.1257/aer.101.5.2226, and run the following code sample from class. Recreate the balance test!"
   ]
  },
  {
   "cell_type": "code",
   "execution_count": 4,
   "metadata": {
    "colab": {
     "base_uri": "https://localhost:8080/",
     "height": 496
    },
    "id": "SzGqT-DNmYk3",
    "outputId": "d357952a-e3ce-4588-eea1-f6eceec93fa2"
   },
   "outputs": [
    {
     "data": {
      "text/html": [
       "<div>\n",
       "<style scoped>\n",
       "    .dataframe tbody tr th:only-of-type {\n",
       "        vertical-align: middle;\n",
       "    }\n",
       "\n",
       "    .dataframe tbody tr th {\n",
       "        vertical-align: top;\n",
       "    }\n",
       "\n",
       "    .dataframe thead th {\n",
       "        text-align: right;\n",
       "    }\n",
       "</style>\n",
       "<table border=\"1\" class=\"dataframe\">\n",
       "  <thead>\n",
       "    <tr style=\"text-align: right;\">\n",
       "      <th></th>\n",
       "      <th>NperPstk</th>\n",
       "      <th>v01</th>\n",
       "      <th>v02a1</th>\n",
       "      <th>v02b1a</th>\n",
       "      <th>v02b1b</th>\n",
       "      <th>v02b1c</th>\n",
       "      <th>v02c1</th>\n",
       "      <th>v02a2</th>\n",
       "      <th>v02b2a</th>\n",
       "      <th>v02b2b</th>\n",
       "      <th>...</th>\n",
       "      <th>rememberStreetPrize</th>\n",
       "      <th>know_winnersA</th>\n",
       "      <th>know_winnersB</th>\n",
       "      <th>num_neighbors_bot</th>\n",
       "      <th>num_neighbor_tixbot</th>\n",
       "      <th>neighbor_bot</th>\n",
       "      <th>num_neighbors_botA</th>\n",
       "      <th>neighbor_botA</th>\n",
       "      <th>pstk</th>\n",
       "      <th>codegroup</th>\n",
       "    </tr>\n",
       "  </thead>\n",
       "  <tbody>\n",
       "    <tr>\n",
       "      <th>0</th>\n",
       "      <td>26.0</td>\n",
       "      <td>2</td>\n",
       "      <td>vrouw</td>\n",
       "      <td>16</td>\n",
       "      <td>augustus</td>\n",
       "      <td>1939</td>\n",
       "      <td>ja</td>\n",
       "      <td>man</td>\n",
       "      <td>16.0</td>\n",
       "      <td>september</td>\n",
       "      <td>...</td>\n",
       "      <td>0</td>\n",
       "      <td>0</td>\n",
       "      <td>0</td>\n",
       "      <td>0</td>\n",
       "      <td>0.0</td>\n",
       "      <td>0.0</td>\n",
       "      <td>0</td>\n",
       "      <td>0</td>\n",
       "      <td>512056</td>\n",
       "      <td>512044</td>\n",
       "    </tr>\n",
       "    <tr>\n",
       "      <th>1</th>\n",
       "      <td>26.0</td>\n",
       "      <td>2</td>\n",
       "      <td>man</td>\n",
       "      <td>17</td>\n",
       "      <td>mei</td>\n",
       "      <td>1924</td>\n",
       "      <td>ja</td>\n",
       "      <td>vrouw</td>\n",
       "      <td>27.0</td>\n",
       "      <td>januari</td>\n",
       "      <td>...</td>\n",
       "      <td>1</td>\n",
       "      <td>0</td>\n",
       "      <td>0</td>\n",
       "      <td>0</td>\n",
       "      <td>0.0</td>\n",
       "      <td>0.0</td>\n",
       "      <td>0</td>\n",
       "      <td>0</td>\n",
       "      <td>512056</td>\n",
       "      <td>512044</td>\n",
       "    </tr>\n",
       "    <tr>\n",
       "      <th>2</th>\n",
       "      <td>18.0</td>\n",
       "      <td>1</td>\n",
       "      <td>vrouw</td>\n",
       "      <td>14</td>\n",
       "      <td>december</td>\n",
       "      <td>1952</td>\n",
       "      <td>ja</td>\n",
       "      <td>persoon n.v.t.</td>\n",
       "      <td>NaN</td>\n",
       "      <td>NaN</td>\n",
       "      <td>...</td>\n",
       "      <td>1</td>\n",
       "      <td>1</td>\n",
       "      <td>0</td>\n",
       "      <td>1</td>\n",
       "      <td>4.0</td>\n",
       "      <td>1.0</td>\n",
       "      <td>1</td>\n",
       "      <td>1</td>\n",
       "      <td>512066</td>\n",
       "      <td>512044</td>\n",
       "    </tr>\n",
       "    <tr>\n",
       "      <th>3</th>\n",
       "      <td>18.0</td>\n",
       "      <td>1</td>\n",
       "      <td>man</td>\n",
       "      <td>18</td>\n",
       "      <td>april</td>\n",
       "      <td>1951</td>\n",
       "      <td>ja</td>\n",
       "      <td>persoon n.v.t.</td>\n",
       "      <td>NaN</td>\n",
       "      <td>NaN</td>\n",
       "      <td>...</td>\n",
       "      <td>1</td>\n",
       "      <td>1</td>\n",
       "      <td>1</td>\n",
       "      <td>1</td>\n",
       "      <td>1.0</td>\n",
       "      <td>1.0</td>\n",
       "      <td>1</td>\n",
       "      <td>1</td>\n",
       "      <td>512066</td>\n",
       "      <td>512044</td>\n",
       "    </tr>\n",
       "    <tr>\n",
       "      <th>4</th>\n",
       "      <td>NaN</td>\n",
       "      <td>2</td>\n",
       "      <td>man</td>\n",
       "      <td>1</td>\n",
       "      <td>november</td>\n",
       "      <td>1928</td>\n",
       "      <td>ja</td>\n",
       "      <td>vrouw</td>\n",
       "      <td>12.0</td>\n",
       "      <td>april</td>\n",
       "      <td>...</td>\n",
       "      <td>1</td>\n",
       "      <td>0</td>\n",
       "      <td>0</td>\n",
       "      <td>0</td>\n",
       "      <td>0.0</td>\n",
       "      <td>0.0</td>\n",
       "      <td>0</td>\n",
       "      <td>0</td>\n",
       "      <td>512066</td>\n",
       "      <td>512044</td>\n",
       "    </tr>\n",
       "    <tr>\n",
       "      <th>...</th>\n",
       "      <td>...</td>\n",
       "      <td>...</td>\n",
       "      <td>...</td>\n",
       "      <td>...</td>\n",
       "      <td>...</td>\n",
       "      <td>...</td>\n",
       "      <td>...</td>\n",
       "      <td>...</td>\n",
       "      <td>...</td>\n",
       "      <td>...</td>\n",
       "      <td>...</td>\n",
       "      <td>...</td>\n",
       "      <td>...</td>\n",
       "      <td>...</td>\n",
       "      <td>...</td>\n",
       "      <td>...</td>\n",
       "      <td>...</td>\n",
       "      <td>...</td>\n",
       "      <td>...</td>\n",
       "      <td>...</td>\n",
       "      <td>...</td>\n",
       "    </tr>\n",
       "    <tr>\n",
       "      <th>1874</th>\n",
       "      <td>16.0</td>\n",
       "      <td>5</td>\n",
       "      <td>vrouw</td>\n",
       "      <td>17</td>\n",
       "      <td>april</td>\n",
       "      <td>1967</td>\n",
       "      <td>ja</td>\n",
       "      <td>man</td>\n",
       "      <td>19.0</td>\n",
       "      <td>oktober</td>\n",
       "      <td>...</td>\n",
       "      <td>1</td>\n",
       "      <td>1</td>\n",
       "      <td>1</td>\n",
       "      <td>0</td>\n",
       "      <td>0.0</td>\n",
       "      <td>0.0</td>\n",
       "      <td>0</td>\n",
       "      <td>0</td>\n",
       "      <td>4908271</td>\n",
       "      <td>490859</td>\n",
       "    </tr>\n",
       "    <tr>\n",
       "      <th>1875</th>\n",
       "      <td>16.0</td>\n",
       "      <td>2</td>\n",
       "      <td>man</td>\n",
       "      <td>13</td>\n",
       "      <td>november</td>\n",
       "      <td>1943</td>\n",
       "      <td>ja</td>\n",
       "      <td>vrouw</td>\n",
       "      <td>19.0</td>\n",
       "      <td>oktober</td>\n",
       "      <td>...</td>\n",
       "      <td>1</td>\n",
       "      <td>1</td>\n",
       "      <td>0</td>\n",
       "      <td>0</td>\n",
       "      <td>0.0</td>\n",
       "      <td>0.0</td>\n",
       "      <td>0</td>\n",
       "      <td>0</td>\n",
       "      <td>4908271</td>\n",
       "      <td>490859</td>\n",
       "    </tr>\n",
       "    <tr>\n",
       "      <th>1876</th>\n",
       "      <td>16.0</td>\n",
       "      <td>3</td>\n",
       "      <td>man</td>\n",
       "      <td>19</td>\n",
       "      <td>januari</td>\n",
       "      <td>1948</td>\n",
       "      <td>ja</td>\n",
       "      <td>vrouw</td>\n",
       "      <td>24.0</td>\n",
       "      <td>maart</td>\n",
       "      <td>...</td>\n",
       "      <td>1</td>\n",
       "      <td>0</td>\n",
       "      <td>0</td>\n",
       "      <td>0</td>\n",
       "      <td>0.0</td>\n",
       "      <td>0.0</td>\n",
       "      <td>0</td>\n",
       "      <td>0</td>\n",
       "      <td>4908271</td>\n",
       "      <td>490859</td>\n",
       "    </tr>\n",
       "    <tr>\n",
       "      <th>1877</th>\n",
       "      <td>16.0</td>\n",
       "      <td>4</td>\n",
       "      <td>vrouw</td>\n",
       "      <td>18</td>\n",
       "      <td>juli</td>\n",
       "      <td>1968</td>\n",
       "      <td>ja</td>\n",
       "      <td>man</td>\n",
       "      <td>24.0</td>\n",
       "      <td>maart</td>\n",
       "      <td>...</td>\n",
       "      <td>1</td>\n",
       "      <td>1</td>\n",
       "      <td>1</td>\n",
       "      <td>0</td>\n",
       "      <td>0.0</td>\n",
       "      <td>0.0</td>\n",
       "      <td>0</td>\n",
       "      <td>0</td>\n",
       "      <td>4908271</td>\n",
       "      <td>490859</td>\n",
       "    </tr>\n",
       "    <tr>\n",
       "      <th>1878</th>\n",
       "      <td>6.0</td>\n",
       "      <td>1</td>\n",
       "      <td>vrouw</td>\n",
       "      <td>24</td>\n",
       "      <td>december</td>\n",
       "      <td>1925</td>\n",
       "      <td>ja</td>\n",
       "      <td>persoon n.v.t.</td>\n",
       "      <td>NaN</td>\n",
       "      <td>NaN</td>\n",
       "      <td>...</td>\n",
       "      <td>0</td>\n",
       "      <td>0</td>\n",
       "      <td>0</td>\n",
       "      <td>0</td>\n",
       "      <td>0.0</td>\n",
       "      <td>0.0</td>\n",
       "      <td>0</td>\n",
       "      <td>0</td>\n",
       "      <td>1958212</td>\n",
       "      <td>1958611</td>\n",
       "    </tr>\n",
       "  </tbody>\n",
       "</table>\n",
       "<p>1879 rows × 342 columns</p>\n",
       "</div>"
      ],
      "text/plain": [
       "      NperPstk v01  v02a1 v02b1a    v02b1b v02b1c v02c1           v02a2  \\\n",
       "0         26.0   2  vrouw     16  augustus   1939    ja             man   \n",
       "1         26.0   2    man     17       mei   1924    ja           vrouw   \n",
       "2         18.0   1  vrouw     14  december   1952    ja  persoon n.v.t.   \n",
       "3         18.0   1    man     18     april   1951    ja  persoon n.v.t.   \n",
       "4          NaN   2    man      1  november   1928    ja           vrouw   \n",
       "...        ...  ..    ...    ...       ...    ...   ...             ...   \n",
       "1874      16.0   5  vrouw     17     april   1967    ja             man   \n",
       "1875      16.0   2    man     13  november   1943    ja           vrouw   \n",
       "1876      16.0   3    man     19   januari   1948    ja           vrouw   \n",
       "1877      16.0   4  vrouw     18      juli   1968    ja             man   \n",
       "1878       6.0   1  vrouw     24  december   1925    ja  persoon n.v.t.   \n",
       "\n",
       "     v02b2a     v02b2b  ... rememberStreetPrize know_winnersA know_winnersB  \\\n",
       "0      16.0  september  ...                   0             0             0   \n",
       "1      27.0    januari  ...                   1             0             0   \n",
       "2       NaN        NaN  ...                   1             1             0   \n",
       "3       NaN        NaN  ...                   1             1             1   \n",
       "4      12.0      april  ...                   1             0             0   \n",
       "...     ...        ...  ...                 ...           ...           ...   \n",
       "1874   19.0    oktober  ...                   1             1             1   \n",
       "1875   19.0    oktober  ...                   1             1             0   \n",
       "1876   24.0      maart  ...                   1             0             0   \n",
       "1877   24.0      maart  ...                   1             1             1   \n",
       "1878    NaN        NaN  ...                   0             0             0   \n",
       "\n",
       "     num_neighbors_bot num_neighbor_tixbot neighbor_bot num_neighbors_botA  \\\n",
       "0                    0                 0.0          0.0                  0   \n",
       "1                    0                 0.0          0.0                  0   \n",
       "2                    1                 4.0          1.0                  1   \n",
       "3                    1                 1.0          1.0                  1   \n",
       "4                    0                 0.0          0.0                  0   \n",
       "...                ...                 ...          ...                ...   \n",
       "1874                 0                 0.0          0.0                  0   \n",
       "1875                 0                 0.0          0.0                  0   \n",
       "1876                 0                 0.0          0.0                  0   \n",
       "1877                 0                 0.0          0.0                  0   \n",
       "1878                 0                 0.0          0.0                  0   \n",
       "\n",
       "     neighbor_botA     pstk codegroup  \n",
       "0                0   512056    512044  \n",
       "1                0   512056    512044  \n",
       "2                1   512066    512044  \n",
       "3                1   512066    512044  \n",
       "4                0   512066    512044  \n",
       "...            ...      ...       ...  \n",
       "1874             0  4908271    490859  \n",
       "1875             0  4908271    490859  \n",
       "1876             0  4908271    490859  \n",
       "1877             0  4908271    490859  \n",
       "1878             0  1958212   1958611  \n",
       "\n",
       "[1879 rows x 342 columns]"
      ]
     },
     "execution_count": 4,
     "metadata": {},
     "output_type": "execute_result"
    }
   ],
   "source": [
    "import pandas as pd\n",
    "import statsmodels.formula.api as sm\n",
    "\n",
    "lotto = pd.read_stata('../data/FinalAnon.dta')\n",
    "lotto"
   ]
  },
  {
   "cell_type": "code",
   "execution_count": 5,
   "metadata": {
    "colab": {
     "base_uri": "https://localhost:8080/",
     "height": 452
    },
    "id": "fc5zeUMFmpnQ",
    "outputId": "b42042cb-e7e3-4704-eb47-f4a3db6ad544"
   },
   "outputs": [
    {
     "data": {
      "text/html": [
       "<table class=\"simpletable\">\n",
       "<caption>OLS Regression Results</caption>\n",
       "<tr>\n",
       "  <th>Dep. Variable:</th>    <td>durable_spending</td> <th>  R-squared:         </th> <td>   0.000</td> \n",
       "</tr>\n",
       "<tr>\n",
       "  <th>Model:</th>                   <td>OLS</td>       <th>  Adj. R-squared:    </th> <td>  -0.000</td> \n",
       "</tr>\n",
       "<tr>\n",
       "  <th>Method:</th>             <td>Least Squares</td>  <th>  F-statistic:       </th> <td>  0.4357</td> \n",
       "</tr>\n",
       "<tr>\n",
       "  <th>Date:</th>             <td>Sun, 22 Dec 2024</td> <th>  Prob (F-statistic):</th>  <td> 0.510</td>  \n",
       "</tr>\n",
       "<tr>\n",
       "  <th>Time:</th>                 <td>19:02:12</td>     <th>  Log-Likelihood:    </th> <td> -18342.</td> \n",
       "</tr>\n",
       "<tr>\n",
       "  <th>No. Observations:</th>      <td>  1879</td>      <th>  AIC:               </th> <td>3.669e+04</td>\n",
       "</tr>\n",
       "<tr>\n",
       "  <th>Df Residuals:</th>          <td>  1877</td>      <th>  BIC:               </th> <td>3.670e+04</td>\n",
       "</tr>\n",
       "<tr>\n",
       "  <th>Df Model:</th>              <td>     1</td>      <th>                     </th>     <td> </td>    \n",
       "</tr>\n",
       "<tr>\n",
       "  <th>Covariance Type:</th>       <td>cluster</td>     <th>                     </th>     <td> </td>    \n",
       "</tr>\n",
       "</table>\n",
       "<table class=\"simpletable\">\n",
       "<tr>\n",
       "      <td></td>         <th>coef</th>     <th>std err</th>      <th>z</th>      <th>P>|z|</th>  <th>[0.025</th>    <th>0.975]</th>  \n",
       "</tr>\n",
       "<tr>\n",
       "  <th>Intercept</th> <td>  768.2129</td> <td>  138.482</td> <td>    5.547</td> <td> 0.000</td> <td>  496.792</td> <td> 1039.633</td>\n",
       "</tr>\n",
       "<tr>\n",
       "  <th>win_code</th>  <td>  119.0228</td> <td>  180.316</td> <td>    0.660</td> <td> 0.509</td> <td> -234.390</td> <td>  472.436</td>\n",
       "</tr>\n",
       "</table>\n",
       "<table class=\"simpletable\">\n",
       "<tr>\n",
       "  <th>Omnibus:</th>       <td>4215.181</td> <th>  Durbin-Watson:     </th>   <td>   2.004</td>  \n",
       "</tr>\n",
       "<tr>\n",
       "  <th>Prob(Omnibus):</th>  <td> 0.000</td>  <th>  Jarque-Bera (JB):  </th> <td>28242902.362</td>\n",
       "</tr>\n",
       "<tr>\n",
       "  <th>Skew:</th>           <td>20.149</td>  <th>  Prob(JB):          </th>   <td>    0.00</td>  \n",
       "</tr>\n",
       "<tr>\n",
       "  <th>Kurtosis:</th>       <td>602.263</td> <th>  Cond. No.          </th>   <td>    2.43</td>  \n",
       "</tr>\n",
       "</table><br/><br/>Notes:<br/>[1] Standard Errors are robust to cluster correlation (cluster)"
      ],
      "text/latex": [
       "\\begin{center}\n",
       "\\begin{tabular}{lclc}\n",
       "\\toprule\n",
       "\\textbf{Dep. Variable:}    & durable\\_spending & \\textbf{  R-squared:         } &      0.000    \\\\\n",
       "\\textbf{Model:}            &        OLS        & \\textbf{  Adj. R-squared:    } &     -0.000    \\\\\n",
       "\\textbf{Method:}           &   Least Squares   & \\textbf{  F-statistic:       } &     0.4357    \\\\\n",
       "\\textbf{Date:}             &  Sun, 22 Dec 2024 & \\textbf{  Prob (F-statistic):} &     0.510     \\\\\n",
       "\\textbf{Time:}             &      19:02:12     & \\textbf{  Log-Likelihood:    } &    -18342.    \\\\\n",
       "\\textbf{No. Observations:} &         1879      & \\textbf{  AIC:               } &  3.669e+04    \\\\\n",
       "\\textbf{Df Residuals:}     &         1877      & \\textbf{  BIC:               } &  3.670e+04    \\\\\n",
       "\\textbf{Df Model:}         &            1      & \\textbf{                     } &               \\\\\n",
       "\\textbf{Covariance Type:}  &      cluster      & \\textbf{                     } &               \\\\\n",
       "\\bottomrule\n",
       "\\end{tabular}\n",
       "\\begin{tabular}{lcccccc}\n",
       "                   & \\textbf{coef} & \\textbf{std err} & \\textbf{z} & \\textbf{P$> |$z$|$} & \\textbf{[0.025} & \\textbf{0.975]}  \\\\\n",
       "\\midrule\n",
       "\\textbf{Intercept} &     768.2129  &      138.482     &     5.547  &         0.000        &      496.792    &     1039.633     \\\\\n",
       "\\textbf{win\\_code} &     119.0228  &      180.316     &     0.660  &         0.509        &     -234.390    &      472.436     \\\\\n",
       "\\bottomrule\n",
       "\\end{tabular}\n",
       "\\begin{tabular}{lclc}\n",
       "\\textbf{Omnibus:}       & 4215.181 & \\textbf{  Durbin-Watson:     } &      2.004    \\\\\n",
       "\\textbf{Prob(Omnibus):} &   0.000  & \\textbf{  Jarque-Bera (JB):  } & 28242902.362  \\\\\n",
       "\\textbf{Skew:}          &  20.149  & \\textbf{  Prob(JB):          } &       0.00    \\\\\n",
       "\\textbf{Kurtosis:}      & 602.263  & \\textbf{  Cond. No.          } &       2.43    \\\\\n",
       "\\bottomrule\n",
       "\\end{tabular}\n",
       "%\\caption{OLS Regression Results}\n",
       "\\end{center}\n",
       "\n",
       "Notes: \\newline\n",
       " [1] Standard Errors are robust to cluster correlation (cluster)"
      ],
      "text/plain": [
       "<class 'statsmodels.iolib.summary.Summary'>\n",
       "\"\"\"\n",
       "                            OLS Regression Results                            \n",
       "==============================================================================\n",
       "Dep. Variable:       durable_spending   R-squared:                       0.000\n",
       "Model:                            OLS   Adj. R-squared:                 -0.000\n",
       "Method:                 Least Squares   F-statistic:                    0.4357\n",
       "Date:                Sun, 22 Dec 2024   Prob (F-statistic):              0.510\n",
       "Time:                        19:02:12   Log-Likelihood:                -18342.\n",
       "No. Observations:                1879   AIC:                         3.669e+04\n",
       "Df Residuals:                    1877   BIC:                         3.670e+04\n",
       "Df Model:                           1                                         \n",
       "Covariance Type:              cluster                                         \n",
       "==============================================================================\n",
       "                 coef    std err          z      P>|z|      [0.025      0.975]\n",
       "------------------------------------------------------------------------------\n",
       "Intercept    768.2129    138.482      5.547      0.000     496.792    1039.633\n",
       "win_code     119.0228    180.316      0.660      0.509    -234.390     472.436\n",
       "==============================================================================\n",
       "Omnibus:                     4215.181   Durbin-Watson:                   2.004\n",
       "Prob(Omnibus):                  0.000   Jarque-Bera (JB):         28242902.362\n",
       "Skew:                          20.149   Prob(JB):                         0.00\n",
       "Kurtosis:                     602.263   Cond. No.                         2.43\n",
       "==============================================================================\n",
       "\n",
       "Notes:\n",
       "[1] Standard Errors are robust to cluster correlation (cluster)\n",
       "\"\"\""
      ]
     },
     "execution_count": 5,
     "metadata": {},
     "output_type": "execute_result"
    }
   ],
   "source": [
    "dur_est=sm.ols(formula='durable_spending~win_code',\n",
    "data=lotto).fit(cov_type = 'cluster',\n",
    "cov_kwds={'groups': lotto['pstk']})\n",
    "dur_est.summary()"
   ]
  },
  {
   "cell_type": "markdown",
   "metadata": {
    "id": "yCBOQmSrgg62"
   },
   "source": [
    "Since you will need to agree to the data terms for using the real dataset, we will replicate a simplified version of it here through simulated data."
   ]
  },
  {
   "cell_type": "code",
   "execution_count": 6,
   "metadata": {
    "colab": {
     "base_uri": "https://localhost:8080/",
     "height": 424
    },
    "id": "7TO1uJ6JnWiT",
    "outputId": "413a919c-9392-4f53-e632-cc76b97521be"
   },
   "outputs": [
    {
     "data": {
      "text/html": [
       "<div>\n",
       "<style scoped>\n",
       "    .dataframe tbody tr th:only-of-type {\n",
       "        vertical-align: middle;\n",
       "    }\n",
       "\n",
       "    .dataframe tbody tr th {\n",
       "        vertical-align: top;\n",
       "    }\n",
       "\n",
       "    .dataframe thead th {\n",
       "        text-align: right;\n",
       "    }\n",
       "</style>\n",
       "<table border=\"1\" class=\"dataframe\">\n",
       "  <thead>\n",
       "    <tr style=\"text-align: right;\">\n",
       "      <th></th>\n",
       "      <th>postcode</th>\n",
       "      <th>lottery</th>\n",
       "      <th>spending</th>\n",
       "    </tr>\n",
       "  </thead>\n",
       "  <tbody>\n",
       "    <tr>\n",
       "      <th>0</th>\n",
       "      <td>1</td>\n",
       "      <td>0</td>\n",
       "      <td>390.602612</td>\n",
       "    </tr>\n",
       "    <tr>\n",
       "      <th>1</th>\n",
       "      <td>42</td>\n",
       "      <td>0</td>\n",
       "      <td>121.182831</td>\n",
       "    </tr>\n",
       "    <tr>\n",
       "      <th>2</th>\n",
       "      <td>1</td>\n",
       "      <td>0</td>\n",
       "      <td>564.648987</td>\n",
       "    </tr>\n",
       "    <tr>\n",
       "      <th>3</th>\n",
       "      <td>34</td>\n",
       "      <td>0</td>\n",
       "      <td>1497.473539</td>\n",
       "    </tr>\n",
       "    <tr>\n",
       "      <th>4</th>\n",
       "      <td>37</td>\n",
       "      <td>0</td>\n",
       "      <td>313.040010</td>\n",
       "    </tr>\n",
       "    <tr>\n",
       "      <th>...</th>\n",
       "      <td>...</td>\n",
       "      <td>...</td>\n",
       "      <td>...</td>\n",
       "    </tr>\n",
       "    <tr>\n",
       "      <th>995</th>\n",
       "      <td>34</td>\n",
       "      <td>0</td>\n",
       "      <td>486.917288</td>\n",
       "    </tr>\n",
       "    <tr>\n",
       "      <th>996</th>\n",
       "      <td>2</td>\n",
       "      <td>0</td>\n",
       "      <td>1179.313425</td>\n",
       "    </tr>\n",
       "    <tr>\n",
       "      <th>997</th>\n",
       "      <td>13</td>\n",
       "      <td>0</td>\n",
       "      <td>1613.079625</td>\n",
       "    </tr>\n",
       "    <tr>\n",
       "      <th>998</th>\n",
       "      <td>28</td>\n",
       "      <td>0</td>\n",
       "      <td>331.047279</td>\n",
       "    </tr>\n",
       "    <tr>\n",
       "      <th>999</th>\n",
       "      <td>18</td>\n",
       "      <td>0</td>\n",
       "      <td>882.604579</td>\n",
       "    </tr>\n",
       "  </tbody>\n",
       "</table>\n",
       "<p>1000 rows × 3 columns</p>\n",
       "</div>"
      ],
      "text/plain": [
       "     postcode  lottery     spending\n",
       "0           1        0   390.602612\n",
       "1          42        0   121.182831\n",
       "2           1        0   564.648987\n",
       "3          34        0  1497.473539\n",
       "4          37        0   313.040010\n",
       "..        ...      ...          ...\n",
       "995        34        0   486.917288\n",
       "996         2        0  1179.313425\n",
       "997        13        0  1613.079625\n",
       "998        28        0   331.047279\n",
       "999        18        0   882.604579\n",
       "\n",
       "[1000 rows x 3 columns]"
      ]
     },
     "execution_count": 6,
     "metadata": {},
     "output_type": "execute_result"
    }
   ],
   "source": [
    "# simulating the Dutch Postcode Lottery example\n",
    "np.random.seed(201)\n",
    "N = 1000\n",
    "\n",
    "postcode = np.random.randint(1, 50, N)\n",
    "# select 10 random postcodes to be past winners\n",
    "winners = np.random.choice(postcode, 10, replace=False)\n",
    "lottery = np.isin(postcode, winners).astype(int)\n",
    "data = pd.DataFrame({\n",
    "    'postcode': postcode,\n",
    "    'lottery': lottery,\n",
    "    'spending': np.abs(np.random.normal(1000, 500, N))\n",
    "})\n",
    "\n",
    "# lottery winners spend more - causal effect\n",
    "data.loc[data['lottery'] == 1, 'spending'] += 600\n",
    "\n",
    "data"
   ]
  },
  {
   "cell_type": "markdown",
   "metadata": {
    "id": "9wAnVIF_4G_T"
   },
   "source": [
    "Now, we have learned two methods for estimating the effects after identifying the causal parameters."
   ]
  },
  {
   "cell_type": "code",
   "execution_count": 7,
   "metadata": {
    "colab": {
     "base_uri": "https://localhost:8080/"
    },
    "id": "HlcwmsIj3Iaf",
    "outputId": "980649dc-7e96-47cc-ec69-13efaf0d0acf"
   },
   "outputs": [
    {
     "name": "stdout",
     "output_type": "stream",
     "text": [
      "ATE through conditional expectations: 626.7861219199798\n"
     ]
    }
   ],
   "source": [
    "# ATE through conditional expectations\n",
    "ATE_spending = data[data['lottery'] == 1]['spending'].mean() - data[data['lottery'] == 0]['spending'].mean()\n",
    "print(f\"ATE through conditional expectations: {ATE_spending}\")"
   ]
  },
  {
   "cell_type": "code",
   "execution_count": 8,
   "metadata": {
    "colab": {
     "base_uri": "https://localhost:8080/",
     "height": 452
    },
    "id": "ahATji97uNeh",
    "outputId": "21e51878-beb8-4bbb-f393-aa01c33c2a2c"
   },
   "outputs": [
    {
     "data": {
      "text/html": [
       "<table class=\"simpletable\">\n",
       "<caption>OLS Regression Results</caption>\n",
       "<tr>\n",
       "  <th>Dep. Variable:</th>        <td>spending</td>     <th>  R-squared:         </th> <td>   0.217</td> \n",
       "</tr>\n",
       "<tr>\n",
       "  <th>Model:</th>                   <td>OLS</td>       <th>  Adj. R-squared:    </th> <td>   0.216</td> \n",
       "</tr>\n",
       "<tr>\n",
       "  <th>Method:</th>             <td>Least Squares</td>  <th>  F-statistic:       </th> <td>   276.1</td> \n",
       "</tr>\n",
       "<tr>\n",
       "  <th>Date:</th>             <td>Sun, 22 Dec 2024</td> <th>  Prob (F-statistic):</th> <td>6.45e-55</td> \n",
       "</tr>\n",
       "<tr>\n",
       "  <th>Time:</th>                 <td>19:02:12</td>     <th>  Log-Likelihood:    </th> <td> -7591.4</td> \n",
       "</tr>\n",
       "<tr>\n",
       "  <th>No. Observations:</th>      <td>  1000</td>      <th>  AIC:               </th> <td>1.519e+04</td>\n",
       "</tr>\n",
       "<tr>\n",
       "  <th>Df Residuals:</th>          <td>   998</td>      <th>  BIC:               </th> <td>1.520e+04</td>\n",
       "</tr>\n",
       "<tr>\n",
       "  <th>Df Model:</th>              <td>     1</td>      <th>                     </th>     <td> </td>    \n",
       "</tr>\n",
       "<tr>\n",
       "  <th>Covariance Type:</th>      <td>nonrobust</td>    <th>                     </th>     <td> </td>    \n",
       "</tr>\n",
       "</table>\n",
       "<table class=\"simpletable\">\n",
       "<tr>\n",
       "      <td></td>         <th>coef</th>     <th>std err</th>      <th>t</th>      <th>P>|t|</th>  <th>[0.025</th>    <th>0.975]</th>  \n",
       "</tr>\n",
       "<tr>\n",
       "  <th>Intercept</th> <td> 1022.4238</td> <td>   16.997</td> <td>   60.154</td> <td> 0.000</td> <td>  989.070</td> <td> 1055.777</td>\n",
       "</tr>\n",
       "<tr>\n",
       "  <th>lottery</th>   <td>  626.7861</td> <td>   37.724</td> <td>   16.615</td> <td> 0.000</td> <td>  552.759</td> <td>  700.814</td>\n",
       "</tr>\n",
       "</table>\n",
       "<table class=\"simpletable\">\n",
       "<tr>\n",
       "  <th>Omnibus:</th>       <td> 9.492</td> <th>  Durbin-Watson:     </th> <td>   1.942</td>\n",
       "</tr>\n",
       "<tr>\n",
       "  <th>Prob(Omnibus):</th> <td> 0.009</td> <th>  Jarque-Bera (JB):  </th> <td>   9.379</td>\n",
       "</tr>\n",
       "<tr>\n",
       "  <th>Skew:</th>          <td> 0.213</td> <th>  Prob(JB):          </th> <td> 0.00919</td>\n",
       "</tr>\n",
       "<tr>\n",
       "  <th>Kurtosis:</th>      <td> 2.790</td> <th>  Cond. No.          </th> <td>    2.61</td>\n",
       "</tr>\n",
       "</table><br/><br/>Notes:<br/>[1] Standard Errors assume that the covariance matrix of the errors is correctly specified."
      ],
      "text/latex": [
       "\\begin{center}\n",
       "\\begin{tabular}{lclc}\n",
       "\\toprule\n",
       "\\textbf{Dep. Variable:}    &     spending     & \\textbf{  R-squared:         } &     0.217   \\\\\n",
       "\\textbf{Model:}            &       OLS        & \\textbf{  Adj. R-squared:    } &     0.216   \\\\\n",
       "\\textbf{Method:}           &  Least Squares   & \\textbf{  F-statistic:       } &     276.1   \\\\\n",
       "\\textbf{Date:}             & Sun, 22 Dec 2024 & \\textbf{  Prob (F-statistic):} &  6.45e-55   \\\\\n",
       "\\textbf{Time:}             &     19:02:12     & \\textbf{  Log-Likelihood:    } &   -7591.4   \\\\\n",
       "\\textbf{No. Observations:} &        1000      & \\textbf{  AIC:               } & 1.519e+04   \\\\\n",
       "\\textbf{Df Residuals:}     &         998      & \\textbf{  BIC:               } & 1.520e+04   \\\\\n",
       "\\textbf{Df Model:}         &           1      & \\textbf{                     } &             \\\\\n",
       "\\textbf{Covariance Type:}  &    nonrobust     & \\textbf{                     } &             \\\\\n",
       "\\bottomrule\n",
       "\\end{tabular}\n",
       "\\begin{tabular}{lcccccc}\n",
       "                   & \\textbf{coef} & \\textbf{std err} & \\textbf{t} & \\textbf{P$> |$t$|$} & \\textbf{[0.025} & \\textbf{0.975]}  \\\\\n",
       "\\midrule\n",
       "\\textbf{Intercept} &    1022.4238  &       16.997     &    60.154  &         0.000        &      989.070    &     1055.777     \\\\\n",
       "\\textbf{lottery}   &     626.7861  &       37.724     &    16.615  &         0.000        &      552.759    &      700.814     \\\\\n",
       "\\bottomrule\n",
       "\\end{tabular}\n",
       "\\begin{tabular}{lclc}\n",
       "\\textbf{Omnibus:}       &  9.492 & \\textbf{  Durbin-Watson:     } &    1.942  \\\\\n",
       "\\textbf{Prob(Omnibus):} &  0.009 & \\textbf{  Jarque-Bera (JB):  } &    9.379  \\\\\n",
       "\\textbf{Skew:}          &  0.213 & \\textbf{  Prob(JB):          } &  0.00919  \\\\\n",
       "\\textbf{Kurtosis:}      &  2.790 & \\textbf{  Cond. No.          } &     2.61  \\\\\n",
       "\\bottomrule\n",
       "\\end{tabular}\n",
       "%\\caption{OLS Regression Results}\n",
       "\\end{center}\n",
       "\n",
       "Notes: \\newline\n",
       " [1] Standard Errors assume that the covariance matrix of the errors is correctly specified."
      ],
      "text/plain": [
       "<class 'statsmodels.iolib.summary.Summary'>\n",
       "\"\"\"\n",
       "                            OLS Regression Results                            \n",
       "==============================================================================\n",
       "Dep. Variable:               spending   R-squared:                       0.217\n",
       "Model:                            OLS   Adj. R-squared:                  0.216\n",
       "Method:                 Least Squares   F-statistic:                     276.1\n",
       "Date:                Sun, 22 Dec 2024   Prob (F-statistic):           6.45e-55\n",
       "Time:                        19:02:12   Log-Likelihood:                -7591.4\n",
       "No. Observations:                1000   AIC:                         1.519e+04\n",
       "Df Residuals:                     998   BIC:                         1.520e+04\n",
       "Df Model:                           1                                         \n",
       "Covariance Type:            nonrobust                                         \n",
       "==============================================================================\n",
       "                 coef    std err          t      P>|t|      [0.025      0.975]\n",
       "------------------------------------------------------------------------------\n",
       "Intercept   1022.4238     16.997     60.154      0.000     989.070    1055.777\n",
       "lottery      626.7861     37.724     16.615      0.000     552.759     700.814\n",
       "==============================================================================\n",
       "Omnibus:                        9.492   Durbin-Watson:                   1.942\n",
       "Prob(Omnibus):                  0.009   Jarque-Bera (JB):                9.379\n",
       "Skew:                           0.213   Prob(JB):                      0.00919\n",
       "Kurtosis:                       2.790   Cond. No.                         2.61\n",
       "==============================================================================\n",
       "\n",
       "Notes:\n",
       "[1] Standard Errors assume that the covariance matrix of the errors is correctly specified.\n",
       "\"\"\""
      ]
     },
     "execution_count": 8,
     "metadata": {},
     "output_type": "execute_result"
    }
   ],
   "source": [
    "# regress spending on winning\n",
    "import statsmodels.formula.api as sm\n",
    "model = sm.ols(formula='spending ~ lottery', data=data)\n",
    "results = model.fit()\n",
    "\n",
    "results.summary()"
   ]
  },
  {
   "cell_type": "code",
   "execution_count": 9,
   "metadata": {
    "colab": {
     "base_uri": "https://localhost:8080/",
     "height": 452
    },
    "id": "BPXbXhS_uxey",
    "outputId": "93ff4cde-2db0-4ff3-9414-52c4c0e3c119"
   },
   "outputs": [
    {
     "data": {
      "text/html": [
       "<table class=\"simpletable\">\n",
       "<caption>OLS Regression Results</caption>\n",
       "<tr>\n",
       "  <th>Dep. Variable:</th>        <td>spending</td>     <th>  R-squared:         </th> <td>   0.217</td> \n",
       "</tr>\n",
       "<tr>\n",
       "  <th>Model:</th>                   <td>OLS</td>       <th>  Adj. R-squared:    </th> <td>   0.216</td> \n",
       "</tr>\n",
       "<tr>\n",
       "  <th>Method:</th>             <td>Least Squares</td>  <th>  F-statistic:       </th> <td>   433.5</td> \n",
       "</tr>\n",
       "<tr>\n",
       "  <th>Date:</th>             <td>Sun, 22 Dec 2024</td> <th>  Prob (F-statistic):</th> <td>1.12e-25</td> \n",
       "</tr>\n",
       "<tr>\n",
       "  <th>Time:</th>                 <td>19:02:12</td>     <th>  Log-Likelihood:    </th> <td> -7591.4</td> \n",
       "</tr>\n",
       "<tr>\n",
       "  <th>No. Observations:</th>      <td>  1000</td>      <th>  AIC:               </th> <td>1.519e+04</td>\n",
       "</tr>\n",
       "<tr>\n",
       "  <th>Df Residuals:</th>          <td>   998</td>      <th>  BIC:               </th> <td>1.520e+04</td>\n",
       "</tr>\n",
       "<tr>\n",
       "  <th>Df Model:</th>              <td>     1</td>      <th>                     </th>     <td> </td>    \n",
       "</tr>\n",
       "<tr>\n",
       "  <th>Covariance Type:</th>       <td>cluster</td>     <th>                     </th>     <td> </td>    \n",
       "</tr>\n",
       "</table>\n",
       "<table class=\"simpletable\">\n",
       "<tr>\n",
       "      <td></td>         <th>coef</th>     <th>std err</th>      <th>z</th>      <th>P>|z|</th>  <th>[0.025</th>    <th>0.975]</th>  \n",
       "</tr>\n",
       "<tr>\n",
       "  <th>Intercept</th> <td> 1022.4238</td> <td>   15.953</td> <td>   64.092</td> <td> 0.000</td> <td>  991.157</td> <td> 1053.690</td>\n",
       "</tr>\n",
       "<tr>\n",
       "  <th>lottery</th>   <td>  626.7861</td> <td>   30.105</td> <td>   20.820</td> <td> 0.000</td> <td>  567.782</td> <td>  685.790</td>\n",
       "</tr>\n",
       "</table>\n",
       "<table class=\"simpletable\">\n",
       "<tr>\n",
       "  <th>Omnibus:</th>       <td> 9.492</td> <th>  Durbin-Watson:     </th> <td>   1.942</td>\n",
       "</tr>\n",
       "<tr>\n",
       "  <th>Prob(Omnibus):</th> <td> 0.009</td> <th>  Jarque-Bera (JB):  </th> <td>   9.379</td>\n",
       "</tr>\n",
       "<tr>\n",
       "  <th>Skew:</th>          <td> 0.213</td> <th>  Prob(JB):          </th> <td> 0.00919</td>\n",
       "</tr>\n",
       "<tr>\n",
       "  <th>Kurtosis:</th>      <td> 2.790</td> <th>  Cond. No.          </th> <td>    2.61</td>\n",
       "</tr>\n",
       "</table><br/><br/>Notes:<br/>[1] Standard Errors are robust to cluster correlation (cluster)"
      ],
      "text/latex": [
       "\\begin{center}\n",
       "\\begin{tabular}{lclc}\n",
       "\\toprule\n",
       "\\textbf{Dep. Variable:}    &     spending     & \\textbf{  R-squared:         } &     0.217   \\\\\n",
       "\\textbf{Model:}            &       OLS        & \\textbf{  Adj. R-squared:    } &     0.216   \\\\\n",
       "\\textbf{Method:}           &  Least Squares   & \\textbf{  F-statistic:       } &     433.5   \\\\\n",
       "\\textbf{Date:}             & Sun, 22 Dec 2024 & \\textbf{  Prob (F-statistic):} &  1.12e-25   \\\\\n",
       "\\textbf{Time:}             &     19:02:12     & \\textbf{  Log-Likelihood:    } &   -7591.4   \\\\\n",
       "\\textbf{No. Observations:} &        1000      & \\textbf{  AIC:               } & 1.519e+04   \\\\\n",
       "\\textbf{Df Residuals:}     &         998      & \\textbf{  BIC:               } & 1.520e+04   \\\\\n",
       "\\textbf{Df Model:}         &           1      & \\textbf{                     } &             \\\\\n",
       "\\textbf{Covariance Type:}  &     cluster      & \\textbf{                     } &             \\\\\n",
       "\\bottomrule\n",
       "\\end{tabular}\n",
       "\\begin{tabular}{lcccccc}\n",
       "                   & \\textbf{coef} & \\textbf{std err} & \\textbf{z} & \\textbf{P$> |$z$|$} & \\textbf{[0.025} & \\textbf{0.975]}  \\\\\n",
       "\\midrule\n",
       "\\textbf{Intercept} &    1022.4238  &       15.953     &    64.092  &         0.000        &      991.157    &     1053.690     \\\\\n",
       "\\textbf{lottery}   &     626.7861  &       30.105     &    20.820  &         0.000        &      567.782    &      685.790     \\\\\n",
       "\\bottomrule\n",
       "\\end{tabular}\n",
       "\\begin{tabular}{lclc}\n",
       "\\textbf{Omnibus:}       &  9.492 & \\textbf{  Durbin-Watson:     } &    1.942  \\\\\n",
       "\\textbf{Prob(Omnibus):} &  0.009 & \\textbf{  Jarque-Bera (JB):  } &    9.379  \\\\\n",
       "\\textbf{Skew:}          &  0.213 & \\textbf{  Prob(JB):          } &  0.00919  \\\\\n",
       "\\textbf{Kurtosis:}      &  2.790 & \\textbf{  Cond. No.          } &     2.61  \\\\\n",
       "\\bottomrule\n",
       "\\end{tabular}\n",
       "%\\caption{OLS Regression Results}\n",
       "\\end{center}\n",
       "\n",
       "Notes: \\newline\n",
       " [1] Standard Errors are robust to cluster correlation (cluster)"
      ],
      "text/plain": [
       "<class 'statsmodels.iolib.summary.Summary'>\n",
       "\"\"\"\n",
       "                            OLS Regression Results                            \n",
       "==============================================================================\n",
       "Dep. Variable:               spending   R-squared:                       0.217\n",
       "Model:                            OLS   Adj. R-squared:                  0.216\n",
       "Method:                 Least Squares   F-statistic:                     433.5\n",
       "Date:                Sun, 22 Dec 2024   Prob (F-statistic):           1.12e-25\n",
       "Time:                        19:02:12   Log-Likelihood:                -7591.4\n",
       "No. Observations:                1000   AIC:                         1.519e+04\n",
       "Df Residuals:                     998   BIC:                         1.520e+04\n",
       "Df Model:                           1                                         \n",
       "Covariance Type:              cluster                                         \n",
       "==============================================================================\n",
       "                 coef    std err          z      P>|z|      [0.025      0.975]\n",
       "------------------------------------------------------------------------------\n",
       "Intercept   1022.4238     15.953     64.092      0.000     991.157    1053.690\n",
       "lottery      626.7861     30.105     20.820      0.000     567.782     685.790\n",
       "==============================================================================\n",
       "Omnibus:                        9.492   Durbin-Watson:                   1.942\n",
       "Prob(Omnibus):                  0.009   Jarque-Bera (JB):                9.379\n",
       "Skew:                           0.213   Prob(JB):                      0.00919\n",
       "Kurtosis:                       2.790   Cond. No.                         2.61\n",
       "==============================================================================\n",
       "\n",
       "Notes:\n",
       "[1] Standard Errors are robust to cluster correlation (cluster)\n",
       "\"\"\""
      ]
     },
     "execution_count": 9,
     "metadata": {},
     "output_type": "execute_result"
    }
   ],
   "source": [
    "# with clustered error\n",
    "model = sm.ols(formula='spending ~ lottery', data=data)\n",
    "results = model.fit(cov_type='cluster', cov_kwds={'groups': data['postcode']})\n",
    "results.summary()"
   ]
  },
  {
   "cell_type": "markdown",
   "metadata": {
    "id": "uZEmDa9jvDlP"
   },
   "source": [
    "We would need to provide evidence for the independence assumptions for the observed characteristics. For the real dataset, this includes demographics, family income... Note: this would only apply to the population who participated in the lottery regularly. If we extend it to the general population, we could see, e.g., very different demographics between these who partipate in lotteries and those who don't.\n",
    "\n",
    "However, this does not eliminate unobserved confounding."
   ]
  },
  {
   "cell_type": "markdown",
   "metadata": {
    "id": "jBtUTVEY86Xj"
   },
   "source": [
    "## Control Variables (Preview) and Review"
   ]
  },
  {
   "cell_type": "markdown",
   "metadata": {
    "id": "hiuNu3Xq9faI"
   },
   "source": [
    "PSA: control variables will not be on the midterm, and we will cover more on it after the midterm."
   ]
  },
  {
   "cell_type": "markdown",
   "metadata": {
    "id": "OhAq2djBZEsX"
   },
   "source": [
    "If the data-generating processes were not naturally randomizing treatment, we can seek to adjust the population in the treatment and control groups.\n",
    "\n",
    "One adjustment method is through controlling or conditioning on other factors $C$ such that\n",
    "\n",
    "\\begin{equation}\n",
    "S \\perp U \\ | \\ C\n",
    "\\end{equation}\n",
    "\n",
    "In this case, we can say that $S$ and $U$ are **conditionally independent** given $C$."
   ]
  },
  {
   "cell_type": "markdown",
   "metadata": {
    "id": "OLqLFs0KbaZZ"
   },
   "source": [
    "### Independence Recap"
   ]
  },
  {
   "cell_type": "markdown",
   "metadata": {
    "id": "hA8j_ZuMjlzj"
   },
   "source": [
    "Independence plays a central role in our arguments for the identification of causal parameters.\n",
    "\n",
    "$$\n",
    "P(X \\in A, Y \\in B) = P(X \\in A)P(Y \\in B)\n",
    "$$\n",
    "\n",
    "Also,\n",
    "\n",
    "$$\n",
    "P(Y|X) = P(Y) \\ \\ \\text{and} \\ \\ P(X|Y) = P(X)\n",
    "$$\n",
    "\n",
    "If two variables are independent, then knowing the value of one variable does not provide additional information about the other.\n",
    "\n",
    "Also, independent variables have a covariance of 0 and are, therefore, uncorrelated.\n",
    "- Proof in lecture slides by showing $E[XY]=E[X]E[Y]$"
   ]
  },
  {
   "cell_type": "markdown",
   "metadata": {
    "id": "gWilxIEw09bW"
   },
   "source": [
    "We've seen that independence implies 0 covariance and uncorrelatedness.\n",
    "\n",
    "However, the converse statement is false. Independence is not necessary for uncorrelatedness."
   ]
  },
  {
   "cell_type": "markdown",
   "metadata": {
    "id": "t4MaCdRzbuUH"
   },
   "source": [
    "### 2.2 Conditional Independence"
   ]
  },
  {
   "cell_type": "markdown",
   "metadata": {
    "id": "jtY7V8wLdsgP"
   },
   "source": [
    "$$\n",
    "P(X \\in A, Y \\in B | Z) = P(X \\in A|Z)P(Y \\in B|Z)\n",
    "$$\n",
    "\n",
    "Also,\n",
    "\n",
    "$$\n",
    "P(Y|X, Z) = P(Y|Z) \\ \\ \\text{and} \\ \\ P(X|Y, Z) = P(X | Z)\n",
    "$$\n",
    "\n",
    "$X$ and $Y$ have no relationship if we account for the value taken by some other variable $Z$. For example, knowing $X$, if we already know $Z$, this does not influence our estimate of $Y$."
   ]
  },
  {
   "cell_type": "code",
   "execution_count": 10,
   "metadata": {
    "colab": {
     "base_uri": "https://localhost:8080/"
    },
    "id": "WG90QRNFn-Zh",
    "outputId": "678fc0a8-5890-4034-e9a9-aa2369ccc4d6"
   },
   "outputs": [
    {
     "name": "stdout",
     "output_type": "stream",
     "text": [
      "Covariance of independent variables: -0.09712712712712736\n",
      "Covariance of dependent variables Y and Z: 25.550829535339417\n",
      "Covariance of dependent variables Y and Z condition on X = 1: -0.16950780028113066\n",
      "Covariance of dependent variables Y and Z condition on X = 2: -0.2008651282600672\n",
      "Covariance of dependent variables Y and Z condition on X = 3: -0.039116306498144265\n",
      "Covariance of dependent variables Y and Z condition on X = 4: 0.12289574759251388\n",
      "Covariance of dependent variables Y and Z condition on X = 5: -0.021864156396484553\n",
      "Covariance of dependent variables Y and Z condition on X = 6: -0.022540072239564873\n",
      "Covariance of dependent variables Y and Z condition on X = 7: -0.051055281115317146\n",
      "Covariance of dependent variables Y and Z condition on X = 8: -0.1343325234297629\n",
      "Covariance of dependent variables Y and Z condition on X = 9: -0.09652086587770842\n"
     ]
    }
   ],
   "source": [
    "# simulate independent random variables\n",
    "np.random.seed(201)\n",
    "X_ind = np.random.randint(1, 7, 1000)  # Roll of die 1\n",
    "Y_ind = np.random.randint(1, 7, 1000)  # Roll of die 2\n",
    "\n",
    "# calculate covariance of independent variables\n",
    "cov_ind = np.cov(X_ind, Y_ind)[0, 1]\n",
    "print(f\"Covariance of independent variables: {cov_ind}\")\n",
    "\n",
    "# simulate dependent variables\n",
    "X_dep = np.random.randint(1, 10, 1000)\n",
    "Y_dep = 2 * X_dep + np.random.normal(0, 1, 1000)\n",
    "Z_dep = 2 * X_dep + np.random.normal(0, 1, 1000)\n",
    "\n",
    "# calculate covariance of dependent variables\n",
    "cov_dep = np.cov(Y_dep, Z_dep)[0, 1]\n",
    "print(f\"Covariance of dependent variables Y and Z: {cov_dep}\")\n",
    "\n",
    "# calculate covariance of dependent variables condition on X\n",
    "for X_value in range(1, 10):\n",
    "  cov_dep = np.cov(Y_dep[X_dep==X_value], Z_dep[X_dep==X_value])[0, 1]\n",
    "  print(f\"Covariance of dependent variables Y and Z condition on X = {X_value}: {cov_dep}\")"
   ]
  },
  {
   "cell_type": "markdown",
   "metadata": {
    "id": "Woa8yYHxpBzL"
   },
   "source": [
    "Graphically, what does conditional independence look like?"
   ]
  },
  {
   "cell_type": "markdown",
   "metadata": {
    "id": "Q9EFZRWkpFmd"
   },
   "source": [
    "![Indep](https://www.researchgate.net/publication/306006513/figure/fig1/AS:393236871958528@1470766384078/Cases-for-d-connectivity-and-d-separation-Black-gray-circles-mean-that-evidence-is.png)"
   ]
  },
  {
   "cell_type": "markdown",
   "metadata": {
    "id": "QLzGx-pVqUOD"
   },
   "source": [
    "For more intuitive examples, feel free to check out https://www.andrew.cmu.edu/user/scheines/tutor/d-sep.html"
   ]
  },
  {
   "cell_type": "markdown",
   "metadata": {
    "id": "YimL96iRjXmf"
   },
   "source": [
    "### Revisiting -  Revisiting All Causes Model"
   ]
  },
  {
   "cell_type": "markdown",
   "metadata": {
    "id": "Rj603pnafEQO"
   },
   "source": [
    "We have actually covered control variables in Lab 3 if you remember.\n",
    "\n",
    "Let's review some old concepts and revisit the example again with our new knowledge on regression and experiments."
   ]
  },
  {
   "cell_type": "markdown",
   "metadata": {
    "id": "mgHZKqv-jasX"
   },
   "source": [
    "#### Definition\n",
    "\n",
    "All causes model:\n",
    "\n",
    "$$Y(S, U)$$\n",
    "\n",
    "where $Y$ is the outcome, $S$ is the state of the world, and $U$ is other factors we observe that influence $Y$.\n",
    "\n",
    "Also, for simplicity, consider $S$ as a binary treatment variable (0 or 1).\n",
    "\n",
    "Causal quantities of interest:\n",
    "\n",
    "$$\n",
    "\\begin{align}\n",
    "\\text{ATE} &= E[Y(S=1, U) - Y(S=0, U)]\\\\\n",
    "\\text{ATT} &= E[Y(S=1, U) - Y(S=0, U)|S=1]\\\\\n",
    "\\text{ATU} &= E[Y(S=1, U) - Y(S=0, U)|S=0]\n",
    "\\end{align}\n",
    "$$\n",
    "\n",
    "**Fundamental problem of causal inference**: we only get to see one of $Y(S=1, U)$ and $Y(S=0, U)$.\n",
    "\n",
    "Identification is the process where we reduce these equations involving unobserved variables to observed data."
   ]
  },
  {
   "cell_type": "markdown",
   "metadata": {
    "id": "m3S9uTpDgtTg"
   },
   "source": [
    "####  Simulation\n",
    "\n",
    "Using the old example, we will show how computing only association based on observational data does not give us the true underlying causal effect, and how *control variables* can help us identify these parameters.\n",
    "\n",
    "- $Y$ is continuous income.\n",
    "- $S$ is binary college status. (1 = went to college)\n",
    "- $U$ is binary family status. (1 = wealthy family)\n",
    "\n",
    "We can see that the true causal effect from college status to income of people will be confounded by the third variable on family status as it is a common cause of both the treatment and outcome, i.e., a wealthy family leads to higher income and more likely to go to college."
   ]
  },
  {
   "cell_type": "code",
   "execution_count": 11,
   "metadata": {
    "colab": {
     "base_uri": "https://localhost:8080/",
     "height": 516
    },
    "id": "uDMmaTt7Gj4a",
    "outputId": "64f3b732-3a64-41f4-9310-40c00bab70e1"
   },
   "outputs": [
    {
     "data": {
      "image/png": "[encoded data removed]",
      "text/plain": [
       "<Figure size 640x480 with 1 Axes>"
      ]
     },
     "metadata": {},
     "output_type": "display_data"
    }
   ],
   "source": [
    "import networkx as nx\n",
    "import matplotlib.pyplot as plt\n",
    "\n",
    "\n",
    "# Create a directed graph\n",
    "G = nx.DiGraph()\n",
    "\n",
    "# Add nodes\n",
    "G.add_node(\"Family Status (U)\")\n",
    "G.add_node(\"College (S)\")\n",
    "G.add_node(\"Income (Y)\")\n",
    "\n",
    "# Add directed edges representing causal relationships\n",
    "G.add_edge(\"Family Status (U)\", \"College (S)\")\n",
    "G.add_edge(\"Family Status (U)\", \"Income (Y)\")\n",
    "G.add_edge(\"College (S)\", \"Income (Y)\")\n",
    "\n",
    "# Draw the graph\n",
    "pos = {\n",
    "    \"Family Status (U)\": (0, 1),\n",
    "    \"College (S)\": (-1, 0),\n",
    "    \"Income (Y)\": (1, 0),\n",
    "}\n",
    "\n",
    "labels = {\n",
    "    (\"Family Status (U)\", \"College (S)\"): \"Positive\",\n",
    "    (\"Family Status (U)\", \"Income (Y)\"): \"Positive\",\n",
    "    (\"College (S)\", \"Income (Y)\"): \"Positive\",\n",
    "}\n",
    "\n",
    "nx.draw(G, pos, with_labels=True, node_size=3000, node_color=\"lightblue\", font_size=10, font_weight=\"bold\", arrows=True)\n",
    "nx.draw_networkx_edge_labels(G, pos, edge_labels=labels, font_color=\"red\")\n",
    "plt.show()"
   ]
  },
  {
   "cell_type": "markdown",
   "metadata": {
    "id": "SXBXgmUlGnG1"
   },
   "source": [
    "Now, let's generate some sythetic data corresponding to this data generative process."
   ]
  },
  {
   "cell_type": "code",
   "execution_count": 12,
   "metadata": {
    "id": "BtLezqmUHVMP"
   },
   "outputs": [],
   "source": [
    "# Step 1: Simulate family status (rich=1, poor=0)\n",
    "np.random.seed(42)\n",
    "n = 1000\n",
    "family_status = np.random.binomial(1, 0.4, n)  # 40% rich, 60% poor\n",
    "\n",
    "# Step 2: Simulate college attendance based on family status (rich more likely to attend college)\n",
    "college = np.random.binomial(1, 0.7 * family_status + 0.3 * (1 - family_status), n)\n",
    "\n",
    "# Step 3: Simulate income based on family status and college attendance\n",
    "\n",
    "noise = np.random.normal(0, 5000, n)  # Noise to add to income\n",
    "income_observe = (50000 + 30000 * college + 20000 * family_status + noise)\n",
    "income_college = (50000 + 30000 * 1 + 20000 * family_status + noise)\n",
    "\n",
    "# For people who went to college (treated group), compared to the untreated,\n",
    "# they would have higher income in the counterfactual world where they did not go to college\n",
    "income_no_college = (50000 + 30000 * 0 + 10000 * college + 20000 * family_status + noise)\n",
    "\n",
    "# Create a DataFrame for clarity\n",
    "df = pd.DataFrame({\n",
    "    'Family_Status': family_status,  # 1 = rich, 0 = poor\n",
    "    'College': college,  # 1 = went to college, 0 = did not go to college\n",
    "    'Income_Observe': income_observe,\n",
    "    'Income_College': income_college,\n",
    "    'Income_No_College': income_no_college\n",
    "})"
   ]
  },
  {
   "cell_type": "markdown",
   "metadata": {
    "id": "98FlSYW8HXx9"
   },
   "source": [
    "We can calculate the true ATE, ATT, and ATU based on the perfect knowledge we have on the observed and conuterfactual outcomes."
   ]
  },
  {
   "cell_type": "code",
   "execution_count": 13,
   "metadata": {
    "colab": {
     "base_uri": "https://localhost:8080/"
    },
    "id": "kKoOVxJZh4-N",
    "outputId": "8a0590e7-bb14-4b96-e65e-0f8a3b6c382c"
   },
   "outputs": [
    {
     "name": "stdout",
     "output_type": "stream",
     "text": [
      "TRUE Average Treatment Effect (ATE): 25560.00\n",
      "TRUE Average Treatment Effect on the Treated (ATT): 20000.00\n",
      "TRUE Average Treatment Effect on the Untreated (ATU): 30000.00\n"
     ]
    }
   ],
   "source": [
    "# Step 4: Compute ATE, ATT, ATU\n",
    "# TRUE ATE:\n",
    "ATE = df['Income_College'].mean() - df['Income_No_College'].mean()\n",
    "\n",
    "# ATT:\n",
    "ATT = df[(df['College'] == 1)]['Income_College'].mean() - df[(df['College'] == 1)]['Income_No_College'].mean()\n",
    "\n",
    "# ATU:\n",
    "ATU = df[(df['College'] == 0)]['Income_College'].mean() - df[(df['College'] == 0)]['Income_No_College'].mean()\n",
    "\n",
    "# Print the results\n",
    "print(f\"TRUE Average Treatment Effect (ATE): {ATE:.2f}\")\n",
    "print(f\"TRUE Average Treatment Effect on the Treated (ATT): {ATT:.2f}\")\n",
    "print(f\"TRUE Average Treatment Effect on the Untreated (ATU): {ATU:.2f}\")"
   ]
  },
  {
   "cell_type": "markdown",
   "metadata": {
    "id": "mKCsEhi_Htox"
   },
   "source": [
    "What happens if we only have access to the observed treatment and outcome with hidden confounding?"
   ]
  },
  {
   "cell_type": "code",
   "execution_count": 14,
   "metadata": {
    "colab": {
     "base_uri": "https://localhost:8080/"
    },
    "id": "MXKRdWD9iEfG",
    "outputId": "3f12282d-0f43-4423-bba1-f7933031cfd7"
   },
   "outputs": [
    {
     "name": "stdout",
     "output_type": "stream",
     "text": [
      "Biased Average Treatment Effect (ATE): 37639.89\n"
     ]
    }
   ],
   "source": [
    "# Step 5: Compute association by conditioning\n",
    "# Biased ATE using only what was obserevd:\n",
    "Association = df[df['College'] == 1]['Income_Observe'].mean() - df[df['College'] == 0]['Income_Observe'].mean()\n",
    "\n",
    "# Print the results\n",
    "print(f\"Biased Average Treatment Effect (ATE): {Association:.2f}\")"
   ]
  },
  {
   "cell_type": "markdown",
   "metadata": {
    "id": "W79c8pZFH266"
   },
   "source": [
    "If we have access to potential confounders, we can condition them. Conditional independence helps us here to establish the assumption."
   ]
  },
  {
   "cell_type": "code",
   "execution_count": 15,
   "metadata": {
    "colab": {
     "base_uri": "https://localhost:8080/"
    },
    "id": "xUZ7hEAJDtqt",
    "outputId": "2c4f31ad-e299-43c8-97c9-1156c3263fe2"
   },
   "outputs": [
    {
     "name": "stdout",
     "output_type": "stream",
     "text": [
      "Association for those with family_status = 1: 30553.75\n",
      "Association for those with family_status = 0: 30308.08\n"
     ]
    }
   ],
   "source": [
    "# Step 6: Condition on confounder - family status\n",
    "\n",
    "Association = df[(df['College'] == 1) & (df['Family_Status'] == 1)]['Income_Observe'].mean() - df[(df['College'] == 0) & (df['Family_Status'] == 1)]['Income_Observe'].mean()\n",
    "\n",
    "# Print the results\n",
    "print(f\"Association for those with family_status = 1: {Association:.2f}\")\n",
    "\n",
    "Association = df[(df['College'] == 1) & (df['Family_Status'] == 0)]['Income_Observe'].mean() - df[(df['College'] == 0) & (df['Family_Status'] == 0)]['Income_Observe'].mean()\n",
    "\n",
    "# Print the results\n",
    "print(f\"Association for those with family_status = 0: {Association:.2f}\")"
   ]
  },
  {
   "cell_type": "markdown",
   "metadata": {
    "id": "gEBhEyXzlvPV"
   },
   "source": [
    "Without adding the confounder to our regression setup, the result is biased similar to the conditional expectation without conditioning on the confounder."
   ]
  },
  {
   "cell_type": "code",
   "execution_count": 16,
   "metadata": {
    "colab": {
     "base_uri": "https://localhost:8080/",
     "height": 452
    },
    "id": "Ow7282Bn4phM",
    "outputId": "056997c0-5c6f-41e8-e358-de2a3519c883"
   },
   "outputs": [
    {
     "data": {
      "text/html": [
       "<table class=\"simpletable\">\n",
       "<caption>OLS Regression Results</caption>\n",
       "<tr>\n",
       "  <th>Dep. Variable:</th>     <td>Income_Observe</td>  <th>  R-squared:         </th> <td>   0.771</td> \n",
       "</tr>\n",
       "<tr>\n",
       "  <th>Model:</th>                   <td>OLS</td>       <th>  Adj. R-squared:    </th> <td>   0.771</td> \n",
       "</tr>\n",
       "<tr>\n",
       "  <th>Method:</th>             <td>Least Squares</td>  <th>  F-statistic:       </th> <td>   3357.</td> \n",
       "</tr>\n",
       "<tr>\n",
       "  <th>Date:</th>             <td>Sun, 22 Dec 2024</td> <th>  Prob (F-statistic):</th> <td>1.55e-321</td>\n",
       "</tr>\n",
       "<tr>\n",
       "  <th>Time:</th>                 <td>19:02:13</td>     <th>  Log-Likelihood:    </th> <td> -10649.</td> \n",
       "</tr>\n",
       "<tr>\n",
       "  <th>No. Observations:</th>      <td>  1000</td>      <th>  AIC:               </th> <td>2.130e+04</td>\n",
       "</tr>\n",
       "<tr>\n",
       "  <th>Df Residuals:</th>          <td>   998</td>      <th>  BIC:               </th> <td>2.131e+04</td>\n",
       "</tr>\n",
       "<tr>\n",
       "  <th>Df Model:</th>              <td>     1</td>      <th>                     </th>     <td> </td>    \n",
       "</tr>\n",
       "<tr>\n",
       "  <th>Covariance Type:</th>      <td>nonrobust</td>    <th>                     </th>     <td> </td>    \n",
       "</tr>\n",
       "</table>\n",
       "<table class=\"simpletable\">\n",
       "<tr>\n",
       "      <td></td>         <th>coef</th>     <th>std err</th>      <th>t</th>      <th>P>|t|</th>  <th>[0.025</th>    <th>0.975]</th>  \n",
       "</tr>\n",
       "<tr>\n",
       "  <th>Intercept</th> <td> 5.441e+04</td> <td>  432.902</td> <td>  125.692</td> <td> 0.000</td> <td> 5.36e+04</td> <td> 5.53e+04</td>\n",
       "</tr>\n",
       "<tr>\n",
       "  <th>College</th>   <td> 3.764e+04</td> <td>  649.679</td> <td>   57.936</td> <td> 0.000</td> <td> 3.64e+04</td> <td> 3.89e+04</td>\n",
       "</tr>\n",
       "</table>\n",
       "<table class=\"simpletable\">\n",
       "<tr>\n",
       "  <th>Omnibus:</th>       <td>72.502</td> <th>  Durbin-Watson:     </th> <td>   1.953</td>\n",
       "</tr>\n",
       "<tr>\n",
       "  <th>Prob(Omnibus):</th> <td> 0.000</td> <th>  Jarque-Bera (JB):  </th> <td>  30.972</td>\n",
       "</tr>\n",
       "<tr>\n",
       "  <th>Skew:</th>          <td> 0.209</td> <th>  Prob(JB):          </th> <td>1.88e-07</td>\n",
       "</tr>\n",
       "<tr>\n",
       "  <th>Kurtosis:</th>      <td> 2.246</td> <th>  Cond. No.          </th> <td>    2.51</td>\n",
       "</tr>\n",
       "</table><br/><br/>Notes:<br/>[1] Standard Errors assume that the covariance matrix of the errors is correctly specified."
      ],
      "text/latex": [
       "\\begin{center}\n",
       "\\begin{tabular}{lclc}\n",
       "\\toprule\n",
       "\\textbf{Dep. Variable:}    & Income\\_Observe  & \\textbf{  R-squared:         } &     0.771   \\\\\n",
       "\\textbf{Model:}            &       OLS        & \\textbf{  Adj. R-squared:    } &     0.771   \\\\\n",
       "\\textbf{Method:}           &  Least Squares   & \\textbf{  F-statistic:       } &     3357.   \\\\\n",
       "\\textbf{Date:}             & Sun, 22 Dec 2024 & \\textbf{  Prob (F-statistic):} & 1.55e-321   \\\\\n",
       "\\textbf{Time:}             &     19:02:13     & \\textbf{  Log-Likelihood:    } &   -10649.   \\\\\n",
       "\\textbf{No. Observations:} &        1000      & \\textbf{  AIC:               } & 2.130e+04   \\\\\n",
       "\\textbf{Df Residuals:}     &         998      & \\textbf{  BIC:               } & 2.131e+04   \\\\\n",
       "\\textbf{Df Model:}         &           1      & \\textbf{                     } &             \\\\\n",
       "\\textbf{Covariance Type:}  &    nonrobust     & \\textbf{                     } &             \\\\\n",
       "\\bottomrule\n",
       "\\end{tabular}\n",
       "\\begin{tabular}{lcccccc}\n",
       "                   & \\textbf{coef} & \\textbf{std err} & \\textbf{t} & \\textbf{P$> |$t$|$} & \\textbf{[0.025} & \\textbf{0.975]}  \\\\\n",
       "\\midrule\n",
       "\\textbf{Intercept} &    5.441e+04  &      432.902     &   125.692  &         0.000        &     5.36e+04    &     5.53e+04     \\\\\n",
       "\\textbf{College}   &    3.764e+04  &      649.679     &    57.936  &         0.000        &     3.64e+04    &     3.89e+04     \\\\\n",
       "\\bottomrule\n",
       "\\end{tabular}\n",
       "\\begin{tabular}{lclc}\n",
       "\\textbf{Omnibus:}       & 72.502 & \\textbf{  Durbin-Watson:     } &    1.953  \\\\\n",
       "\\textbf{Prob(Omnibus):} &  0.000 & \\textbf{  Jarque-Bera (JB):  } &   30.972  \\\\\n",
       "\\textbf{Skew:}          &  0.209 & \\textbf{  Prob(JB):          } & 1.88e-07  \\\\\n",
       "\\textbf{Kurtosis:}      &  2.246 & \\textbf{  Cond. No.          } &     2.51  \\\\\n",
       "\\bottomrule\n",
       "\\end{tabular}\n",
       "%\\caption{OLS Regression Results}\n",
       "\\end{center}\n",
       "\n",
       "Notes: \\newline\n",
       " [1] Standard Errors assume that the covariance matrix of the errors is correctly specified."
      ],
      "text/plain": [
       "<class 'statsmodels.iolib.summary.Summary'>\n",
       "\"\"\"\n",
       "                            OLS Regression Results                            \n",
       "==============================================================================\n",
       "Dep. Variable:         Income_Observe   R-squared:                       0.771\n",
       "Model:                            OLS   Adj. R-squared:                  0.771\n",
       "Method:                 Least Squares   F-statistic:                     3357.\n",
       "Date:                Sun, 22 Dec 2024   Prob (F-statistic):          1.55e-321\n",
       "Time:                        19:02:13   Log-Likelihood:                -10649.\n",
       "No. Observations:                1000   AIC:                         2.130e+04\n",
       "Df Residuals:                     998   BIC:                         2.131e+04\n",
       "Df Model:                           1                                         \n",
       "Covariance Type:            nonrobust                                         \n",
       "==============================================================================\n",
       "                 coef    std err          t      P>|t|      [0.025      0.975]\n",
       "------------------------------------------------------------------------------\n",
       "Intercept   5.441e+04    432.902    125.692      0.000    5.36e+04    5.53e+04\n",
       "College     3.764e+04    649.679     57.936      0.000    3.64e+04    3.89e+04\n",
       "==============================================================================\n",
       "Omnibus:                       72.502   Durbin-Watson:                   1.953\n",
       "Prob(Omnibus):                  0.000   Jarque-Bera (JB):               30.972\n",
       "Skew:                           0.209   Prob(JB):                     1.88e-07\n",
       "Kurtosis:                       2.246   Cond. No.                         2.51\n",
       "==============================================================================\n",
       "\n",
       "Notes:\n",
       "[1] Standard Errors assume that the covariance matrix of the errors is correctly specified.\n",
       "\"\"\""
      ]
     },
     "execution_count": 16,
     "metadata": {},
     "output_type": "execute_result"
    }
   ],
   "source": [
    "import statsmodels.formula.api as sm\n",
    "\n",
    "ols=sm.ols(formula='Income_Observe~College', data=df).fit()\n",
    "ols.summary()"
   ]
  },
  {
   "cell_type": "markdown",
   "metadata": {
    "id": "Lgbxo40KquFD"
   },
   "source": [
    "We can only identify it by adding the confounder to establish conditional independence."
   ]
  },
  {
   "cell_type": "code",
   "execution_count": 17,
   "metadata": {
    "colab": {
     "base_uri": "https://localhost:8080/",
     "height": 473
    },
    "id": "0RHzK9JY5Hzr",
    "outputId": "0996f722-f6bc-44f2-f507-3f5f361603a1"
   },
   "outputs": [
    {
     "data": {
      "text/html": [
       "<table class=\"simpletable\">\n",
       "<caption>OLS Regression Results</caption>\n",
       "<tr>\n",
       "  <th>Dep. Variable:</th>     <td>Income_Observe</td>  <th>  R-squared:         </th> <td>   0.947</td> \n",
       "</tr>\n",
       "<tr>\n",
       "  <th>Model:</th>                   <td>OLS</td>       <th>  Adj. R-squared:    </th> <td>   0.947</td> \n",
       "</tr>\n",
       "<tr>\n",
       "  <th>Method:</th>             <td>Least Squares</td>  <th>  F-statistic:       </th> <td>   8981.</td> \n",
       "</tr>\n",
       "<tr>\n",
       "  <th>Date:</th>             <td>Sun, 22 Dec 2024</td> <th>  Prob (F-statistic):</th>  <td>  0.00</td>  \n",
       "</tr>\n",
       "<tr>\n",
       "  <th>Time:</th>                 <td>19:02:13</td>     <th>  Log-Likelihood:    </th> <td> -9912.8</td> \n",
       "</tr>\n",
       "<tr>\n",
       "  <th>No. Observations:</th>      <td>  1000</td>      <th>  AIC:               </th> <td>1.983e+04</td>\n",
       "</tr>\n",
       "<tr>\n",
       "  <th>Df Residuals:</th>          <td>   997</td>      <th>  BIC:               </th> <td>1.985e+04</td>\n",
       "</tr>\n",
       "<tr>\n",
       "  <th>Df Model:</th>              <td>     2</td>      <th>                     </th>     <td> </td>    \n",
       "</tr>\n",
       "<tr>\n",
       "  <th>Covariance Type:</th>      <td>nonrobust</td>    <th>                     </th>     <td> </td>    \n",
       "</tr>\n",
       "</table>\n",
       "<table class=\"simpletable\">\n",
       "<tr>\n",
       "        <td></td>           <th>coef</th>     <th>std err</th>      <th>t</th>      <th>P>|t|</th>  <th>[0.025</th>    <th>0.975]</th>  \n",
       "</tr>\n",
       "<tr>\n",
       "  <th>Intercept</th>     <td> 4.996e+04</td> <td>  221.278</td> <td>  225.780</td> <td> 0.000</td> <td> 4.95e+04</td> <td> 5.04e+04</td>\n",
       "</tr>\n",
       "<tr>\n",
       "  <th>College</th>       <td> 3.041e+04</td> <td>  335.519</td> <td>   90.623</td> <td> 0.000</td> <td> 2.97e+04</td> <td> 3.11e+04</td>\n",
       "</tr>\n",
       "<tr>\n",
       "  <th>Family_Status</th> <td>  1.98e+04</td> <td>  342.263</td> <td>   57.864</td> <td> 0.000</td> <td> 1.91e+04</td> <td> 2.05e+04</td>\n",
       "</tr>\n",
       "</table>\n",
       "<table class=\"simpletable\">\n",
       "<tr>\n",
       "  <th>Omnibus:</th>       <td> 1.170</td> <th>  Durbin-Watson:     </th> <td>   2.050</td>\n",
       "</tr>\n",
       "<tr>\n",
       "  <th>Prob(Omnibus):</th> <td> 0.557</td> <th>  Jarque-Bera (JB):  </th> <td>   1.054</td>\n",
       "</tr>\n",
       "<tr>\n",
       "  <th>Skew:</th>          <td> 0.025</td> <th>  Prob(JB):          </th> <td>   0.590</td>\n",
       "</tr>\n",
       "<tr>\n",
       "  <th>Kurtosis:</th>      <td> 3.151</td> <th>  Cond. No.          </th> <td>    3.09</td>\n",
       "</tr>\n",
       "</table><br/><br/>Notes:<br/>[1] Standard Errors assume that the covariance matrix of the errors is correctly specified."
      ],
      "text/latex": [
       "\\begin{center}\n",
       "\\begin{tabular}{lclc}\n",
       "\\toprule\n",
       "\\textbf{Dep. Variable:}    & Income\\_Observe  & \\textbf{  R-squared:         } &     0.947   \\\\\n",
       "\\textbf{Model:}            &       OLS        & \\textbf{  Adj. R-squared:    } &     0.947   \\\\\n",
       "\\textbf{Method:}           &  Least Squares   & \\textbf{  F-statistic:       } &     8981.   \\\\\n",
       "\\textbf{Date:}             & Sun, 22 Dec 2024 & \\textbf{  Prob (F-statistic):} &     0.00    \\\\\n",
       "\\textbf{Time:}             &     19:02:13     & \\textbf{  Log-Likelihood:    } &   -9912.8   \\\\\n",
       "\\textbf{No. Observations:} &        1000      & \\textbf{  AIC:               } & 1.983e+04   \\\\\n",
       "\\textbf{Df Residuals:}     &         997      & \\textbf{  BIC:               } & 1.985e+04   \\\\\n",
       "\\textbf{Df Model:}         &           2      & \\textbf{                     } &             \\\\\n",
       "\\textbf{Covariance Type:}  &    nonrobust     & \\textbf{                     } &             \\\\\n",
       "\\bottomrule\n",
       "\\end{tabular}\n",
       "\\begin{tabular}{lcccccc}\n",
       "                        & \\textbf{coef} & \\textbf{std err} & \\textbf{t} & \\textbf{P$> |$t$|$} & \\textbf{[0.025} & \\textbf{0.975]}  \\\\\n",
       "\\midrule\n",
       "\\textbf{Intercept}      &    4.996e+04  &      221.278     &   225.780  &         0.000        &     4.95e+04    &     5.04e+04     \\\\\n",
       "\\textbf{College}        &    3.041e+04  &      335.519     &    90.623  &         0.000        &     2.97e+04    &     3.11e+04     \\\\\n",
       "\\textbf{Family\\_Status} &     1.98e+04  &      342.263     &    57.864  &         0.000        &     1.91e+04    &     2.05e+04     \\\\\n",
       "\\bottomrule\n",
       "\\end{tabular}\n",
       "\\begin{tabular}{lclc}\n",
       "\\textbf{Omnibus:}       &  1.170 & \\textbf{  Durbin-Watson:     } &    2.050  \\\\\n",
       "\\textbf{Prob(Omnibus):} &  0.557 & \\textbf{  Jarque-Bera (JB):  } &    1.054  \\\\\n",
       "\\textbf{Skew:}          &  0.025 & \\textbf{  Prob(JB):          } &    0.590  \\\\\n",
       "\\textbf{Kurtosis:}      &  3.151 & \\textbf{  Cond. No.          } &     3.09  \\\\\n",
       "\\bottomrule\n",
       "\\end{tabular}\n",
       "%\\caption{OLS Regression Results}\n",
       "\\end{center}\n",
       "\n",
       "Notes: \\newline\n",
       " [1] Standard Errors assume that the covariance matrix of the errors is correctly specified."
      ],
      "text/plain": [
       "<class 'statsmodels.iolib.summary.Summary'>\n",
       "\"\"\"\n",
       "                            OLS Regression Results                            \n",
       "==============================================================================\n",
       "Dep. Variable:         Income_Observe   R-squared:                       0.947\n",
       "Model:                            OLS   Adj. R-squared:                  0.947\n",
       "Method:                 Least Squares   F-statistic:                     8981.\n",
       "Date:                Sun, 22 Dec 2024   Prob (F-statistic):               0.00\n",
       "Time:                        19:02:13   Log-Likelihood:                -9912.8\n",
       "No. Observations:                1000   AIC:                         1.983e+04\n",
       "Df Residuals:                     997   BIC:                         1.985e+04\n",
       "Df Model:                           2                                         \n",
       "Covariance Type:            nonrobust                                         \n",
       "=================================================================================\n",
       "                    coef    std err          t      P>|t|      [0.025      0.975]\n",
       "---------------------------------------------------------------------------------\n",
       "Intercept      4.996e+04    221.278    225.780      0.000    4.95e+04    5.04e+04\n",
       "College        3.041e+04    335.519     90.623      0.000    2.97e+04    3.11e+04\n",
       "Family_Status   1.98e+04    342.263     57.864      0.000    1.91e+04    2.05e+04\n",
       "==============================================================================\n",
       "Omnibus:                        1.170   Durbin-Watson:                   2.050\n",
       "Prob(Omnibus):                  0.557   Jarque-Bera (JB):                1.054\n",
       "Skew:                           0.025   Prob(JB):                        0.590\n",
       "Kurtosis:                       3.151   Cond. No.                         3.09\n",
       "==============================================================================\n",
       "\n",
       "Notes:\n",
       "[1] Standard Errors assume that the covariance matrix of the errors is correctly specified.\n",
       "\"\"\""
      ]
     },
     "execution_count": 17,
     "metadata": {},
     "output_type": "execute_result"
    }
   ],
   "source": [
    "ols=sm.ols(formula='Income_Observe~College+Family_Status', data=df).fit()\n",
    "ols.summary()"
   ]
  },
  {
   "cell_type": "markdown",
   "metadata": {
    "id": "0E19KQgEkFYk"
   },
   "source": [
    "## Other Topics for Midterm"
   ]
  },
  {
   "cell_type": "markdown",
   "metadata": {
    "id": "JBq6zrZ0sbfE"
   },
   "source": [
    "\n",
    "\n",
    "*   (Conditional/Joint) Distribution\n",
    "*   Expectation\n",
    "*   Variance\n",
    "*   LIE\n",
    "*   WLLN\n",
    "*   CLT\n",
    "*   hypothesis testing\n",
    "*   p-value\n",
    "*   confidence interval\n",
    "*   experiment\n",
    "*   (descriptive/causal) (simple/multiple) linear regression\n",
    "\n",
    "How are these things related to causality (e.g., identification and estimation)? What assumptions did we make?\n",
    "\n",
    "For instance, LIE was used frequently in some of the derivations on identifiability for causal (multiple) linear regression.\n",
    "\n",
    "\\begin{align*}\n",
    "E[V] &= E[U - E[U | S, C]] \\\\\n",
    "     &= E[U] - E[E[U | S, C]] \\\\\n",
    "     &= E[U] - E[U] \\quad (\\text{LIE})\\\\\n",
    "     &= 0\n",
    "\\end{align*}\n",
    "\n",
    "and\n",
    "\n",
    "\\begin{align*}\n",
    "E[VS] &= E\\left[(U - E[U | S, C]) S \\right] \\\\\n",
    "      &= E[US - E[U | S, C] S] \\\\\n",
    "      &= E[US] - E[E[US | S, C]] \\\\\n",
    "      &= E[US] - E[US] \\quad (\\text{LIE}) \\\\\n",
    "      &= 0\n",
    "\\end{align*}\n",
    "\n",
    "Review session on Monday."
   ]
  },
  {
   "cell_type": "markdown",
   "metadata": {
    "id": "dNHyBhPEnfWH"
   },
   "source": [
    "Good luck on your midterm next week!"
   ]
  },
  {
   "cell_type": "markdown",
   "metadata": {},
   "source": []
  }
 ],
 "metadata": {
  "colab": {
   "provenance": [],
   "toc_visible": true
  },
  "kernelspec": {
   "display_name": "Python 3",
   "name": "python3"
  },
  "language_info": {
   "codemirror_mode": {
    "name": "ipython",
    "version": 3
   },
   "file_extension": ".py",
   "mimetype": "text/x-python",
   "name": "python",
   "nbconvert_exporter": "python",
   "pygments_lexer": "ipython3",
   "version": "3.12.8"
  }
 },
 "nbformat": 4,
 "nbformat_minor": 0
}