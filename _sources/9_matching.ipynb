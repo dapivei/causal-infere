{
 "cells": [
  {
   "cell_type": "markdown",
   "metadata": {},
   "source": [
    "\n",
    "<div align=\"center\">\n",
    "\n",
    "[![Open in Colab](https://colab.research.google.com/assets/colab-badge.svg)](https://colab.research.google.com/github/dapivei/causal-infere/blob/main/sections/9_matching.ipynb)\n",
    "\n",
    "</div>\n",
    "\n",
    "\n",
    "\n",
    "\n"
   ]
  },
  {
   "cell_type": "markdown",
   "metadata": {},
   "source": [
    "$$\n",
    "\\begin{array}{c}\n",
    "\\textbf{INTRODUCTION TO CAUSAL INFERENCE}\\\\\\\\\\\\\\\\\n",
    "\\textbf{Daniela Pinto Veizaga, Xiang Pan, and Xiang Gao} \\\\\n",
    "\\textit{Center for Data Science, New York University} \\\\\\\\\\\\\n",
    "\\textit{Lab 9 Control Variables}\n",
    "\\end{array}\n",
    "$$\n",
    "---\n",
    "\n"
   ]
  },
  {
   "cell_type": "markdown",
   "metadata": {},
   "source": [
    "# Control Variables"
   ]
  },
  {
   "cell_type": "markdown",
   "metadata": {},
   "source": [
    "## High level idea\n",
    "\n",
    "Why we want the control variables?\n",
    "- The treatment effect is random given the control variables."
   ]
  },
  {
   "cell_type": "markdown",
   "metadata": {},
   "source": [
    "$U$: other factors that affect the outcome.\n",
    "\n",
    "$Y$: outcome variable.\n",
    "\n",
    "$S$: treatment variable.\n",
    "\n"
   ]
  },
  {
   "cell_type": "markdown",
   "metadata": {},
   "source": [
    "If we have $U \\perp S$, then we can use descriptive variables to estimate the treatment effect.\n",
    "\n",
    "## Formal derivation\n",
    "\n",
    "$$\n",
    "Y(S, U) = \\alpha_0 + \\alpha_1 S + U\n",
    "$$"
   ]
  },
  {
   "cell_type": "markdown",
   "metadata": {},
   "source": [
    "Equivalent to:\n",
    "$U \\perp S | \\emptyset$\n"
   ]
  },
  {
   "cell_type": "markdown",
   "metadata": {},
   "source": [
    "If we have a non-empty set of control variables $C$, only by conditioning on $C$ we can make $U$ and $S$ independent.\n",
    "\n",
    "$U \\perp S | C$\n",
    "\n",
    "We can have \n",
    "$$\n",
    "\\mathbb{E}[U \\mid S, C] = \\mathbb{E}[U \\mid C]\n",
    "$$\n",
    "\n"
   ]
  },
  {
   "cell_type": "markdown",
   "metadata": {},
   "source": [
    "$$\n",
    "\\begin{aligned}\n",
    "V & \\equiv U-E[U \\mid S, C] \\\\\n",
    "& =U-E[U \\mid C] \\\\\n",
    "& =U-\\left(\\gamma_0+\\gamma_1 C\\right)\n",
    "\\end{aligned}\n",
    "$$\n",
    "\n",
    "$$\n",
    "U = V + \\gamma_0 + \\gamma_1 C\n",
    "$$\n",
    "\n",
    "\n"
   ]
  },
  {
   "cell_type": "markdown",
   "metadata": {},
   "source": [
    "$$\n",
    "\\begin{aligned}\n",
    "Y(S, U) & = \\alpha_0 + \\alpha_1 S + V + \\gamma_0 + \\gamma_1 C \\\\\n",
    "        & = (\\alpha_0 + \\gamma_0) + \\alpha_1 S + \\gamma_1 C + V \\\\\n",
    "        & = \\tilde{\\alpha}_0 + \\alpha_1 S + \\tilde{\\alpha}_2 C + V\n",
    "\\end{aligned}\n",
    "$$\n",
    "\n",
    "We peeled off the effect of $C$ from the $U$.\n"
   ]
  },
  {
   "cell_type": "markdown",
   "metadata": {},
   "source": [
    "# Conditional Independence Test"
   ]
  },
  {
   "cell_type": "markdown",
   "metadata": {},
   "source": [
    "If we know that if we have $U \\perp S | C$, and $U \\mid C$ is linear, then we can use the control variables to estimate the treatment effect.\n",
    "\n",
    "How should we test the assumption?"
   ]
  },
  {
   "cell_type": "markdown",
   "metadata": {},
   "source": [
    "1. Regression: Regress $U$ on $S$ given $C$.\n",
    "\n",
    "Given $C$, we can test if $\\gamma_1$ is statistically different from 0.\n",
    "$$\n",
    "U = \\gamma_0 + \\gamma_1 S+ \\epsilon\n",
    "$$\n",
    "\n",
    "\n"
   ]
  },
  {
   "cell_type": "markdown",
   "metadata": {},
   "source": [
    "2. Partial Correlation (continuous)\n",
    "\n",
    "$$\n",
    "r_{X Y \\mid Z}=\\frac{r_{X Y}-r_{X Z} \\cdot r_{Y Z}}{\\sqrt{\\left(1-r_{X Z}^2\\right)\\left(1-r_{Y Z}^2\\right)}}\n",
    "$$\n",
    "\n",
    "If we have CI, then $r_{S U \\mid C} = 0$."
   ]
  },
  {
   "cell_type": "markdown",
   "metadata": {},
   "source": [
    "high-dim continuous CI test is non-trivial."
   ]
  },
  {
   "cell_type": "markdown",
   "metadata": {},
   "source": [
    "# Matching"
   ]
  },
  {
   "cell_type": "markdown",
   "metadata": {},
   "source": [
    "To obtain treated and control groups with similar covariate distributions."
   ]
  },
  {
   "cell_type": "markdown",
   "metadata": {},
   "source": [
    "We have multiple subgroups based on the control variables, we can just\n",
    "\n",
    "$$\n",
    "\\begin{aligned}\n",
    "\\operatorname{Matching}\n",
    "& =  \\sum_{c \\in C} \\left( \\mathbb{E}[Y \\mid S=1, C = c] - \\mathbb{E}[Y \\mid S=0, C = c] \\right) \\cdot \\mathbb{P}(C = c)\n",
    "\\end{aligned}\n",
    "$$\n",
    "\n",
    "\n",
    "\n",
    "\n",
    "\n",
    "\n",
    "\n",
    "\n",
    "\n"
   ]
  },
  {
   "cell_type": "markdown",
   "metadata": {},
   "source": [
    "# Regression (weight is not the probability)\n"
   ]
  },
  {
   "cell_type": "markdown",
   "metadata": {},
   "source": [
    "\\begin{align}\n",
    "\\alpha_1=\\sum_{k=1}^K E\\left[Y(S=1, U)-Y(S=0, U) \\mid \\mathbf{C}=\\mathbf{c}_k\\right] W\\left(\\mathbf{C}=\\mathbf{c}_k\\right)\n",
    "\\end{align}"
   ]
  },
  {
   "cell_type": "markdown",
   "metadata": {},
   "source": [
    "$W$ is the weight of the subgroup, which might not be the same as the probability of the subgroup.\n",
    "\n",
    "$$\n",
    "\\begin{aligned}\n",
    "W(C = c_k) \\neq \\mathbb{P}(C = c_k)\n",
    "\\end{aligned}\n",
    "$$\n",
    "\n"
   ]
  },
  {
   "cell_type": "markdown",
   "metadata": {},
   "source": [
    "Say we have two groups, 1 and 2.\n",
    "What we are doing is to estimate $\\beta$ (we are using the traditional linear regression notation here).\n",
    "\n",
    "$$\n",
    "Y = X \\beta + \\epsilon\n",
    "$$\n",
    "\n",
    "\n",
    "\n",
    "\n",
    "\n",
    "\\begin{align}\n",
    "X=\\left[\\begin{array}{l}\n",
    "X_1 \\\\\n",
    "X_2\n",
    "\\end{array}\\right] \\quad \\text { and } \\quad Y=\\left[\\begin{array}{l}\n",
    "Y_1 \\\\\n",
    "Y_2\n",
    "\\end{array}\\right]\n",
    "\\end{align}"
   ]
  },
  {
   "cell_type": "markdown",
   "metadata": {},
   "source": [
    "\\begin{align}\n",
    "X^T X=X_1^T X_1+X_2^T X_2 \\quad \\text { and } \\quad X^T Y=X_1^T Y_1+X_2^T Y_2\n",
    "\\end{align}"
   ]
  },
  {
   "cell_type": "markdown",
   "metadata": {},
   "source": [
    "\\begin{align}\n",
    "\\hat{\\beta}_{\\text {pooled }}=\\left(X_1^T X_1+X_2^T X_2\\right)^{-1}\\left(X_1^T Y_1+X_2^T Y_2\\right)\n",
    "\\end{align}"
   ]
  },
  {
   "cell_type": "markdown",
   "metadata": {},
   "source": [
    "\\begin{align}\n",
    "\\hat{\\beta}_{\\text {pooled }}=W_1 \\hat{\\beta}_1+W_2 \\hat{\\beta}_2\n",
    "\\end{align}"
   ]
  },
  {
   "cell_type": "markdown",
   "metadata": {},
   "source": [
    "\\begin{align}\n",
    "\\hat{\\beta}_1=\\left(X_1^T X_1\\right)^{-1} X_1^T Y_1 \\quad \\text { and } \\quad \\hat{\\beta}_2=\\left(X_2^T X_2\\right)^{-1} X_2^T Y_2\n",
    "\\end{align}"
   ]
  },
  {
   "cell_type": "markdown",
   "metadata": {},
   "source": [
    "\\begin{align}\n",
    "\\hat{\\beta}_{\\text {pooled }}=\\left(X_1^T X_1+X_2^T X_2\\right)^{-1}\\left(X_1^T X_1 \\hat{\\beta}_1+X_2^T X_2 \\hat{\\beta}_2\\right)\n",
    "\\end{align}"
   ]
  },
  {
   "cell_type": "markdown",
   "metadata": {},
   "source": [
    "\\begin{align}\n",
    "W_1=\\left(X_1^T X_1+X_2^T X_2\\right)^{-1} X_1^T X_1\n",
    "\\end{align}"
   ]
  },
  {
   "cell_type": "markdown",
   "metadata": {},
   "source": [
    "\\begin{align}\n",
    "W_2=\\left(X_1^T X_1+X_2^T X_2\\right)^{-1} X_2^T X_2\n",
    "\\end{align}"
   ]
  },
  {
   "cell_type": "markdown",
   "metadata": {},
   "source": [
    "Map back to our problem, the $X$ is the treatment variable, and the $Y$ is the outcome variable.\n",
    "\n",
    "So larger treatment variance will have larger weight."
   ]
  },
  {
   "cell_type": "markdown",
   "metadata": {},
   "source": [
    "## Curse of Dimensionality (matching)"
   ]
  },
  {
   "cell_type": "markdown",
   "metadata": {},
   "source": [
    "If you have large number of control variables, say k, and we assume the control variables are binary, then the number of subgroups you need to match is $2^k$."
   ]
  },
  {
   "cell_type": "markdown",
   "metadata": {},
   "source": [
    "If you have continuous control variables, you can discretize them into bins, and the number of subgroups you need to match is the number of bins.\n",
    "1. What if there is only one in the bin?\n",
    "   1. Increase the size of the bin (less accurate, loss of information)\n",
    "   2. Remove the data point (less observations)\n"
   ]
  }
 ],
 "metadata": {
  "kernelspec": {
   "display_name": "312",
   "language": "python",
   "name": "python3"
  },
  "language_info": {
   "codemirror_mode": {
    "name": "ipython",
    "version": 3
   },
   "file_extension": ".py",
   "mimetype": "text/x-python",
   "name": "python",
   "nbconvert_exporter": "python",
   "pygments_lexer": "ipython3",
   "version": "3.12.0"
  }
 },
 "nbformat": 4,
 "nbformat_minor": 2
}
