{
  "nbformat": 4,
  "nbformat_minor": 0,
  "metadata": {
    "colab": {
      "provenance": []
    },
    "kernelspec": {
      "name": "python3",
      "display_name": "Python 3"
    },
    "language_info": {
      "name": "python"
    }
  },
  "cells": [
    {
      "cell_type": "markdown",
      "source": [
        "$$\n",
        "\\begin{array}{c}\n",
        "\\textbf{CONTINUING STATISTICS AND INTRODUCTION TO EXPERIMENTS}\\\\\\\\\\\\\\\\\n",
        "\\textbf{Daniela Pinto Veizaga, Xiang Pan, and Xiang Gao} \\\\\n",
        "\\textit{Center for Data Science, New York University} \\\\\\\\\\\\\n",
        "\\textit{September 27, 2024}\n",
        "\\end{array}\n",
        "$$\n"
      ],
      "metadata": {
        "id": "GPau7AFi1qqc"
      }
    },
    {
      "cell_type": "markdown",
      "source": [
        "## 0. Recap From Last Class\n",
        "- Fundamental concepts in statistics, such as samples, estimators, it's properties and the central limit theorem."
      ],
      "metadata": {
        "id": "h5UxbOWB2Cg5"
      }
    },
    {
      "cell_type": "markdown",
      "source": [
        "## 1. Goals For Today\n",
        "- Review hypothesis testing and errors, introduce experiments for causal inference, and apply these ideas to evaluate job training programs' impact on wages using a real-world case study.\n"
      ],
      "metadata": {
        "id": "df41JI9X2JNM"
      }
    },
    {
      "cell_type": "markdown",
      "source": [
        "## 2. Motivating Case: The Effect of a Training Program on Wages\n",
        "\n",
        "\n",
        "Experiments are a powerful method for conducting causal inference across various fields. Randomized Controlled Trials (RCTs) are especially useful because they allow us to study the effect of a treatment by randomly assigning it to different units. Let's explore an experiment in the context of job training programs."
      ],
      "metadata": {
        "id": "RSxNh_C52dRv"
      }
    },
    {
      "cell_type": "markdown",
      "source": [
        "\n",
        "### 2.1) Context\n",
        "\n",
        "In the 1970s, the National Supported Work (NSW) Demonstration rolled out a big job training program to help people who were struggling to find or keep a job. The program offered not only guaranteed employment but also some handy counseling to give participants a boost.\n",
        "\n",
        "Because participants were randomly assigned to either get the job training or not, this creates a _natural experiment_. Random assignment helps us be more confident that any differences in wages between the two groups are due to the job training itself, not other factors. You can read more about it [here](https://econpapers.repec.org/article/aeaaecrev/v_3a76_3ay_3a1986_3ai_3a4_3ap_3a604-20.htm).\n",
        "\n",
        "### 2.2) Data\n",
        "\n",
        "The dataset for the NSW experiment consisted of two groups, _treated_ participants who were enrolled in the job training program, and _control_ individuals who were eligible but did not receive the job training.\n",
        "\n",
        "The dataset from the NSW experiment includes:\n",
        "\n",
        "- Treatment Indicator: 1 if the individual received job training, 0 if not. Denoted by $\\text{treat}$.\n",
        "\n",
        "- Outcome: The outcomes of interest is the annual wages in 1974, 1975, and 1978, denoted as $\\text{re74}, \\text{re75}$, and $\\text{re78}$ respectively.\n",
        "- Other Factors: Variables that may affect wages such as age, education, race, marital status, and prior earnings.\n",
        "\n",
        "\n",
        "\n",
        "More on the data can be found [here](https://search.r-project.org/CRAN/refmans/designmatch/html/lalonde.html)\n",
        "\n"
      ],
      "metadata": {
        "id": "Prbhkv0DPeU3"
      }
    },
    {
      "cell_type": "code",
      "source": [
        "import pandas as pd\n",
        "\n",
        "url_base = 'http://www.nber.org/~rdehejia/data/nswre74_'\n",
        "cols = ['treat', 'age', 'educ', 'black', 'hisp', 'married', 'nodegr', 're74', 're75', 're78']\n",
        "dfs = [pd.read_csv(f'{url_base}{group}.txt', sep='\\s+', header=None, names=cols) for group in ['control', 'treated']]\n",
        "data = pd.concat(dfs, ignore_index=True)\n",
        "# Add binary indicators for zero income in 1974 and 1975\n",
        "data[['u74', 'u75']] = (data[['re74', 're75']] == 0).astype(float)"
      ],
      "metadata": {
        "id": "Oq3RMDk7at69"
      },
      "execution_count": 25,
      "outputs": []
    },
    {
      "cell_type": "code",
      "source": [
        "# Summary statistics of the dataset\n",
        "data.describe()"
      ],
      "metadata": {
        "colab": {
          "base_uri": "https://localhost:8080/",
          "height": 300
        },
        "id": "i2WRKq_qb3rY",
        "outputId": "883591b4-01d0-457c-e517-f50745390359"
      },
      "execution_count": 26,
      "outputs": [
        {
          "output_type": "execute_result",
          "data": {
            "text/plain": [
              "            treat         age        educ       black       hisp     married  \\\n",
              "count  445.000000  445.000000  445.000000  445.000000  445.00000  445.000000   \n",
              "mean     0.415730   25.370787   10.195506    0.833708    0.08764    0.168539   \n",
              "std      0.493402    7.100282    1.792119    0.372762    0.28309    0.374766   \n",
              "min      0.000000   17.000000    3.000000    0.000000    0.00000    0.000000   \n",
              "25%      0.000000   20.000000    9.000000    1.000000    0.00000    0.000000   \n",
              "50%      0.000000   24.000000   10.000000    1.000000    0.00000    0.000000   \n",
              "75%      1.000000   28.000000   11.000000    1.000000    0.00000    0.000000   \n",
              "max      1.000000   55.000000   16.000000    1.000000    1.00000    1.000000   \n",
              "\n",
              "           nodegr          re74          re75          re78         u74  \\\n",
              "count  445.000000    445.000000    445.000000    445.000000  445.000000   \n",
              "mean     0.782022   2102.265311   1377.138368   5300.763699    0.732584   \n",
              "std      0.413337   5363.582400   3150.960771   6631.491695    0.443109   \n",
              "min      0.000000      0.000000      0.000000      0.000000    0.000000   \n",
              "25%      1.000000      0.000000      0.000000      0.000000    0.000000   \n",
              "50%      1.000000      0.000000      0.000000   3701.812000    1.000000   \n",
              "75%      1.000000    824.388900   1220.836000   8124.715000    1.000000   \n",
              "max      1.000000  39570.680000  25142.240000  60307.930000    1.000000   \n",
              "\n",
              "              u75  \n",
              "count  445.000000  \n",
              "mean     0.649438  \n",
              "std      0.477683  \n",
              "min      0.000000  \n",
              "25%      0.000000  \n",
              "50%      1.000000  \n",
              "75%      1.000000  \n",
              "max      1.000000  "
            ],
            "text/html": [
              "\n",
              "  <div id=\"df-7512e6f0-1f62-4db0-aab9-8bab7f27522a\" class=\"colab-df-container\">\n",
              "    <div>\n",
              "<style scoped>\n",
              "    .dataframe tbody tr th:only-of-type {\n",
              "        vertical-align: middle;\n",
              "    }\n",
              "\n",
              "    .dataframe tbody tr th {\n",
              "        vertical-align: top;\n",
              "    }\n",
              "\n",
              "    .dataframe thead th {\n",
              "        text-align: right;\n",
              "    }\n",
              "</style>\n",
              "<table border=\"1\" class=\"dataframe\">\n",
              "  <thead>\n",
              "    <tr style=\"text-align: right;\">\n",
              "      <th></th>\n",
              "      <th>treat</th>\n",
              "      <th>age</th>\n",
              "      <th>educ</th>\n",
              "      <th>black</th>\n",
              "      <th>hisp</th>\n",
              "      <th>married</th>\n",
              "      <th>nodegr</th>\n",
              "      <th>re74</th>\n",
              "      <th>re75</th>\n",
              "      <th>re78</th>\n",
              "      <th>u74</th>\n",
              "      <th>u75</th>\n",
              "    </tr>\n",
              "  </thead>\n",
              "  <tbody>\n",
              "    <tr>\n",
              "      <th>count</th>\n",
              "      <td>445.000000</td>\n",
              "      <td>445.000000</td>\n",
              "      <td>445.000000</td>\n",
              "      <td>445.000000</td>\n",
              "      <td>445.00000</td>\n",
              "      <td>445.000000</td>\n",
              "      <td>445.000000</td>\n",
              "      <td>445.000000</td>\n",
              "      <td>445.000000</td>\n",
              "      <td>445.000000</td>\n",
              "      <td>445.000000</td>\n",
              "      <td>445.000000</td>\n",
              "    </tr>\n",
              "    <tr>\n",
              "      <th>mean</th>\n",
              "      <td>0.415730</td>\n",
              "      <td>25.370787</td>\n",
              "      <td>10.195506</td>\n",
              "      <td>0.833708</td>\n",
              "      <td>0.08764</td>\n",
              "      <td>0.168539</td>\n",
              "      <td>0.782022</td>\n",
              "      <td>2102.265311</td>\n",
              "      <td>1377.138368</td>\n",
              "      <td>5300.763699</td>\n",
              "      <td>0.732584</td>\n",
              "      <td>0.649438</td>\n",
              "    </tr>\n",
              "    <tr>\n",
              "      <th>std</th>\n",
              "      <td>0.493402</td>\n",
              "      <td>7.100282</td>\n",
              "      <td>1.792119</td>\n",
              "      <td>0.372762</td>\n",
              "      <td>0.28309</td>\n",
              "      <td>0.374766</td>\n",
              "      <td>0.413337</td>\n",
              "      <td>5363.582400</td>\n",
              "      <td>3150.960771</td>\n",
              "      <td>6631.491695</td>\n",
              "      <td>0.443109</td>\n",
              "      <td>0.477683</td>\n",
              "    </tr>\n",
              "    <tr>\n",
              "      <th>min</th>\n",
              "      <td>0.000000</td>\n",
              "      <td>17.000000</td>\n",
              "      <td>3.000000</td>\n",
              "      <td>0.000000</td>\n",
              "      <td>0.00000</td>\n",
              "      <td>0.000000</td>\n",
              "      <td>0.000000</td>\n",
              "      <td>0.000000</td>\n",
              "      <td>0.000000</td>\n",
              "      <td>0.000000</td>\n",
              "      <td>0.000000</td>\n",
              "      <td>0.000000</td>\n",
              "    </tr>\n",
              "    <tr>\n",
              "      <th>25%</th>\n",
              "      <td>0.000000</td>\n",
              "      <td>20.000000</td>\n",
              "      <td>9.000000</td>\n",
              "      <td>1.000000</td>\n",
              "      <td>0.00000</td>\n",
              "      <td>0.000000</td>\n",
              "      <td>1.000000</td>\n",
              "      <td>0.000000</td>\n",
              "      <td>0.000000</td>\n",
              "      <td>0.000000</td>\n",
              "      <td>0.000000</td>\n",
              "      <td>0.000000</td>\n",
              "    </tr>\n",
              "    <tr>\n",
              "      <th>50%</th>\n",
              "      <td>0.000000</td>\n",
              "      <td>24.000000</td>\n",
              "      <td>10.000000</td>\n",
              "      <td>1.000000</td>\n",
              "      <td>0.00000</td>\n",
              "      <td>0.000000</td>\n",
              "      <td>1.000000</td>\n",
              "      <td>0.000000</td>\n",
              "      <td>0.000000</td>\n",
              "      <td>3701.812000</td>\n",
              "      <td>1.000000</td>\n",
              "      <td>1.000000</td>\n",
              "    </tr>\n",
              "    <tr>\n",
              "      <th>75%</th>\n",
              "      <td>1.000000</td>\n",
              "      <td>28.000000</td>\n",
              "      <td>11.000000</td>\n",
              "      <td>1.000000</td>\n",
              "      <td>0.00000</td>\n",
              "      <td>0.000000</td>\n",
              "      <td>1.000000</td>\n",
              "      <td>824.388900</td>\n",
              "      <td>1220.836000</td>\n",
              "      <td>8124.715000</td>\n",
              "      <td>1.000000</td>\n",
              "      <td>1.000000</td>\n",
              "    </tr>\n",
              "    <tr>\n",
              "      <th>max</th>\n",
              "      <td>1.000000</td>\n",
              "      <td>55.000000</td>\n",
              "      <td>16.000000</td>\n",
              "      <td>1.000000</td>\n",
              "      <td>1.00000</td>\n",
              "      <td>1.000000</td>\n",
              "      <td>1.000000</td>\n",
              "      <td>39570.680000</td>\n",
              "      <td>25142.240000</td>\n",
              "      <td>60307.930000</td>\n",
              "      <td>1.000000</td>\n",
              "      <td>1.000000</td>\n",
              "    </tr>\n",
              "  </tbody>\n",
              "</table>\n",
              "</div>\n",
              "    <div class=\"colab-df-buttons\">\n",
              "\n",
              "  <div class=\"colab-df-container\">\n",
              "    <button class=\"colab-df-convert\" onclick=\"convertToInteractive('df-7512e6f0-1f62-4db0-aab9-8bab7f27522a')\"\n",
              "            title=\"Convert this dataframe to an interactive table.\"\n",
              "            style=\"display:none;\">\n",
              "\n",
              "  <svg xmlns=\"http://www.w3.org/2000/svg\" height=\"24px\" viewBox=\"0 -960 960 960\">\n",
              "    <path d=\"M120-120v-720h720v720H120Zm60-500h600v-160H180v160Zm220 220h160v-160H400v160Zm0 220h160v-160H400v160ZM180-400h160v-160H180v160Zm440 0h160v-160H620v160ZM180-180h160v-160H180v160Zm440 0h160v-160H620v160Z\"/>\n",
              "  </svg>\n",
              "    </button>\n",
              "\n",
              "  <style>\n",
              "    .colab-df-container {\n",
              "      display:flex;\n",
              "      gap: 12px;\n",
              "    }\n",
              "\n",
              "    .colab-df-convert {\n",
              "      background-color: #E8F0FE;\n",
              "      border: none;\n",
              "      border-radius: 50%;\n",
              "      cursor: pointer;\n",
              "      display: none;\n",
              "      fill: #1967D2;\n",
              "      height: 32px;\n",
              "      padding: 0 0 0 0;\n",
              "      width: 32px;\n",
              "    }\n",
              "\n",
              "    .colab-df-convert:hover {\n",
              "      background-color: #E2EBFA;\n",
              "      box-shadow: 0px 1px 2px rgba(60, 64, 67, 0.3), 0px 1px 3px 1px rgba(60, 64, 67, 0.15);\n",
              "      fill: #174EA6;\n",
              "    }\n",
              "\n",
              "    .colab-df-buttons div {\n",
              "      margin-bottom: 4px;\n",
              "    }\n",
              "\n",
              "    [theme=dark] .colab-df-convert {\n",
              "      background-color: #3B4455;\n",
              "      fill: #D2E3FC;\n",
              "    }\n",
              "\n",
              "    [theme=dark] .colab-df-convert:hover {\n",
              "      background-color: #434B5C;\n",
              "      box-shadow: 0px 1px 3px 1px rgba(0, 0, 0, 0.15);\n",
              "      filter: drop-shadow(0px 1px 2px rgba(0, 0, 0, 0.3));\n",
              "      fill: #FFFFFF;\n",
              "    }\n",
              "  </style>\n",
              "\n",
              "    <script>\n",
              "      const buttonEl =\n",
              "        document.querySelector('#df-7512e6f0-1f62-4db0-aab9-8bab7f27522a button.colab-df-convert');\n",
              "      buttonEl.style.display =\n",
              "        google.colab.kernel.accessAllowed ? 'block' : 'none';\n",
              "\n",
              "      async function convertToInteractive(key) {\n",
              "        const element = document.querySelector('#df-7512e6f0-1f62-4db0-aab9-8bab7f27522a');\n",
              "        const dataTable =\n",
              "          await google.colab.kernel.invokeFunction('convertToInteractive',\n",
              "                                                    [key], {});\n",
              "        if (!dataTable) return;\n",
              "\n",
              "        const docLinkHtml = 'Like what you see? Visit the ' +\n",
              "          '<a target=\"_blank\" href=https://colab.research.google.com/notebooks/data_table.ipynb>data table notebook</a>'\n",
              "          + ' to learn more about interactive tables.';\n",
              "        element.innerHTML = '';\n",
              "        dataTable['output_type'] = 'display_data';\n",
              "        await google.colab.output.renderOutput(dataTable, element);\n",
              "        const docLink = document.createElement('div');\n",
              "        docLink.innerHTML = docLinkHtml;\n",
              "        element.appendChild(docLink);\n",
              "      }\n",
              "    </script>\n",
              "  </div>\n",
              "\n",
              "\n",
              "<div id=\"df-c9128152-b7ce-4920-b753-31d088ba4cae\">\n",
              "  <button class=\"colab-df-quickchart\" onclick=\"quickchart('df-c9128152-b7ce-4920-b753-31d088ba4cae')\"\n",
              "            title=\"Suggest charts\"\n",
              "            style=\"display:none;\">\n",
              "\n",
              "<svg xmlns=\"http://www.w3.org/2000/svg\" height=\"24px\"viewBox=\"0 0 24 24\"\n",
              "     width=\"24px\">\n",
              "    <g>\n",
              "        <path d=\"M19 3H5c-1.1 0-2 .9-2 2v14c0 1.1.9 2 2 2h14c1.1 0 2-.9 2-2V5c0-1.1-.9-2-2-2zM9 17H7v-7h2v7zm4 0h-2V7h2v10zm4 0h-2v-4h2v4z\"/>\n",
              "    </g>\n",
              "</svg>\n",
              "  </button>\n",
              "\n",
              "<style>\n",
              "  .colab-df-quickchart {\n",
              "      --bg-color: #E8F0FE;\n",
              "      --fill-color: #1967D2;\n",
              "      --hover-bg-color: #E2EBFA;\n",
              "      --hover-fill-color: #174EA6;\n",
              "      --disabled-fill-color: #AAA;\n",
              "      --disabled-bg-color: #DDD;\n",
              "  }\n",
              "\n",
              "  [theme=dark] .colab-df-quickchart {\n",
              "      --bg-color: #3B4455;\n",
              "      --fill-color: #D2E3FC;\n",
              "      --hover-bg-color: #434B5C;\n",
              "      --hover-fill-color: #FFFFFF;\n",
              "      --disabled-bg-color: #3B4455;\n",
              "      --disabled-fill-color: #666;\n",
              "  }\n",
              "\n",
              "  .colab-df-quickchart {\n",
              "    background-color: var(--bg-color);\n",
              "    border: none;\n",
              "    border-radius: 50%;\n",
              "    cursor: pointer;\n",
              "    display: none;\n",
              "    fill: var(--fill-color);\n",
              "    height: 32px;\n",
              "    padding: 0;\n",
              "    width: 32px;\n",
              "  }\n",
              "\n",
              "  .colab-df-quickchart:hover {\n",
              "    background-color: var(--hover-bg-color);\n",
              "    box-shadow: 0 1px 2px rgba(60, 64, 67, 0.3), 0 1px 3px 1px rgba(60, 64, 67, 0.15);\n",
              "    fill: var(--button-hover-fill-color);\n",
              "  }\n",
              "\n",
              "  .colab-df-quickchart-complete:disabled,\n",
              "  .colab-df-quickchart-complete:disabled:hover {\n",
              "    background-color: var(--disabled-bg-color);\n",
              "    fill: var(--disabled-fill-color);\n",
              "    box-shadow: none;\n",
              "  }\n",
              "\n",
              "  .colab-df-spinner {\n",
              "    border: 2px solid var(--fill-color);\n",
              "    border-color: transparent;\n",
              "    border-bottom-color: var(--fill-color);\n",
              "    animation:\n",
              "      spin 1s steps(1) infinite;\n",
              "  }\n",
              "\n",
              "  @keyframes spin {\n",
              "    0% {\n",
              "      border-color: transparent;\n",
              "      border-bottom-color: var(--fill-color);\n",
              "      border-left-color: var(--fill-color);\n",
              "    }\n",
              "    20% {\n",
              "      border-color: transparent;\n",
              "      border-left-color: var(--fill-color);\n",
              "      border-top-color: var(--fill-color);\n",
              "    }\n",
              "    30% {\n",
              "      border-color: transparent;\n",
              "      border-left-color: var(--fill-color);\n",
              "      border-top-color: var(--fill-color);\n",
              "      border-right-color: var(--fill-color);\n",
              "    }\n",
              "    40% {\n",
              "      border-color: transparent;\n",
              "      border-right-color: var(--fill-color);\n",
              "      border-top-color: var(--fill-color);\n",
              "    }\n",
              "    60% {\n",
              "      border-color: transparent;\n",
              "      border-right-color: var(--fill-color);\n",
              "    }\n",
              "    80% {\n",
              "      border-color: transparent;\n",
              "      border-right-color: var(--fill-color);\n",
              "      border-bottom-color: var(--fill-color);\n",
              "    }\n",
              "    90% {\n",
              "      border-color: transparent;\n",
              "      border-bottom-color: var(--fill-color);\n",
              "    }\n",
              "  }\n",
              "</style>\n",
              "\n",
              "  <script>\n",
              "    async function quickchart(key) {\n",
              "      const quickchartButtonEl =\n",
              "        document.querySelector('#' + key + ' button');\n",
              "      quickchartButtonEl.disabled = true;  // To prevent multiple clicks.\n",
              "      quickchartButtonEl.classList.add('colab-df-spinner');\n",
              "      try {\n",
              "        const charts = await google.colab.kernel.invokeFunction(\n",
              "            'suggestCharts', [key], {});\n",
              "      } catch (error) {\n",
              "        console.error('Error during call to suggestCharts:', error);\n",
              "      }\n",
              "      quickchartButtonEl.classList.remove('colab-df-spinner');\n",
              "      quickchartButtonEl.classList.add('colab-df-quickchart-complete');\n",
              "    }\n",
              "    (() => {\n",
              "      let quickchartButtonEl =\n",
              "        document.querySelector('#df-c9128152-b7ce-4920-b753-31d088ba4cae button');\n",
              "      quickchartButtonEl.style.display =\n",
              "        google.colab.kernel.accessAllowed ? 'block' : 'none';\n",
              "    })();\n",
              "  </script>\n",
              "</div>\n",
              "\n",
              "    </div>\n",
              "  </div>\n"
            ],
            "application/vnd.google.colaboratory.intrinsic+json": {
              "type": "dataframe",
              "summary": "{\n  \"name\": \"data\",\n  \"rows\": 8,\n  \"fields\": [\n    {\n      \"column\": \"treat\",\n      \"properties\": {\n        \"dtype\": \"number\",\n        \"std\": 157.18487404757425,\n        \"min\": 0.0,\n        \"max\": 445.0,\n        \"num_unique_values\": 5,\n        \"samples\": [\n          0.4157303370786517,\n          1.0,\n          0.49340216140983323\n        ],\n        \"semantic_type\": \"\",\n        \"description\": \"\"\n      }\n    },\n    {\n      \"column\": \"age\",\n      \"properties\": {\n        \"dtype\": \"number\",\n        \"std\": 149.05167111607852,\n        \"min\": 7.100282354606267,\n        \"max\": 445.0,\n        \"num_unique_values\": 8,\n        \"samples\": [\n          25.370786516853933,\n          24.0,\n          445.0\n        ],\n        \"semantic_type\": \"\",\n        \"description\": \"\"\n      }\n    },\n    {\n      \"column\": \"educ\",\n      \"properties\": {\n        \"dtype\": \"number\",\n        \"std\": 154.31703241758723,\n        \"min\": 1.7921192668870134,\n        \"max\": 445.0,\n        \"num_unique_values\": 8,\n        \"samples\": [\n          10.195505617977528,\n          10.0,\n          445.0\n        ],\n        \"semantic_type\": \"\",\n        \"description\": \"\"\n      }\n    },\n    {\n      \"column\": \"black\",\n      \"properties\": {\n        \"dtype\": \"number\",\n        \"std\": 157.06872966107971,\n        \"min\": 0.0,\n        \"max\": 445.0,\n        \"num_unique_values\": 5,\n        \"samples\": [\n          0.8337078651685393,\n          1.0,\n          0.3727617347065324\n        ],\n        \"semantic_type\": \"\",\n        \"description\": \"\"\n      }\n    },\n    {\n      \"column\": \"hisp\",\n      \"properties\": {\n        \"dtype\": \"number\",\n        \"std\": 157.26239866910072,\n        \"min\": 0.0,\n        \"max\": 445.0,\n        \"num_unique_values\": 5,\n        \"samples\": [\n          0.08764044943820225,\n          1.0,\n          0.28308954458271646\n        ],\n        \"semantic_type\": \"\",\n        \"description\": \"\"\n      }\n    },\n    {\n      \"column\": \"married\",\n      \"properties\": {\n        \"dtype\": \"number\",\n        \"std\": 157.2536865027272,\n        \"min\": 0.0,\n        \"max\": 445.0,\n        \"num_unique_values\": 5,\n        \"samples\": [\n          0.16853932584269662,\n          1.0,\n          0.3747658444979307\n        ],\n        \"semantic_type\": \"\",\n        \"description\": \"\"\n      }\n    },\n    {\n      \"column\": \"nodegr\",\n      \"properties\": {\n        \"dtype\": \"number\",\n        \"std\": 157.0692748555853,\n        \"min\": 0.0,\n        \"max\": 445.0,\n        \"num_unique_values\": 5,\n        \"samples\": [\n          0.7820224719101123,\n          1.0,\n          0.41333672924883913\n        ],\n        \"semantic_type\": \"\",\n        \"description\": \"\"\n      }\n    },\n    {\n      \"column\": \"re74\",\n      \"properties\": {\n        \"dtype\": \"number\",\n        \"std\": 13670.725740287548,\n        \"min\": 0.0,\n        \"max\": 39570.68,\n        \"num_unique_values\": 6,\n        \"samples\": [\n          445.0,\n          2102.265311460674,\n          39570.68\n        ],\n        \"semantic_type\": \"\",\n        \"description\": \"\"\n      }\n    },\n    {\n      \"column\": \"re75\",\n      \"properties\": {\n        \"dtype\": \"number\",\n        \"std\": 8642.926732957734,\n        \"min\": 0.0,\n        \"max\": 25142.24,\n        \"num_unique_values\": 6,\n        \"samples\": [\n          445.0,\n          1377.1383678426969,\n          25142.24\n        ],\n        \"semantic_type\": \"\",\n        \"description\": \"\"\n      }\n    },\n    {\n      \"column\": \"re78\",\n      \"properties\": {\n        \"dtype\": \"number\",\n        \"std\": 20340.862947807513,\n        \"min\": 0.0,\n        \"max\": 60307.93,\n        \"num_unique_values\": 7,\n        \"samples\": [\n          445.0,\n          5300.763698561798,\n          8124.715\n        ],\n        \"semantic_type\": \"\",\n        \"description\": \"\"\n      }\n    },\n    {\n      \"column\": \"u74\",\n      \"properties\": {\n        \"dtype\": \"number\",\n        \"std\": 157.1209191184378,\n        \"min\": 0.0,\n        \"max\": 445.0,\n        \"num_unique_values\": 5,\n        \"samples\": [\n          0.7325842696629213,\n          1.0,\n          0.44310922354001325\n        ],\n        \"semantic_type\": \"\",\n        \"description\": \"\"\n      }\n    },\n    {\n      \"column\": \"u75\",\n      \"properties\": {\n        \"dtype\": \"number\",\n        \"std\": 157.12336080877787,\n        \"min\": 0.0,\n        \"max\": 445.0,\n        \"num_unique_values\": 5,\n        \"samples\": [\n          0.6494382022471911,\n          1.0,\n          0.4776829387561825\n        ],\n        \"semantic_type\": \"\",\n        \"description\": \"\"\n      }\n    }\n  ]\n}"
            }
          },
          "metadata": {},
          "execution_count": 26
        }
      ]
    },
    {
      "cell_type": "code",
      "source": [
        "# Checking the distribution of the treatment variable\n",
        "print(data['treat'].value_counts())"
      ],
      "metadata": {
        "colab": {
          "base_uri": "https://localhost:8080/"
        },
        "id": "8zYvzd82b5S1",
        "outputId": "11e78dc9-50b3-4a83-934f-52e9f5259747"
      },
      "execution_count": 27,
      "outputs": [
        {
          "output_type": "stream",
          "name": "stdout",
          "text": [
            "treat\n",
            "0.0    260\n",
            "1.0    185\n",
            "Name: count, dtype: int64\n"
          ]
        }
      ]
    },
    {
      "cell_type": "markdown",
      "source": [
        "\n",
        "One way to verify the randomization worked properly is to ensure **covariate balance** between treated and control groups."
      ],
      "metadata": {
        "id": "qEocCnxqn0P3"
      }
    },
    {
      "cell_type": "code",
      "source": [
        "# Check balance in pre-treatment covariates\n",
        "covariates = ['age', 'educ', 're74', 're75']\n",
        "\n",
        "# Mean comparison of covariates\n",
        "print(\"Mean Comparison of Covariates:\")\n",
        "print(data.groupby('treat')[covariates].mean())"
      ],
      "metadata": {
        "colab": {
          "base_uri": "https://localhost:8080/"
        },
        "id": "6TUupySBnvQo",
        "outputId": "d46f9efc-0aa9-4352-8f10-c9366236bd2e"
      },
      "execution_count": 28,
      "outputs": [
        {
          "output_type": "stream",
          "name": "stdout",
          "text": [
            "Mean Comparison of Covariates:\n",
            "             age       educ         re74         re75\n",
            "treat                                                \n",
            "0.0    25.053846  10.088462  2107.026658  1266.909002\n",
            "1.0    25.816216  10.345946  2095.573689  1532.055314\n"
          ]
        }
      ]
    },
    {
      "cell_type": "markdown",
      "source": [
        "### 2.3) Average Treatment Effect (ATE)\n",
        "\n",
        "Before proceeding, we assume:\n",
        "\n",
        "+ _Perfect Compliance_: Everyone follows the assigned treatment, meaning each unit receives the treatment exactly as assigned. To evaluate this, check the treatment assignment and whether anyone received a treatment they were not assigned or did not receive a treatment they were assigned.\n",
        "+ _SUTVA (Stable Unit Treatment Value Assumption)_: Outcomes for one unit do not depend on the treatment status of others.\n",
        "\n",
        "Thus, the ATE can be estimated using the difference in means:\n",
        "  $$\n",
        "  \\text{ATE} = \\mathbb{E}[Y(1, U) - Y(0, U)]\n",
        "  $$\n",
        "\n",
        "  where:\n",
        "  - $Y(1, U) $ is the wage with treatment.\n",
        "  - $ Y(0, U) $ is the wage without treatment."
      ],
      "metadata": {
        "id": "nJ6PrrCqbiHE"
      }
    },
    {
      "cell_type": "code",
      "source": [
        "import matplotlib.pyplot as plt\n",
        "\n",
        "# Define colors and styles\n",
        "colors = ['#1f77b4', '#ff7f0e']\n",
        "labels = ['Treated', 'Control']\n",
        "\n",
        "# Create the histogram\n",
        "plt.figure(figsize=(10, 6))\n",
        "plt.hist(treated['re78'], bins=20, alpha=0.7, color=colors[0], edgecolor='black', label=labels[0])\n",
        "plt.hist(control['re78'], bins=20, alpha=0.7, color=colors[1], edgecolor='black', label=labels[1])\n",
        "\n",
        "# Add labels, title, and legend\n",
        "plt.xlabel('Earnings in 1978', fontsize=14)\n",
        "plt.ylabel('Frequency', fontsize=14)\n",
        "plt.title('Distribution of Earnings in 1978: Treated vs. Control', fontsize=16)\n",
        "plt.legend(loc='upper right', fontsize=12)\n",
        "plt.grid(axis='y', linestyle='--', alpha=0.7)\n",
        "\n",
        "# Show the plot\n",
        "plt.tight_layout()\n",
        "plt.show()\n"
      ],
      "metadata": {
        "colab": {
          "base_uri": "https://localhost:8080/",
          "height": 607
        },
        "id": "4wbcUCnCae_l",
        "outputId": "330ff0e5-6421-4d20-b617-643f8d2cd0da"
      },
      "execution_count": 29,
      "outputs": [
        {
          "output_type": "display_data",
          "data": {
            "text/plain": [
              "<Figure size 1000x600 with 1 Axes>"
            ],
            "image/png": "[encoded data removed]"
          },
          "metadata": {}
        }
      ]
    },
    {
      "cell_type": "code",
      "source": [
        "# Calculate the mean outcomes for treated and control groups\n",
        "mean_treated = treated['re78'].mean()\n",
        "mean_control = control['re78'].mean()\n",
        "\n",
        "# Calculate the ATE as the difference in means\n",
        "ate = mean_treated - mean_control\n",
        "print(f\"Estimated ATE (Difference in Means): {ate:.2f}\")"
      ],
      "metadata": {
        "colab": {
          "base_uri": "https://localhost:8080/"
        },
        "id": "VP5b6hC_mxJw",
        "outputId": "dbe45fe8-b386-4117-9155-35e6f00384db"
      },
      "execution_count": 30,
      "outputs": [
        {
          "output_type": "stream",
          "name": "stdout",
          "text": [
            "Estimated ATE (Difference in Means): 1794.34\n"
          ]
        }
      ]
    },
    {
      "cell_type": "markdown",
      "source": [
        "**Implications** On average, individuals who received the job training program earned $1794.34 more per year than those who did not receive the training. **How confident are we on this results?**"
      ],
      "metadata": {
        "id": "bA0F4FhvpJNb"
      }
    },
    {
      "cell_type": "markdown",
      "source": [
        "### 2.4) Assessing the Treatment Effects"
      ],
      "metadata": {
        "id": "9I0uCpQCox_A"
      }
    },
    {
      "cell_type": "markdown",
      "source": [
        "To determine if the job training program genuinely impacts outcomes such as wages, we use hypothesis testing to statistically validate our findings. This involves testing if observed effects are significant or due to chance, analyzing potential errors to ensure accuracy, and applying decision rules to guide our conclusions. This process ensures that our results are reliable and actionable, enabling informed decisions about the treatment’s effectiveness."
      ],
      "metadata": {
        "id": "YQfkZ7-NxdEF"
      }
    },
    {
      "cell_type": "markdown",
      "source": [
        "#### Hypothesis Testing for the ATE\n",
        "\n",
        "We are testing the Average Treatment Effect (ATE) to determine if job training programs have a significant impact on wages.\n",
        "\n",
        "\n",
        "- $H_0$: The treatment has no effect on the outcome.\n",
        "  $$\n",
        "  H_0: \\text{ATE} = 0\n",
        "  $$\n",
        "- $H_1$: The treatment has an effect on the outcome.\n",
        "  $$\n",
        "  H_1: \\text{ATE} \\neq 0\n",
        "  $$"
      ],
      "metadata": {
        "id": "pEpzsTCOleSu"
      }
    },
    {
      "cell_type": "markdown",
      "source": [
        "#### Standard Error (SE)\n",
        "The standard error of the difference in means is calculated as:\n",
        "  $$\n",
        "  \\text{SE} = \\sqrt{\\frac{\\text{Var}[Y_i(1)]}{n_{\\text{treated}}} + \\frac{\\text{Var}[Y_i(0)]}{n_{\\text{control}}}}\n",
        "  $$\n",
        "  where $\\text{Var}[Y_i(1)]$ and $\\text{Var}[Y_i(0)]$ are the variances of the outcome in the treated and control groups, respectively.\n",
        "\n",
        "#### Test Statistic ($ T_n$)\n",
        "\n",
        "This is computed as:\n",
        " $$\n",
        "  T_n = \\frac{\\text{ATE}}{\\text{SE}}\n",
        " $$\n",
        "  where $\\text{ATE} = \\mathbb{E}[Y_i(1)] - \\mathbb{E}[Y_i(0)]$.\n",
        "\n",
        "#### P-Value\n",
        "\n",
        "The probability of observing a test statistic as extreme as $T_n $ under the null hypothesis $ H_0 $:\n",
        "  $$\n",
        "  \\text{p-value} = 2 \\cdot \\left(1 - \\Phi(\\left|T_n\\right|)\\right)\n",
        "  $$\n",
        "  where $\\Phi$ is the CDF of the standard normal distribution."
      ],
      "metadata": {
        "id": "z4uorCPN4Iwi"
      }
    },
    {
      "cell_type": "code",
      "source": [
        "import numpy as np\n",
        "from scipy import stats\n",
        "\n",
        "# Calculate standard deviations and sample sizes\n",
        "std_treated = treated['re78'].std()\n",
        "std_control = control['re78'].std()\n",
        "n_treated = treated.shape[0]\n",
        "n_control = control.shape[0]\n",
        "\n",
        "# Standard error of the difference in means\n",
        "se = np.sqrt((std_treated**2 / n_treated) + (std_control**2 / n_control))\n",
        "\n",
        "# Test statistic\n",
        "t_stat = ate / se\n",
        "\n",
        "# p-value for two-sided test\n",
        "p_value = 2 * (1 - stats.norm.cdf(np.abs(t_stat)))\n",
        "print(f\"Test Statistic: {t_stat:.2f}\")\n",
        "print(f\"P-Value: {p_value:.4f}\")\n",
        "\n"
      ],
      "metadata": {
        "colab": {
          "base_uri": "https://localhost:8080/"
        },
        "id": "hrya7t6NdgDL",
        "outputId": "37f7e4dd-2400-40f3-de08-ca3f8044692c"
      },
      "execution_count": 31,
      "outputs": [
        {
          "output_type": "stream",
          "name": "stdout",
          "text": [
            "Test Statistic: 2.67\n",
            "P-Value: 0.0075\n"
          ]
        }
      ]
    },
    {
      "cell_type": "markdown",
      "source": [
        "\n",
        "\n",
        "#### Analyzing Error Types\n",
        "\n",
        "**Type I Error** (False Positive): Occurs if we reject $ H_0$ when $H_0 $ is true. This error is controlled by our significance level $\\alpha $.\n",
        "\n",
        "**Type II Error** (False Negative): Occurs if we fail to reject $ H_0 $ when $ H_0 $ is false. The probability of this error is related to the power of the test, which increases with the sample size and the magnitude of the treatment effect.\n",
        "\n",
        "####  Critical Value and Decision Rule\n",
        "- **Critical Value ($c$)**: The threshold for rejecting $H_0$, determined as:\n",
        "  $$\n",
        "  c = \\Phi^{-1}\\left(1 - \\frac{\\alpha}{2}\\right)\n",
        "  $$\n",
        "  where $\\Phi^{-1}$ is the inverse CDF of the standard normal distribution.\n",
        "\n",
        "- **Decision Rule**: We reject $ H_0 $if:\n",
        "  $$\n",
        "  \\left| T_n \\right| > c\n",
        "  $$\n"
      ],
      "metadata": {
        "id": "J_jpLjGS27My"
      }
    },
    {
      "cell_type": "code",
      "source": [
        "alpha = 0.05  # significance level\n",
        "\n",
        "# Determine the critical value for the given significance level\n",
        "critical_value = stats.norm.ppf(1 - alpha / 2)\n",
        "print(f\"Critical Value (c) for α={alpha}: {critical_value:.2f}\")\n",
        "\n",
        "# Decision Rule: Reject H0 if |Tn| > c\n",
        "reject_null = abs(t_stat) > critical_value\n",
        "print(f\"Reject Null Hypothesis (H0): {reject_null}\")\n",
        "\n",
        "# Interpretation of the ATE\n",
        "print(f\"Estimated ATE: ${ate:.2f}\")\n",
        "\n",
        "if p_value < alpha:\n",
        "    significance = \"significant\"\n",
        "else:\n",
        "    significance = \"not significant\"\n",
        "\n",
        "print(f\"The p-value of {p_value:.4f} indicates that the observed ATE is {significance} and suggests a significant impact of the treatment.\")\n"
      ],
      "metadata": {
        "colab": {
          "base_uri": "https://localhost:8080/"
        },
        "id": "-JeksqI432xl",
        "outputId": "44b16e18-1bcf-4a57-c948-3fcc0039da3d"
      },
      "execution_count": 32,
      "outputs": [
        {
          "output_type": "stream",
          "name": "stdout",
          "text": [
            "Critical Value (c) for α=0.05: 1.96\n",
            "Reject Null Hypothesis (H0): True\n",
            "Estimated ATE: $1794.34\n",
            "The p-value of 0.0075 indicates that the observed ATE is significant and suggests a significant impact of the treatment.\n"
          ]
        }
      ]
    },
    {
      "cell_type": "markdown",
      "source": [
        "## 3. Path Forward\n",
        "\n",
        "+ Advanced Experiment Designs: Learn about more complex setups like testing multiple factors at once or studying changes over time."
      ],
      "metadata": {
        "id": "QmpQQE9wWyv9"
      }
    }
  ]
}